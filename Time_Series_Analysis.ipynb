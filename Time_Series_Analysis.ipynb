{
  "nbformat": 4,
  "nbformat_minor": 0,
  "metadata": {
    "colab": {
      "name": "Time-Series Analysis",
      "provenance": [],
      "authorship_tag": "ABX9TyN/AD9tPkvlPg+/5euJw2sN",
      "include_colab_link": true
    },
    "kernelspec": {
      "name": "python3",
      "display_name": "Python 3"
    }
  },
  "cells": [
    {
      "cell_type": "markdown",
      "metadata": {
        "id": "view-in-github",
        "colab_type": "text"
      },
      "source": [
        "<a href=\"https://colab.research.google.com/github/TomAmster/Data-Science/blob/master/Time_Series_Analysis.ipynb\" target=\"_parent\"><img src=\"https://colab.research.google.com/assets/colab-badge.svg\" alt=\"Open In Colab\"/></a>"
      ]
    },
    {
      "cell_type": "code",
      "metadata": {
        "id": "Dg5iWD72kQPg",
        "colab_type": "code",
        "outputId": "4b412239-d50d-45ad-e8fa-88bafcaa6f36",
        "colab": {
          "base_uri": "https://localhost:8080/",
          "height": 122
        }
      },
      "source": [
        "from google.colab import drive\n",
        "drive.mount('/content/drive', force_remount=True)"
      ],
      "execution_count": 0,
      "outputs": [
        {
          "output_type": "stream",
          "text": [
            "Go to this URL in a browser: https://accounts.google.com/o/oauth2/auth?client_id=947318989803-6bn6qk8qdgf4n4g3pfee6491hc0brc4i.apps.googleusercontent.com&redirect_uri=urn%3aietf%3awg%3aoauth%3a2.0%3aoob&response_type=code&scope=email%20https%3a%2f%2fwww.googleapis.com%2fauth%2fdocs.test%20https%3a%2f%2fwww.googleapis.com%2fauth%2fdrive%20https%3a%2f%2fwww.googleapis.com%2fauth%2fdrive.photos.readonly%20https%3a%2f%2fwww.googleapis.com%2fauth%2fpeopleapi.readonly\n",
            "\n",
            "Enter your authorization code:\n",
            "··········\n",
            "Mounted at /content/drive\n"
          ],
          "name": "stdout"
        }
      ]
    },
    {
      "cell_type": "code",
      "metadata": {
        "id": "bqcaZ7x-kfs5",
        "colab_type": "code",
        "colab": {}
      },
      "source": [
        "import csv\n",
        "import pandas as pd\n",
        "import matplotlib.pyplot as plt\n",
        "import seaborn as sns \n",
        "import numpy as np"
      ],
      "execution_count": 0,
      "outputs": []
    },
    {
      "cell_type": "code",
      "metadata": {
        "id": "Z_fDq_qlklko",
        "colab_type": "code",
        "colab": {}
      },
      "source": [
        "drive_dir = '/content/drive/Shared drives/DS Workshop/data/'\n",
        "train_path = drive_dir + 'train.csv'\n",
        "train = pd.read_csv(train_path)\n",
        "bids_path = drive_dir + 'bids.csv/bids.csv'\n",
        "bids = pd.read_csv(bids_path)\n",
        "test_path = drive_dir + 'test.csv'\n",
        "test = pd.read_csv(test_path)"
      ],
      "execution_count": 0,
      "outputs": []
    },
    {
      "cell_type": "markdown",
      "metadata": {
        "id": "NaEuJizlkx5Q",
        "colab_type": "text"
      },
      "source": [
        "# **Time-Series Analysis**"
      ]
    },
    {
      "cell_type": "markdown",
      "metadata": {
        "id": "CN7xSI3plJVe",
        "colab_type": "text"
      },
      "source": [
        "## Bid Time Analysis"
      ]
    },
    {
      "cell_type": "markdown",
      "metadata": {
        "id": "s4gm4RTzlUq_",
        "colab_type": "text"
      },
      "source": [
        "Splitting The Bids to the appropriate 3 Periods"
      ]
    },
    {
      "cell_type": "markdown",
      "metadata": {
        "id": "pb8gflxPmden",
        "colab_type": "text"
      },
      "source": [
        "## Time Stamp Processing"
      ]
    },
    {
      "cell_type": "markdown",
      "metadata": {
        "id": "13CxrnXwmhjl",
        "colab_type": "text"
      },
      "source": [
        "## Time Based Feature Analsysis"
      ]
    }
  ]
}