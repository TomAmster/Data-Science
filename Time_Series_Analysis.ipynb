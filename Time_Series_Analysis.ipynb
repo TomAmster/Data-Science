{
  "nbformat": 4,
  "nbformat_minor": 0,
  "metadata": {
    "colab": {
      "name": "Time-Series Analysis",
      "provenance": [],
      "collapsed_sections": [],
      "include_colab_link": true
    },
    "kernelspec": {
      "name": "python3",
      "display_name": "Python 3"
    }
  },
  "cells": [
    {
      "cell_type": "markdown",
      "metadata": {
        "id": "view-in-github",
        "colab_type": "text"
      },
      "source": [
        "<a href=\"https://colab.research.google.com/github/TomAmster/Data-Science/blob/master/Time_Series_Analysis.ipynb\" target=\"_parent\"><img src=\"https://colab.research.google.com/assets/colab-badge.svg\" alt=\"Open In Colab\"/></a>"
      ]
    },
    {
      "cell_type": "markdown",
      "metadata": {
        "id": "INIYo2sEbPB6",
        "colab_type": "text"
      },
      "source": [
        "# Data Prep"
      ]
    },
    {
      "cell_type": "code",
      "metadata": {
        "id": "Dg5iWD72kQPg",
        "colab_type": "code",
        "outputId": "cd813670-c756-41e4-b1a8-608e6c129c38",
        "colab": {
          "base_uri": "https://localhost:8080/",
          "height": 34
        }
      },
      "source": [
        "from google.colab import drive\n",
        "drive.mount('/content/drive', force_remount=True)"
      ],
      "execution_count": 0,
      "outputs": [
        {
          "output_type": "stream",
          "text": [
            "Mounted at /content/drive\n"
          ],
          "name": "stdout"
        }
      ]
    },
    {
      "cell_type": "code",
      "metadata": {
        "id": "bqcaZ7x-kfs5",
        "colab_type": "code",
        "colab": {}
      },
      "source": [
        "import csv\n",
        "import pandas as pd\n",
        "import matplotlib.pyplot as plt\n",
        "import seaborn as sns \n",
        "import numpy as np"
      ],
      "execution_count": 0,
      "outputs": []
    },
    {
      "cell_type": "code",
      "metadata": {
        "id": "Z_fDq_qlklko",
        "colab_type": "code",
        "colab": {}
      },
      "source": [
        "drive_dir = '/content/drive/Shared drives/DS Workshop/data/'\n",
        "train_path = drive_dir + 'train.csv'\n",
        "train = pd.read_csv(train_path)\n",
        "bids_path = drive_dir + 'bids.csv/bids.csv'\n",
        "bids = pd.read_csv(bids_path)\n",
        "test_path = drive_dir + 'test.csv'\n",
        "test = pd.read_csv(test_path)"
      ],
      "execution_count": 0,
      "outputs": []
    },
    {
      "cell_type": "markdown",
      "metadata": {
        "id": "NjF3siQ1U1ha",
        "colab_type": "text"
      },
      "source": [
        "Joining train data with bid data so that we can use the \"outcome\" column"
      ]
    },
    {
      "cell_type": "code",
      "metadata": {
        "id": "vSalhHaHUr8I",
        "colab_type": "code",
        "colab": {}
      },
      "source": [
        "data = pd.merge(bids, train, on='bidder_id', how='left')"
      ],
      "execution_count": 0,
      "outputs": []
    },
    {
      "cell_type": "markdown",
      "metadata": {
        "id": "NaEuJizlkx5Q",
        "colab_type": "text"
      },
      "source": [
        "# **Time-Series Analysis**"
      ]
    },
    {
      "cell_type": "markdown",
      "metadata": {
        "id": "CN7xSI3plJVe",
        "colab_type": "text"
      },
      "source": [
        "## Bid Time Analysis"
      ]
    },
    {
      "cell_type": "markdown",
      "metadata": {
        "id": "3t-l2xUCUCzb",
        "colab_type": "text"
      },
      "source": [
        "Let's do some exploration"
      ]
    },
    {
      "cell_type": "code",
      "metadata": {
        "id": "_eb1bTmvUCjS",
        "colab_type": "code",
        "outputId": "9ace55dd-c7dd-4289-a5fe-9a6f6533e1c8",
        "colab": {
          "base_uri": "https://localhost:8080/",
          "height": 328
        }
      },
      "source": [
        "data.hist(column='time', bins=300)"
      ],
      "execution_count": 0,
      "outputs": [
        {
          "output_type": "execute_result",
          "data": {
            "text/plain": [
              "array([[<matplotlib.axes._subplots.AxesSubplot object at 0x7fe75062b390>]],\n",
              "      dtype=object)"
            ]
          },
          "metadata": {
            "tags": []
          },
          "execution_count": 29
        },
        {
          "output_type": "display_data",
          "data": {
            "image/png": "[encoded data removed]",
            "text/plain": [
              "<Figure size 432x288 with 1 Axes>"
            ]
          },
          "metadata": {
            "tags": []
          }
        }
      ]
    },
    {
      "cell_type": "code",
      "metadata": {
        "id": "jVoZhfizWAst",
        "colab_type": "code",
        "colab": {}
      },
      "source": [
        "# TODO: Yonatan, please insert here a histogram of 3 separate lines: humans, bots and total"
      ],
      "execution_count": 0,
      "outputs": []
    },
    {
      "cell_type": "markdown",
      "metadata": {
        "id": "Hnh0KasZVzyT",
        "colab_type": "text"
      },
      "source": [
        "Looks like 3 separate time periods. Let's expolore each individually."
      ]
    },
    {
      "cell_type": "code",
      "metadata": {
        "id": "nlRj2OINXMBM",
        "colab_type": "code",
        "outputId": "20780f92-e097-41d3-d868-ed6151f27cd0",
        "colab": {
          "base_uri": "https://localhost:8080/",
          "height": 52
        }
      },
      "source": [
        "period_1 = data[data.time < 9.66e15]\n",
        "period_2 = data[data.time < 9.74e15][data.time > 9.66e15]\n",
        "period_3 = data[data.time > 9.74e15]"
      ],
      "execution_count": 0,
      "outputs": [
        {
          "output_type": "stream",
          "text": [
            "/usr/local/lib/python3.6/dist-packages/ipykernel_launcher.py:2: UserWarning: Boolean Series key will be reindexed to match DataFrame index.\n",
            "  \n"
          ],
          "name": "stderr"
        }
      ]
    },
    {
      "cell_type": "markdown",
      "metadata": {
        "id": "jI6qKqIvZdx5",
        "colab_type": "text"
      },
      "source": [
        "Let's look at a histogram of the human bids vs the bot bids int the first period:"
      ]
    },
    {
      "cell_type": "code",
      "metadata": {
        "id": "sjEVgOwUXTQK",
        "colab_type": "code",
        "outputId": "cc1618c5-bdd2-47ed-abd2-6d09daa3aaac",
        "colab": {
          "base_uri": "https://localhost:8080/",
          "height": 605
        }
      },
      "source": [
        "period_1_humans = period_1[period_1.outcome == 0]\n",
        "period_1_bots = period_1[period_1.outcome == 1]\n",
        "period_1_humans.hist(column='time', bins=200)\n",
        "period_1_bots.hist(column='time', bins=200)"
      ],
      "execution_count": 0,
      "outputs": [
        {
          "output_type": "execute_result",
          "data": {
            "text/plain": [
              "array([[<matplotlib.axes._subplots.AxesSubplot object at 0x7fe7637ffa90>]],\n",
              "      dtype=object)"
            ]
          },
          "metadata": {
            "tags": []
          },
          "execution_count": 32
        },
        {
          "output_type": "display_data",
          "data": {
            "image/png": "[encoded data removed]",
            "text/plain": [
              "<Figure size 432x288 with 1 Axes>"
            ]
          },
          "metadata": {
            "tags": []
          }
        },
        {
          "output_type": "display_data",
          "data": {
            "image/png": "[encoded data removed]",
            "text/plain": [
              "<Figure size 432x288 with 1 Axes>"
            ]
          },
          "metadata": {
            "tags": []
          }
        }
      ]
    },
    {
      "cell_type": "markdown",
      "metadata": {
        "id": "D9i2mM0TZpcQ",
        "colab_type": "text"
      },
      "source": [
        "Interesting. Now let's look at period 2:"
      ]
    },
    {
      "cell_type": "code",
      "metadata": {
        "id": "16dBdzEzZtDf",
        "colab_type": "code",
        "outputId": "7d5dd2e2-d38c-4c5d-aaa8-a43c2da90014",
        "colab": {
          "base_uri": "https://localhost:8080/",
          "height": 605
        }
      },
      "source": [
        "period_2_humans = period_2[period_2.outcome == 0]\n",
        "period_2_bots = period_2[period_2.outcome == 1]\n",
        "period_2_humans.hist(column='time', bins=200)\n",
        "period_2_bots.hist(column='time', bins=200)"
      ],
      "execution_count": 0,
      "outputs": [
        {
          "output_type": "execute_result",
          "data": {
            "text/plain": [
              "array([[<matplotlib.axes._subplots.AxesSubplot object at 0x7fe765adbc88>]],\n",
              "      dtype=object)"
            ]
          },
          "metadata": {
            "tags": []
          },
          "execution_count": 33
        },
        {
          "output_type": "display_data",
          "data": {
            "image/png": "[encoded data removed]",
            "text/plain": [
              "<Figure size 432x288 with 1 Axes>"
            ]
          },
          "metadata": {
            "tags": []
          }
        },
        {
          "output_type": "display_data",
          "data": {
            "image/png": "[encoded data removed]",
            "text/plain": [
              "<Figure size 432x288 with 1 Axes>"
            ]
          },
          "metadata": {
            "tags": []
          }
        }
      ]
    },
    {
      "cell_type": "markdown",
      "metadata": {
        "id": "ppuOwY29Z6aj",
        "colab_type": "text"
      },
      "source": [
        "And period 3:"
      ]
    },
    {
      "cell_type": "code",
      "metadata": {
        "id": "2qGOt76MZ3k4",
        "colab_type": "code",
        "outputId": "378da59d-f8c7-4470-9360-8115b49d0a24",
        "colab": {
          "base_uri": "https://localhost:8080/",
          "height": 605
        }
      },
      "source": [
        "period_3_humans = period_3[period_3.outcome == 0]\n",
        "period_3_bots = period_3[period_3.outcome == 1]\n",
        "period_3_humans.hist(column='time', bins=200)\n",
        "period_3_bots.hist(column='time', bins=200)"
      ],
      "execution_count": 0,
      "outputs": [
        {
          "output_type": "execute_result",
          "data": {
            "text/plain": [
              "array([[<matplotlib.axes._subplots.AxesSubplot object at 0x7fe76300cf98>]],\n",
              "      dtype=object)"
            ]
          },
          "metadata": {
            "tags": []
          },
          "execution_count": 34
        },
        {
          "output_type": "display_data",
          "data": {
            "image/png": "[encoded data removed]",
            "text/plain": [
              "<Figure size 432x288 with 1 Axes>"
            ]
          },
          "metadata": {
            "tags": []
          }
        },
        {
          "output_type": "display_data",
          "data": {
            "image/png": "[encoded data removed]",
            "text/plain": [
              "<Figure size 432x288 with 1 Axes>"
            ]
          },
          "metadata": {
            "tags": []
          }
        }
      ]
    },
    {
      "cell_type": "markdown",
      "metadata": {
        "id": "eMGyKUsiaDd1",
        "colab_type": "text"
      },
      "source": [
        "Conclusions:\n",
        "\n",
        "\n",
        "1.   Human bid times are much more structured and periodical.\n",
        "2.   Bot bid times are more sphoradic and noisy.\n",
        "3.   Each of the 3 periods seems to have 3 distinct peaks in the human bids. We will conclude this is because each period represents 3 days, and the peaks correspond to some evening time, when people have more time to do online bidding.\n",
        "\n"
      ]
    },
    {
      "cell_type": "markdown",
      "metadata": {
        "id": "pb8gflxPmden",
        "colab_type": "text"
      },
      "source": [
        "## Time Stamp Processing"
      ]
    },
    {
      "cell_type": "markdown",
      "metadata": {
        "id": "VkXbbBBVbHBq",
        "colab_type": "text"
      },
      "source": [
        "Following our conclusions from the previous sections, we've decided to assign synthetic timestamps to our data, in a way that preserves order and scale and would assign the human bids peaks to 7pm. We've placed the 3 periods a week apart from each other to avoid interference."
      ]
    },
    {
      "cell_type": "code",
      "metadata": {
        "id": "RaFtMr9PcdGR",
        "colab_type": "code",
        "outputId": "a4c4ce4c-1c74-4192-e72f-5ba710a463ec",
        "colab": {
          "base_uri": "https://localhost:8080/",
          "height": 224
        }
      },
      "source": [
        "range_start_1 = 1543863600\n",
        "range_end_1 = 1544122800\n",
        "max_ts_1 = max(period_1.time)\n",
        "min_ts_1 = min(period_1.time)\n",
        "period_1.loc[:,'new_ts'] = range_start_1 + ((period_1.time - min_ts_1) / (max_ts_1 - min_ts_1)) * (range_end_1 - range_start_1)\n",
        "period_1.loc[:,'new_ts'] = pd.to_datetime(period_1.new_ts, unit='s')\n",
        "period_1.loc[:,'hour_of_day'] = period_1.new_ts.dt.hour"
      ],
      "execution_count": 0,
      "outputs": [
        {
          "output_type": "stream",
          "text": [
            "/usr/local/lib/python3.6/dist-packages/pandas/core/indexing.py:376: SettingWithCopyWarning: \n",
            "A value is trying to be set on a copy of a slice from a DataFrame.\n",
            "Try using .loc[row_indexer,col_indexer] = value instead\n",
            "\n",
            "See the caveats in the documentation: http://pandas.pydata.org/pandas-docs/stable/user_guide/indexing.html#returning-a-view-versus-a-copy\n",
            "  self.obj[key] = _infer_fill_value(value)\n",
            "/usr/local/lib/python3.6/dist-packages/pandas/core/indexing.py:494: SettingWithCopyWarning: \n",
            "A value is trying to be set on a copy of a slice from a DataFrame.\n",
            "Try using .loc[row_indexer,col_indexer] = value instead\n",
            "\n",
            "See the caveats in the documentation: http://pandas.pydata.org/pandas-docs/stable/user_guide/indexing.html#returning-a-view-versus-a-copy\n",
            "  self.obj[item] = s\n"
          ],
          "name": "stderr"
        }
      ]
    },
    {
      "cell_type": "markdown",
      "metadata": {
        "id": "ZJTJXdAUc_gc",
        "colab_type": "text"
      },
      "source": [
        "Let's look at a histogram of the hours we've assigned to this period's data:"
      ]
    },
    {
      "cell_type": "code",
      "metadata": {
        "id": "7QyNaqaXdHUQ",
        "colab_type": "code",
        "outputId": "95df505b-3c9f-431b-f956-db85100dfb86",
        "colab": {
          "base_uri": "https://localhost:8080/",
          "height": 315
        }
      },
      "source": [
        "period_1.hist(column='hour_of_day', bins=24)"
      ],
      "execution_count": 0,
      "outputs": [
        {
          "output_type": "execute_result",
          "data": {
            "text/plain": [
              "array([[<matplotlib.axes._subplots.AxesSubplot object at 0x7fe763076940>]],\n",
              "      dtype=object)"
            ]
          },
          "metadata": {
            "tags": []
          },
          "execution_count": 36
        },
        {
          "output_type": "display_data",
          "data": {
            "image/png": "[encoded data removed]",
            "text/plain": [
              "<Figure size 432x288 with 1 Axes>"
            ]
          },
          "metadata": {
            "tags": []
          }
        }
      ]
    },
    {
      "cell_type": "markdown",
      "metadata": {
        "id": "oRkB5g-ddK1q",
        "colab_type": "text"
      },
      "source": [
        "This looks good. Let's repeat for period 2:"
      ]
    },
    {
      "cell_type": "code",
      "metadata": {
        "id": "T7x9Mx3wdPmv",
        "colab_type": "code",
        "colab": {}
      },
      "source": [
        "range_start_2 = 1544468400\n",
        "range_end_2 = 1544727600\n",
        "max_ts_2 = max(period_2.time)\n",
        "min_ts_2 = min(period_2.time)\n",
        "period_2.loc[:,'new_ts'] = range_start_2 + ((period_2.time - min_ts_2) / (max_ts_2 - min_ts_2)) * (range_end_2 - range_start_2)\n",
        "period_2.loc[:,'new_ts'] = pd.to_datetime(period_2.new_ts, unit='s')\n",
        "period_2.loc[:,'hour_of_day'] = period_2.new_ts.dt.hour"
      ],
      "execution_count": 0,
      "outputs": []
    },
    {
      "cell_type": "markdown",
      "metadata": {
        "id": "YFb7jycKdW3N",
        "colab_type": "text"
      },
      "source": [
        "Here's preoid 2's histogram:"
      ]
    },
    {
      "cell_type": "code",
      "metadata": {
        "id": "uT9GkB6FdcAp",
        "colab_type": "code",
        "outputId": "c170673b-083f-49d2-8327-d3ffdd3bae3f",
        "colab": {
          "base_uri": "https://localhost:8080/",
          "height": 315
        }
      },
      "source": [
        "period_2.hist(column='hour_of_day', bins=24)"
      ],
      "execution_count": 0,
      "outputs": [
        {
          "output_type": "execute_result",
          "data": {
            "text/plain": [
              "array([[<matplotlib.axes._subplots.AxesSubplot object at 0x7fe7640005f8>]],\n",
              "      dtype=object)"
            ]
          },
          "metadata": {
            "tags": []
          },
          "execution_count": 38
        },
        {
          "output_type": "display_data",
          "data": {
            "image/png": "[encoded data removed]",
            "text/plain": [
              "<Figure size 432x288 with 1 Axes>"
            ]
          },
          "metadata": {
            "tags": []
          }
        }
      ]
    },
    {
      "cell_type": "markdown",
      "metadata": {
        "id": "BnCe30QMdema",
        "colab_type": "text"
      },
      "source": [
        "And period 3:"
      ]
    },
    {
      "cell_type": "code",
      "metadata": {
        "id": "CoT81DhpdgU3",
        "colab_type": "code",
        "outputId": "34b4de80-5dfb-41ef-fcd5-bb1f5756f678",
        "colab": {
          "base_uri": "https://localhost:8080/",
          "height": 224
        }
      },
      "source": [
        "range_start_3 = 1545073200\n",
        "range_end_3 = 1545332400\n",
        "max_ts_3 = max(period_3.time)\n",
        "min_ts_3 = min(period_3.time)\n",
        "period_3.loc[:,'new_ts'] = range_start_3 + ((period_3.time - min_ts_3) / (max_ts_3 - min_ts_3)) * (range_end_3 - range_start_3)\n",
        "period_3.loc[:,'new_ts'] = pd.to_datetime(period_3.new_ts, unit='s')\n",
        "period_3.loc[:,'hour_of_day'] = period_3.new_ts.dt.hour"
      ],
      "execution_count": 0,
      "outputs": [
        {
          "output_type": "stream",
          "text": [
            "/usr/local/lib/python3.6/dist-packages/pandas/core/indexing.py:376: SettingWithCopyWarning: \n",
            "A value is trying to be set on a copy of a slice from a DataFrame.\n",
            "Try using .loc[row_indexer,col_indexer] = value instead\n",
            "\n",
            "See the caveats in the documentation: http://pandas.pydata.org/pandas-docs/stable/user_guide/indexing.html#returning-a-view-versus-a-copy\n",
            "  self.obj[key] = _infer_fill_value(value)\n",
            "/usr/local/lib/python3.6/dist-packages/pandas/core/indexing.py:494: SettingWithCopyWarning: \n",
            "A value is trying to be set on a copy of a slice from a DataFrame.\n",
            "Try using .loc[row_indexer,col_indexer] = value instead\n",
            "\n",
            "See the caveats in the documentation: http://pandas.pydata.org/pandas-docs/stable/user_guide/indexing.html#returning-a-view-versus-a-copy\n",
            "  self.obj[item] = s\n"
          ],
          "name": "stderr"
        }
      ]
    },
    {
      "cell_type": "code",
      "metadata": {
        "colab_type": "code",
        "outputId": "d6493baf-cdca-46d6-9ce0-890b07dfd401",
        "id": "f2868N8Puh0W",
        "colab": {
          "base_uri": "https://localhost:8080/",
          "height": 34
        }
      },
      "source": [
        "units_per_day = (max_ts_3 - min_ts_3) / 3\n",
        "units_per_hour = units_per_day / 24\n",
        "units_per_minute = units_per_hour / 60\n",
        "units_per_second = units_per_minute / 60\n",
        "print(f\"Each second corresponds to {units_per_second} of original 'time' units\")"
      ],
      "execution_count": 0,
      "outputs": [
        {
          "output_type": "stream",
          "text": [
            "Each second corresponds to 52631375.8934375 of original 'time' units\n"
          ],
          "name": "stdout"
        }
      ]
    },
    {
      "cell_type": "markdown",
      "metadata": {
        "id": "Il_Lq9lfdjmT",
        "colab_type": "text"
      },
      "source": [
        "With it's histogram:"
      ]
    },
    {
      "cell_type": "code",
      "metadata": {
        "id": "JAWAyyBqdi3P",
        "colab_type": "code",
        "outputId": "52dbc517-fe0b-41d9-f13f-bee7be192221",
        "colab": {
          "base_uri": "https://localhost:8080/",
          "height": 315
        }
      },
      "source": [
        "period_3.hist(column='hour_of_day', bins=24)"
      ],
      "execution_count": 0,
      "outputs": [
        {
          "output_type": "execute_result",
          "data": {
            "text/plain": [
              "array([[<matplotlib.axes._subplots.AxesSubplot object at 0x7fe764068518>]],\n",
              "      dtype=object)"
            ]
          },
          "metadata": {
            "tags": []
          },
          "execution_count": 41
        },
        {
          "output_type": "display_data",
          "data": {
            "image/png": "[encoded data removed]",
            "text/plain": [
              "<Figure size 432x288 with 1 Axes>"
            ]
          },
          "metadata": {
            "tags": []
          }
        }
      ]
    },
    {
      "cell_type": "markdown",
      "metadata": {
        "id": "fRe-Tl6_eKtB",
        "colab_type": "text"
      },
      "source": [
        "We have now successfully generated 2 features that will prove critical moving forward: \"new_ts\" and \"hour_of_day\". Many important features will rely on them."
      ]
    },
    {
      "cell_type": "markdown",
      "metadata": {
        "id": "13CxrnXwmhjl",
        "colab_type": "text"
      },
      "source": [
        "## Time Based Feature Analsysis"
      ]
    },
    {
      "cell_type": "markdown",
      "metadata": {
        "id": "gcFCyGooenIw",
        "colab_type": "text"
      },
      "source": [
        "Our time-based features will be using our generated new_ts and hour_of_day columns. The features that will be using these columns will quantify:\n",
        "\n",
        "\n",
        "1.   Number and fraction (ratio) of bids in the first and last 10% of the auction.\n",
        "2.   Time difference between bids per auction.\n",
        "3.   Change times of ip, device, country.\n",
        "4.   Ratio of bids in four 6-hour windows of hour_of_day.\n",
        "5.   Bidding velocity - number of bids within rolling window of time.\n",
        "\n"
      ]
    },
    {
      "cell_type": "code",
      "metadata": {
        "id": "FgfawLHpmfKw",
        "colab_type": "code",
        "colab": {}
      },
      "source": [
        "new_data = pd.concat([period_1, period_2, period_3])"
      ],
      "execution_count": 0,
      "outputs": []
    },
    {
      "cell_type": "markdown",
      "metadata": {
        "id": "WwnyyHMWmyDR",
        "colab_type": "text"
      },
      "source": [
        "We will now save our new data to a new csv: (this step might take a while)"
      ]
    },
    {
      "cell_type": "code",
      "metadata": {
        "id": "idCBV8iRmqHf",
        "colab_type": "code",
        "colab": {}
      },
      "source": [
        "new_data.to_csv('/content/drive/Shared drives/DS Workshop/data/data_with_new_ts.csv')"
      ],
      "execution_count": 0,
      "outputs": []
    }
  ]
}