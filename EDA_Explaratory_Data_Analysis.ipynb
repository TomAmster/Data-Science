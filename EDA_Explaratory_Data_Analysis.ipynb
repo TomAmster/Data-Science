{
  "nbformat": 4,
  "nbformat_minor": 0,
  "metadata": {
    "colab": {
      "name": "EDA - Explaratory Data Analysis",
      "provenance": [],
      "include_colab_link": true
    },
    "kernelspec": {
      "name": "python3",
      "display_name": "Python 3"
    }
  },
  "cells": [
    {
      "cell_type": "markdown",
      "metadata": {
        "id": "view-in-github",
        "colab_type": "text"
      },
      "source": [
        "<a href=\"https://colab.research.google.com/github/TomAmster/Data-Science/blob/master/EDA_Explaratory_Data_Analysis.ipynb\" target=\"_parent\"><img src=\"https://colab.research.google.com/assets/colab-badge.svg\" alt=\"Open In Colab\"/></a>"
      ]
    },
    {
      "cell_type": "code",
      "metadata": {
        "id": "L8Oi5L6aCHXS",
        "colab_type": "code",
        "outputId": "9e662dfb-a649-46d7-c774-0d7cd9356269",
        "colab": {
          "base_uri": "https://localhost:8080/",
          "height": 34
        }
      },
      "source": [
        "from google.colab import drive\n",
        "drive.mount('/content/drive', force_remount=True)"
      ],
      "execution_count": 0,
      "outputs": [
        {
          "output_type": "stream",
          "text": [
            "Mounted at /content/drive\n"
          ],
          "name": "stdout"
        }
      ]
    },
    {
      "cell_type": "code",
      "metadata": {
        "id": "HMl4cvKqCSmb",
        "colab_type": "code",
        "colab": {}
      },
      "source": [
        "import csv\n",
        "import pandas as pd\n",
        "import matplotlib.pyplot as plt\n",
        "import seaborn as sns \n",
        "import numpy as np"
      ],
      "execution_count": 0,
      "outputs": []
    },
    {
      "cell_type": "markdown",
      "metadata": {
        "id": "RHxywn3DCiSC",
        "colab_type": "text"
      },
      "source": [
        "# **Explaratory Data Analysis**"
      ]
    },
    {
      "cell_type": "markdown",
      "metadata": {
        "id": "ANa64k-DCrZC",
        "colab_type": "text"
      },
      "source": [
        "## Loading the datasets\n"
      ]
    },
    {
      "cell_type": "code",
      "metadata": {
        "id": "GBKOwbo_Cd7i",
        "colab_type": "code",
        "colab": {}
      },
      "source": [
        "drive_dir = '/content/drive/Shared drives/DS Workshop/data/'\n",
        "train_path = drive_dir + 'train.csv'\n",
        "train = pd.read_csv(train_path)\n",
        "bids_path = drive_dir + 'bids.csv/bids.csv'\n",
        "bids = pd.read_csv(bids_path)\n",
        "test_path = drive_dir + 'test.csv'\n",
        "test = pd.read_csv(test_path)"
      ],
      "execution_count": 0,
      "outputs": []
    },
    {
      "cell_type": "markdown",
      "metadata": {
        "id": "zx8fsSXUDRJa",
        "colab_type": "text"
      },
      "source": [
        "### Merging Datasets- Train & Test with the Bids"
      ]
    },
    {
      "cell_type": "code",
      "metadata": {
        "id": "wJa5W1ECDOQK",
        "colab_type": "code",
        "colab": {}
      },
      "source": [
        "# bidders_df = pd.concat([train, test])\n",
        "# merged_bids = pd.merge(bidders_df, bids, on='bidder_id', how='left')\n",
        "\n",
        "# train_bids = pd.merge(train, bids, on='bidder_id', how='left')\n",
        "# merged_bids.head(10)"
      ],
      "execution_count": 0,
      "outputs": []
    },
    {
      "cell_type": "markdown",
      "metadata": {
        "id": "Ze_sVLkvDAux",
        "colab_type": "text"
      },
      "source": [
        "## General Dataset Information"
      ]
    },
    {
      "cell_type": "code",
      "metadata": {
        "id": "Leu1OwPVC2hE",
        "colab_type": "code",
        "colab": {}
      },
      "source": [
        "# print(f\"total row in bid:          {len(merged_bids)}\")\n",
        "# print(f\"total bids in bid:         {len(merged_bids['bid_id'].unique())}\")\n",
        "# print(f\"total bidder in bids:      {len(merged_bids['bidder_id'].unique())}\")\n",
        "# print(f\"total payment in bids:     {len(merged_bids['payment_account'].unique())}\")\n",
        "# print(f\"total address in bids:     {len(merged_bids['address'].unique())}\")\n",
        "# print(f\"total auction in bids:     {len(merged_bids['auction'].unique())}\")\n",
        "# print(f\"total merchandise in bids: {len(merged_bids['merchandise'].unique())}\")\n",
        "# print(f\"total device in bids:      {len(merged_bids['device'].unique())}\")\n",
        "# print(f\"total country in bids:     {len(merged_bids['country'].unique())}\")\n",
        "# print(f\"total ip in bids:          {len(merged_bids['ip'].unique())}\")\n",
        "# print(f\"total url in bids:         {len(merged_bids['url'].unique())}\")"
      ],
      "execution_count": 0,
      "outputs": []
    },
    {
      "cell_type": "code",
      "metadata": {
        "id": "nHKL4dy1DHuS",
        "colab_type": "code",
        "colab": {}
      },
      "source": [
        "# print(\n",
        "#     f\"total bids made by robots in data set: {len(bid[bid['outcome'] == 1])}\")\n",
        "# print(\n",
        "#     f\"total bids made by human in data set:  {len(bid[bid['outcome'] == 0])}\")"
      ],
      "execution_count": 0,
      "outputs": []
    },
    {
      "cell_type": "markdown",
      "metadata": {
        "id": "KbpQ--raDlwP",
        "colab_type": "text"
      },
      "source": [
        "## Statistics Analysis - \n",
        "Checking Difference in pararmeters between robots and humans"
      ]
    },
    {
      "cell_type": "markdown",
      "metadata": {
        "id": "iGgUwX3pazfU",
        "colab_type": "text"
      },
      "source": [
        ""
      ]
    },
    {
      "cell_type": "markdown",
      "metadata": {
        "id": "HUNrE6DFH_UP",
        "colab_type": "text"
      },
      "source": [
        "### Creating Count Statistics for the pararmeters"
      ]
    },
    {
      "cell_type": "code",
      "metadata": {
        "id": "Ya4D85oBD5U4",
        "colab_type": "code",
        "colab": {}
      },
      "source": [
        "bids_count = bids.groupby(\"bidder_id\")[\"bid_id\",\"device\",\"country\",\"ip\",\"merchandise\",\"auction\",\"url\"].nunique()\n",
        "bids_count.reset_index(inplace=True)\n",
        "bids_count = bids_count.add_prefix(\"count_\")\n",
        "bids_count.rename(columns={\"count_bidder_id\":\"bidder_id\"},inplace=True)\n",
        "train_counts = pd.merge(train,bids_count,on=\"bidder_id\",how=\"left\")"
      ],
      "execution_count": 0,
      "outputs": []
    },
    {
      "cell_type": "code",
      "metadata": {
        "id": "EX_7Zi5FIV0I",
        "colab_type": "code",
        "outputId": "531038cb-130d-4776-f054-e4a723c87c47",
        "colab": {
          "base_uri": "https://localhost:8080/",
          "height": 224
        }
      },
      "source": [
        "train_counts.head()"
      ],
      "execution_count": 0,
      "outputs": [
        {
          "output_type": "execute_result",
          "data": {
            "text/html": [
              "<div>\n",
              "<style scoped>\n",
              "    .dataframe tbody tr th:only-of-type {\n",
              "        vertical-align: middle;\n",
              "    }\n",
              "\n",
              "    .dataframe tbody tr th {\n",
              "        vertical-align: top;\n",
              "    }\n",
              "\n",
              "    .dataframe thead th {\n",
              "        text-align: right;\n",
              "    }\n",
              "</style>\n",
              "<table border=\"1\" class=\"dataframe\">\n",
              "  <thead>\n",
              "    <tr style=\"text-align: right;\">\n",
              "      <th></th>\n",
              "      <th>bidder_id</th>\n",
              "      <th>payment_account</th>\n",
              "      <th>address</th>\n",
              "      <th>outcome</th>\n",
              "      <th>count_bid_id</th>\n",
              "      <th>count_device</th>\n",
              "      <th>count_country</th>\n",
              "      <th>count_ip</th>\n",
              "      <th>count_merchandise</th>\n",
              "      <th>count_auction</th>\n",
              "      <th>count_url</th>\n",
              "    </tr>\n",
              "  </thead>\n",
              "  <tbody>\n",
              "    <tr>\n",
              "      <th>0</th>\n",
              "      <td>91a3c57b13234af24875c56fb7e2b2f4rb56a</td>\n",
              "      <td>a3d2de7675556553a5f08e4c88d2c228754av</td>\n",
              "      <td>a3d2de7675556553a5f08e4c88d2c228vt0u4</td>\n",
              "      <td>0.0</td>\n",
              "      <td>24.0</td>\n",
              "      <td>14.0</td>\n",
              "      <td>6.0</td>\n",
              "      <td>20.0</td>\n",
              "      <td>1.0</td>\n",
              "      <td>18.0</td>\n",
              "      <td>1.0</td>\n",
              "    </tr>\n",
              "    <tr>\n",
              "      <th>1</th>\n",
              "      <td>624f258b49e77713fc34034560f93fb3hu3jo</td>\n",
              "      <td>a3d2de7675556553a5f08e4c88d2c228v1sga</td>\n",
              "      <td>ae87054e5a97a8f840a3991d12611fdcrfbq3</td>\n",
              "      <td>0.0</td>\n",
              "      <td>3.0</td>\n",
              "      <td>2.0</td>\n",
              "      <td>1.0</td>\n",
              "      <td>3.0</td>\n",
              "      <td>1.0</td>\n",
              "      <td>1.0</td>\n",
              "      <td>2.0</td>\n",
              "    </tr>\n",
              "    <tr>\n",
              "      <th>2</th>\n",
              "      <td>1c5f4fc669099bfbfac515cd26997bd12ruaj</td>\n",
              "      <td>a3d2de7675556553a5f08e4c88d2c2280cybl</td>\n",
              "      <td>92520288b50f03907041887884ba49c0cl0pd</td>\n",
              "      <td>0.0</td>\n",
              "      <td>4.0</td>\n",
              "      <td>2.0</td>\n",
              "      <td>1.0</td>\n",
              "      <td>4.0</td>\n",
              "      <td>1.0</td>\n",
              "      <td>4.0</td>\n",
              "      <td>2.0</td>\n",
              "    </tr>\n",
              "    <tr>\n",
              "      <th>3</th>\n",
              "      <td>4bee9aba2abda51bf43d639013d6efe12iycd</td>\n",
              "      <td>51d80e233f7b6a7dfdee484a3c120f3b2ita8</td>\n",
              "      <td>4cb9717c8ad7e88a9a284989dd79b98dbevyi</td>\n",
              "      <td>0.0</td>\n",
              "      <td>1.0</td>\n",
              "      <td>1.0</td>\n",
              "      <td>1.0</td>\n",
              "      <td>1.0</td>\n",
              "      <td>1.0</td>\n",
              "      <td>1.0</td>\n",
              "      <td>1.0</td>\n",
              "    </tr>\n",
              "    <tr>\n",
              "      <th>4</th>\n",
              "      <td>4ab12bc61c82ddd9c2d65e60555808acqgos1</td>\n",
              "      <td>a3d2de7675556553a5f08e4c88d2c22857ddh</td>\n",
              "      <td>2a96c3ce94b3be921e0296097b88b56a7x1ji</td>\n",
              "      <td>0.0</td>\n",
              "      <td>155.0</td>\n",
              "      <td>53.0</td>\n",
              "      <td>2.0</td>\n",
              "      <td>123.0</td>\n",
              "      <td>1.0</td>\n",
              "      <td>23.0</td>\n",
              "      <td>91.0</td>\n",
              "    </tr>\n",
              "  </tbody>\n",
              "</table>\n",
              "</div>"
            ],
            "text/plain": [
              "                               bidder_id  ... count_url\n",
              "0  91a3c57b13234af24875c56fb7e2b2f4rb56a  ...       1.0\n",
              "1  624f258b49e77713fc34034560f93fb3hu3jo  ...       2.0\n",
              "2  1c5f4fc669099bfbfac515cd26997bd12ruaj  ...       2.0\n",
              "3  4bee9aba2abda51bf43d639013d6efe12iycd  ...       1.0\n",
              "4  4ab12bc61c82ddd9c2d65e60555808acqgos1  ...      91.0\n",
              "\n",
              "[5 rows x 11 columns]"
            ]
          },
          "metadata": {
            "tags": []
          },
          "execution_count": 27
        }
      ]
    },
    {
      "cell_type": "markdown",
      "metadata": {
        "id": "sDohlGAhIKJp",
        "colab_type": "text"
      },
      "source": [
        "### Creating Count Statistics Per Parameter Per Auction"
      ]
    },
    {
      "cell_type": "code",
      "metadata": {
        "id": "1TKr4HY1HrmQ",
        "colab_type": "code",
        "colab": {}
      },
      "source": [
        "train_counts['average_bids_per_auction'] = train_counts.apply(lambda row:row['count_bid_id']/row['count_auction'] if row['count_auction']>0 else 0, axis=1) \n",
        "train_counts['average_bids_per_url'] = train_counts.apply(lambda row:row['count_bid_id']/row['count_url'] if row['count_url']>0 else 0, axis=1) \n",
        "train_counts['average_bids_per_device'] = train_counts.apply(lambda row:row['count_bid_id']/row['count_device'] if row['count_device']>0 else 0, axis=1) \n",
        "train_counts['average_bids_per_country'] = train_counts.apply(lambda row:row['count_bid_id']/row['count_country'] if row['count_country']>0 else 0, axis=1) "
      ],
      "execution_count": 0,
      "outputs": []
    },
    {
      "cell_type": "code",
      "metadata": {
        "id": "LkHjGGgNJwXv",
        "colab_type": "code",
        "outputId": "54e17faa-afc9-4c49-9311-5a1293fb5d63",
        "colab": {
          "base_uri": "https://localhost:8080/",
          "height": 224
        }
      },
      "source": [
        "train_counts.head()"
      ],
      "execution_count": 0,
      "outputs": [
        {
          "output_type": "execute_result",
          "data": {
            "text/html": [
              "<div>\n",
              "<style scoped>\n",
              "    .dataframe tbody tr th:only-of-type {\n",
              "        vertical-align: middle;\n",
              "    }\n",
              "\n",
              "    .dataframe tbody tr th {\n",
              "        vertical-align: top;\n",
              "    }\n",
              "\n",
              "    .dataframe thead th {\n",
              "        text-align: right;\n",
              "    }\n",
              "</style>\n",
              "<table border=\"1\" class=\"dataframe\">\n",
              "  <thead>\n",
              "    <tr style=\"text-align: right;\">\n",
              "      <th></th>\n",
              "      <th>bidder_id</th>\n",
              "      <th>payment_account</th>\n",
              "      <th>address</th>\n",
              "      <th>outcome</th>\n",
              "      <th>count_bid_id</th>\n",
              "      <th>count_device</th>\n",
              "      <th>count_country</th>\n",
              "      <th>count_ip</th>\n",
              "      <th>count_merchandise</th>\n",
              "      <th>count_auction</th>\n",
              "      <th>count_url</th>\n",
              "      <th>average_bids_per_auction</th>\n",
              "      <th>average_bids_per_url</th>\n",
              "      <th>average_bids_per_device</th>\n",
              "      <th>average_bids_per_country</th>\n",
              "    </tr>\n",
              "  </thead>\n",
              "  <tbody>\n",
              "    <tr>\n",
              "      <th>0</th>\n",
              "      <td>91a3c57b13234af24875c56fb7e2b2f4rb56a</td>\n",
              "      <td>a3d2de7675556553a5f08e4c88d2c228754av</td>\n",
              "      <td>a3d2de7675556553a5f08e4c88d2c228vt0u4</td>\n",
              "      <td>0.0</td>\n",
              "      <td>24.0</td>\n",
              "      <td>14.0</td>\n",
              "      <td>6.0</td>\n",
              "      <td>20.0</td>\n",
              "      <td>1.0</td>\n",
              "      <td>18.0</td>\n",
              "      <td>1.0</td>\n",
              "      <td>1.333333</td>\n",
              "      <td>24.000000</td>\n",
              "      <td>1.714286</td>\n",
              "      <td>4.0</td>\n",
              "    </tr>\n",
              "    <tr>\n",
              "      <th>1</th>\n",
              "      <td>624f258b49e77713fc34034560f93fb3hu3jo</td>\n",
              "      <td>a3d2de7675556553a5f08e4c88d2c228v1sga</td>\n",
              "      <td>ae87054e5a97a8f840a3991d12611fdcrfbq3</td>\n",
              "      <td>0.0</td>\n",
              "      <td>3.0</td>\n",
              "      <td>2.0</td>\n",
              "      <td>1.0</td>\n",
              "      <td>3.0</td>\n",
              "      <td>1.0</td>\n",
              "      <td>1.0</td>\n",
              "      <td>2.0</td>\n",
              "      <td>3.000000</td>\n",
              "      <td>1.500000</td>\n",
              "      <td>1.500000</td>\n",
              "      <td>3.0</td>\n",
              "    </tr>\n",
              "    <tr>\n",
              "      <th>2</th>\n",
              "      <td>1c5f4fc669099bfbfac515cd26997bd12ruaj</td>\n",
              "      <td>a3d2de7675556553a5f08e4c88d2c2280cybl</td>\n",
              "      <td>92520288b50f03907041887884ba49c0cl0pd</td>\n",
              "      <td>0.0</td>\n",
              "      <td>4.0</td>\n",
              "      <td>2.0</td>\n",
              "      <td>1.0</td>\n",
              "      <td>4.0</td>\n",
              "      <td>1.0</td>\n",
              "      <td>4.0</td>\n",
              "      <td>2.0</td>\n",
              "      <td>1.000000</td>\n",
              "      <td>2.000000</td>\n",
              "      <td>2.000000</td>\n",
              "      <td>4.0</td>\n",
              "    </tr>\n",
              "    <tr>\n",
              "      <th>3</th>\n",
              "      <td>4bee9aba2abda51bf43d639013d6efe12iycd</td>\n",
              "      <td>51d80e233f7b6a7dfdee484a3c120f3b2ita8</td>\n",
              "      <td>4cb9717c8ad7e88a9a284989dd79b98dbevyi</td>\n",
              "      <td>0.0</td>\n",
              "      <td>1.0</td>\n",
              "      <td>1.0</td>\n",
              "      <td>1.0</td>\n",
              "      <td>1.0</td>\n",
              "      <td>1.0</td>\n",
              "      <td>1.0</td>\n",
              "      <td>1.0</td>\n",
              "      <td>1.000000</td>\n",
              "      <td>1.000000</td>\n",
              "      <td>1.000000</td>\n",
              "      <td>1.0</td>\n",
              "    </tr>\n",
              "    <tr>\n",
              "      <th>4</th>\n",
              "      <td>4ab12bc61c82ddd9c2d65e60555808acqgos1</td>\n",
              "      <td>a3d2de7675556553a5f08e4c88d2c22857ddh</td>\n",
              "      <td>2a96c3ce94b3be921e0296097b88b56a7x1ji</td>\n",
              "      <td>0.0</td>\n",
              "      <td>155.0</td>\n",
              "      <td>53.0</td>\n",
              "      <td>2.0</td>\n",
              "      <td>123.0</td>\n",
              "      <td>1.0</td>\n",
              "      <td>23.0</td>\n",
              "      <td>91.0</td>\n",
              "      <td>6.739130</td>\n",
              "      <td>1.703297</td>\n",
              "      <td>2.924528</td>\n",
              "      <td>77.5</td>\n",
              "    </tr>\n",
              "  </tbody>\n",
              "</table>\n",
              "</div>"
            ],
            "text/plain": [
              "                               bidder_id  ... average_bids_per_country\n",
              "0  91a3c57b13234af24875c56fb7e2b2f4rb56a  ...                      4.0\n",
              "1  624f258b49e77713fc34034560f93fb3hu3jo  ...                      3.0\n",
              "2  1c5f4fc669099bfbfac515cd26997bd12ruaj  ...                      4.0\n",
              "3  4bee9aba2abda51bf43d639013d6efe12iycd  ...                      1.0\n",
              "4  4ab12bc61c82ddd9c2d65e60555808acqgos1  ...                     77.5\n",
              "\n",
              "[5 rows x 15 columns]"
            ]
          },
          "metadata": {
            "tags": []
          },
          "execution_count": 29
        }
      ]
    },
    {
      "cell_type": "code",
      "metadata": {
        "id": "el8QcU5dJHGI",
        "colab_type": "code",
        "colab": {}
      },
      "source": [
        "human_data = train_counts[train_counts['outcome'] == 0]\n",
        "robot_data = train_counts[train_counts['outcome'] == 1]"
      ],
      "execution_count": 0,
      "outputs": []
    },
    {
      "cell_type": "code",
      "metadata": {
        "id": "P-npifkvDhdY",
        "colab_type": "code",
        "outputId": "f0616e2f-9f47-4c50-f3da-2993c40e5fa9",
        "colab": {
          "base_uri": "https://localhost:8080/",
          "height": 187
        }
      },
      "source": [
        "print(f\"average bids per robot: %.0f\" % robot_data.count_bid_id.mean() )\n",
        "print(f\"average bids per human:  %.0f\" % human_data.count_bid_id.mean())\n",
        "print(f\"average bids per auction by robot: %.0f\" % robot_data.average_bids_per_auction.mean())\n",
        "print(f\"average bids per auction by human:  %.0f\" % human_data.average_bids_per_auction.mean())\n",
        "print(f\"average number of devices by robot: %.0f\" % robot_data.count_device.mean())\n",
        "print(f\"average number of devices by human:  %.0f\" % human_data.count_device.mean())\n",
        "print(f\"average number of IPs by robot: %.0f\" % robot_data.count_ip.mean())\n",
        "print(f\"average number of IPs by human:  %.0f\" % human_data.count_ip.mean())\n",
        "print(f\"average number of URLs by robot: %.0f\" % robot_data.count_url.mean())\n",
        "print(f\"average number of URLs by human:  %.0f\" % human_data.count_url.mean())"
      ],
      "execution_count": 0,
      "outputs": [
        {
          "output_type": "stream",
          "text": [
            "average bids per robot: 4004\n",
            "average bids per human:  1414\n",
            "average bids per auction by robot: 23\n",
            "average bids per auction by human:  6\n",
            "average number of devices by robot: 164\n",
            "average number of devices by human:  74\n",
            "average number of IPs by robot: 2388\n",
            "average number of IPs by human:  581\n",
            "average number of URLs by robot: 545\n",
            "average number of URLs by human:  335\n"
          ],
          "name": "stdout"
        }
      ]
    },
    {
      "cell_type": "markdown",
      "metadata": {
        "id": "UDpY1aoGE9cm",
        "colab_type": "text"
      },
      "source": [
        "# Trying to separate Bots from Humans"
      ]
    },
    {
      "cell_type": "code",
      "metadata": {
        "id": "NTLxn5crDspR",
        "colab_type": "code",
        "outputId": "efde4ef1-6e50-47f6-d5d8-020b7aea2d15",
        "colab": {
          "base_uri": "https://localhost:8080/",
          "height": 1000
        }
      },
      "source": [
        "def plot_hist(column_name,lowest_bin,highest_bin,no_bins,name,joined):\n",
        "  fig, ax1 = plt.subplots()\n",
        "  bins = np.linspace(lowest_bin,highest_bin,no_bins)\n",
        "  color = 'tab:blue'\n",
        "  col_name = name\n",
        "\n",
        "  ax1.hist(joined[joined['outcome'] == 0 ][column_name],bins,color=color,alpha=0.6,label='humans')\n",
        "  ax1.tick_params(axis='y', labelcolor=color)\n",
        "  ax1.legend(loc='upper center')\n",
        "  ax1.set_ylabel(col_name+' count per user (humans)')\n",
        "  ax1.set_xlabel(col_name)\n",
        "\n",
        "  ax2 = ax1.twinx() \n",
        "  color = 'tab:red'\n",
        "  ax2.hist(joined[joined['outcome'] == 1 ][column_name],bins,color=color,alpha=0.6,label='bots')\n",
        "  ax2.tick_params(axis='y', labelcolor=color)\n",
        "  ax2.legend(loc='upper right')\n",
        "  ax2.set_ylabel(col_name +' count per user (bots)')\n",
        "\n",
        "  fig.tight_layout()\n",
        "  plt.title(col_name + ' histogram - bots vs humans')\n",
        "  plt.xlabel('bid count per user')\n",
        "\n",
        "  plt.show()\n",
        "\n",
        "plot_hist('count_bid_id',0,2000,70,'bids',train_counts)\n",
        "plot_hist('count_device',0,500,70,'device',train_counts)\n",
        "plot_hist('count_country',0,200,70,'country',train_counts)\n",
        "plot_hist('count_ip',0,500,70,'ip',train_counts)\n",
        "plot_hist('count_url',0,1000,70,'url',train_counts)\n",
        "plot_hist('count_auction',0,1000,70,'auction',train_counts)"
      ],
      "execution_count": 0,
      "outputs": [
        {
          "output_type": "display_data",
          "data": {
            "image/png": "[encoded data removed]",
            "text/plain": [
              "<Figure size 432x288 with 2 Axes>"
            ]
          },
          "metadata": {
            "tags": []
          }
        },
        {
          "output_type": "display_data",
          "data": {
            "image/png": "[encoded data removed]",
            "text/plain": [
              "<Figure size 432x288 with 2 Axes>"
            ]
          },
          "metadata": {
            "tags": []
          }
        },
        {
          "output_type": "display_data",
          "data": {
            "image/png": "[encoded data removed]",
            "text/plain": [
              "<Figure size 432x288 with 2 Axes>"
            ]
          },
          "metadata": {
            "tags": []
          }
        },
        {
          "output_type": "display_data",
          "data": {
            "image/png": "[encoded data removed]",
            "text/plain": [
              "<Figure size 432x288 with 2 Axes>"
            ]
          },
          "metadata": {
            "tags": []
          }
        },
        {
          "output_type": "display_data",
          "data": {
            "image/png": "[encoded data removed]",
            "text/plain": [
              "<Figure size 432x288 with 2 Axes>"
            ]
          },
          "metadata": {
            "tags": []
          }
        },
        {
          "output_type": "display_data",
          "data": {
            "image/png": "[encoded data removed]",
            "text/plain": [
              "<Figure size 432x288 with 2 Axes>"
            ]
          },
          "metadata": {
            "tags": []
          }
        }
      ]
    },
    {
      "cell_type": "markdown",
      "metadata": {
        "id": "twvzTSQSIzWh",
        "colab_type": "text"
      },
      "source": [
        "from the above we can conclude **that the average bot uses a lot more bids, ip's and devices** and participates in **many more auctions** than the average human.\n",
        "we will now try to see if ther is a specific value that correlates with bots :\n"
      ]
    },
    {
      "cell_type": "markdown",
      "metadata": {
        "id": "XfQSlTjwMf9G",
        "colab_type": "text"
      },
      "source": [
        "we will now specify on bids that came only from train bidders (around 3M out of 7M ) because we want to see if there is a difference between bots / humans - we need the labels"
      ]
    },
    {
      "cell_type": "code",
      "metadata": {
        "id": "ep3sZuvBPckw",
        "colab_type": "code",
        "colab": {}
      },
      "source": [
        ""
      ],
      "execution_count": 0,
      "outputs": []
    },
    {
      "cell_type": "code",
      "metadata": {
        "id": "IU79GSPzKRxI",
        "colab_type": "code",
        "outputId": "91d6a170-1ba5-4577-88ac-c838e2a881b6",
        "colab": {
          "base_uri": "https://localhost:8080/",
          "height": 359
        }
      },
      "source": [
        "\n",
        "#this line takes only bids that belong to train - thus we add the labels to the bids\n",
        "train_bids = pd.merge(train, bids, on='bidder_id', how='left')\n",
        "\n",
        "bots = train_bids[train_bids['outcome'] == 1]\n",
        "humans = train_bids[train_bids['outcome'] == 0]\n",
        "\n",
        "bots_country = bots.groupby('country').count()\n",
        "bots_country = bots_country.drop(columns=['payment_account','address','outcome','time','bid_id','auction','merchandise','device','ip','url'])\n",
        "bots_country =bots_country.rename(columns={'bidder_id': 'bots'})\n",
        "bots_country = bots_country.sort_values(by=['bots'], ascending=False)\n",
        "bots_sum = bots_country['bots'].sum()\n",
        "bots_country['bots_per'] = bots_country['bots'].div(bots_sum)\n",
        "bots_country['bots_per'] = bots_country['bots_per'].multiply(100)\n",
        "\n",
        "# bots_country = bots_country.drop(columns=['bots'])\n",
        "\n",
        "human_country = humans.groupby('country').count()\n",
        "human_country = human_country.drop(columns=['payment_account','address','outcome','time','bid_id','auction','merchandise','device','ip','url'])\n",
        "human_country =human_country.rename(columns={'bidder_id': 'humans'})\n",
        "human_country = human_country.sort_values(by=['humans'], ascending=False)\n",
        "human_sum = human_country['humans'].sum()\n",
        "human_country['human_per'] = human_country['humans'].div(human_sum)\n",
        "human_country['human_per'] = human_country['human_per'].multiply(100)\n",
        "# human_country = human_country.drop(columns=['humans'])\n",
        "\n",
        "#for each country we want the percentage of bots / humans\n",
        "country_perc = bots_country.join(human_country, on='country')\n",
        "country_perc.head(10)\n",
        "country_perc.reset_index(inplace=True)\n",
        "\n",
        "\n",
        "country_perc.head(10)\n"
      ],
      "execution_count": 0,
      "outputs": [
        {
          "output_type": "execute_result",
          "data": {
            "text/html": [
              "<div>\n",
              "<style scoped>\n",
              "    .dataframe tbody tr th:only-of-type {\n",
              "        vertical-align: middle;\n",
              "    }\n",
              "\n",
              "    .dataframe tbody tr th {\n",
              "        vertical-align: top;\n",
              "    }\n",
              "\n",
              "    .dataframe thead th {\n",
              "        text-align: right;\n",
              "    }\n",
              "</style>\n",
              "<table border=\"1\" class=\"dataframe\">\n",
              "  <thead>\n",
              "    <tr style=\"text-align: right;\">\n",
              "      <th></th>\n",
              "      <th>country</th>\n",
              "      <th>bots</th>\n",
              "      <th>bots_per</th>\n",
              "      <th>humans</th>\n",
              "      <th>human_per</th>\n",
              "    </tr>\n",
              "  </thead>\n",
              "  <tbody>\n",
              "    <tr>\n",
              "      <th>0</th>\n",
              "      <td>in</td>\n",
              "      <td>86386</td>\n",
              "      <td>20.959692</td>\n",
              "      <td>559245.0</td>\n",
              "      <td>21.052978</td>\n",
              "    </tr>\n",
              "    <tr>\n",
              "      <th>1</th>\n",
              "      <td>us</td>\n",
              "      <td>66663</td>\n",
              "      <td>16.174333</td>\n",
              "      <td>73380.0</td>\n",
              "      <td>2.762416</td>\n",
              "    </tr>\n",
              "    <tr>\n",
              "      <th>2</th>\n",
              "      <td>id</td>\n",
              "      <td>20495</td>\n",
              "      <td>4.972668</td>\n",
              "      <td>153733.0</td>\n",
              "      <td>5.787334</td>\n",
              "    </tr>\n",
              "    <tr>\n",
              "      <th>3</th>\n",
              "      <td>de</td>\n",
              "      <td>18530</td>\n",
              "      <td>4.495903</td>\n",
              "      <td>10436.0</td>\n",
              "      <td>0.392867</td>\n",
              "    </tr>\n",
              "    <tr>\n",
              "      <th>4</th>\n",
              "      <td>th</td>\n",
              "      <td>17282</td>\n",
              "      <td>4.193103</td>\n",
              "      <td>67432.0</td>\n",
              "      <td>2.538502</td>\n",
              "    </tr>\n",
              "    <tr>\n",
              "      <th>5</th>\n",
              "      <td>za</td>\n",
              "      <td>13364</td>\n",
              "      <td>3.242485</td>\n",
              "      <td>141974.0</td>\n",
              "      <td>5.344662</td>\n",
              "    </tr>\n",
              "    <tr>\n",
              "      <th>6</th>\n",
              "      <td>ru</td>\n",
              "      <td>11100</td>\n",
              "      <td>2.693175</td>\n",
              "      <td>42774.0</td>\n",
              "      <td>1.610243</td>\n",
              "    </tr>\n",
              "    <tr>\n",
              "      <th>7</th>\n",
              "      <td>mx</td>\n",
              "      <td>10848</td>\n",
              "      <td>2.632032</td>\n",
              "      <td>46438.0</td>\n",
              "      <td>1.748175</td>\n",
              "    </tr>\n",
              "    <tr>\n",
              "      <th>8</th>\n",
              "      <td>my</td>\n",
              "      <td>10488</td>\n",
              "      <td>2.544686</td>\n",
              "      <td>77319.0</td>\n",
              "      <td>2.910701</td>\n",
              "    </tr>\n",
              "    <tr>\n",
              "      <th>9</th>\n",
              "      <td>ca</td>\n",
              "      <td>9205</td>\n",
              "      <td>2.233394</td>\n",
              "      <td>7804.0</td>\n",
              "      <td>0.293784</td>\n",
              "    </tr>\n",
              "  </tbody>\n",
              "</table>\n",
              "</div>"
            ],
            "text/plain": [
              "  country   bots   bots_per    humans  human_per\n",
              "0      in  86386  20.959692  559245.0  21.052978\n",
              "1      us  66663  16.174333   73380.0   2.762416\n",
              "2      id  20495   4.972668  153733.0   5.787334\n",
              "3      de  18530   4.495903   10436.0   0.392867\n",
              "4      th  17282   4.193103   67432.0   2.538502\n",
              "5      za  13364   3.242485  141974.0   5.344662\n",
              "6      ru  11100   2.693175   42774.0   1.610243\n",
              "7      mx  10848   2.632032   46438.0   1.748175\n",
              "8      my  10488   2.544686   77319.0   2.910701\n",
              "9      ca   9205   2.233394    7804.0   0.293784"
            ]
          },
          "metadata": {
            "tags": []
          },
          "execution_count": 33
        }
      ]
    },
    {
      "cell_type": "code",
      "metadata": {
        "id": "c-1fGRjZZVuP",
        "colab_type": "code",
        "outputId": "6b98d378-b7a2-4ab7-8ae3-fb9e6b6f7f74",
        "colab": {
          "base_uri": "https://localhost:8080/",
          "height": 868
        }
      },
      "source": [
        "top = 10\n",
        "country_perc['bots_ratio'] = country_perc['bots'] / country_perc['humans']\n",
        "country_perc.head(10)\n",
        "\n",
        "gr = country_perc.nlargest(top, 'bots_ratio')\n",
        "width = 0.5\n",
        "ind = [i for i in range(top)]\n",
        "plt.figure()\n",
        "plt.bar(ind,gr['bots_ratio'], width,label='bots ratio',color = 'tab:red',alpha=0.5)\n",
        "plt.xticks(ind,gr['country'])\n",
        "plt.title('Top ' + str(top) + ' Countries of bots/human ratio ')\n",
        "plt.ylabel('Bot bids / Human bids')\n",
        "plt.xlabel('Country code')\n",
        "plt.legend()\n",
        "\n",
        "\n",
        "country_perc['sum'] = country_perc['humans'] + country_perc['bots']\n",
        "country_perc['bots_ratio_per'] = country_perc['bots'] / country_perc['sum']\n",
        "country_perc['bots_ratio_per'] = country_perc['bots_ratio_per'].multiply(100)\n",
        "\n",
        "\n",
        "gr = country_perc.nlargest(top, 'bots_ratio_per')\n",
        "width = 0.5\n",
        "ind = [i for i in range(top)]\n",
        "plt.figure()\n",
        "plt.bar(ind,gr['bots_ratio_per'], width,label='bots ratio percent',color = 'tab:red',alpha=0.5)\n",
        "plt.xticks(ind,gr['country'])\n",
        "plt.title('Top ' + str(top) + ' Countries of bots (percents) ')\n",
        "plt.ylabel('Bot bids / Total bids')\n",
        "plt.xlabel('Country code')\n",
        "plt.legend()\n",
        "# plt.ylim([75,100])\n",
        "plt.axhline(y=80,linestyle='--',color='k')\n",
        "\n",
        "country_perc['human_ratio_per'] = country_perc['humans'] / country_perc['sum']\n",
        "country_perc['human_ratio_per'] = country_perc['human_ratio_per'].multiply(100)\n",
        "\n",
        "\n",
        "gr = country_perc.nlargest(top, 'human_ratio_per')\n",
        "width = 0.5\n",
        "ind = [i for i in range(top)]\n",
        "plt.figure()\n",
        "plt.bar(ind,gr['human_ratio_per'], width,label='human ratio percent',color = 'tab:blue',alpha=0.5)\n",
        "plt.xticks(ind,gr['country'])\n",
        "plt.title('Top ' + str(top) + ' Countries of human (percents) ')\n",
        "plt.ylabel('Human bids / Total bids')\n",
        "plt.xlabel('Country code')\n",
        "plt.legend()\n",
        "plt.ylim([97,100])"
      ],
      "execution_count": 0,
      "outputs": [
        {
          "output_type": "execute_result",
          "data": {
            "text/plain": [
              "(97, 100)"
            ]
          },
          "metadata": {
            "tags": []
          },
          "execution_count": 34
        },
        {
          "output_type": "display_data",
          "data": {
            "image/png": "[encoded data removed]",
            "text/plain": [
              "<Figure size 432x288 with 1 Axes>"
            ]
          },
          "metadata": {
            "tags": []
          }
        },
        {
          "output_type": "display_data",
          "data": {
            "image/png": "[encoded data removed]",
            "text/plain": [
              "<Figure size 432x288 with 1 Axes>"
            ]
          },
          "metadata": {
            "tags": []
          }
        },
        {
          "output_type": "display_data",
          "data": {
            "image/png": "[encoded data removed]",
            "text/plain": [
              "<Figure size 432x288 with 1 Axes>"
            ]
          },
          "metadata": {
            "tags": []
          }
        }
      ]
    }
  ]
}