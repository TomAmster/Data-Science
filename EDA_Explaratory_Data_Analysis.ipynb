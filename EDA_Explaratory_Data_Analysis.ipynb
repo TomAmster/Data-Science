{
  "nbformat": 4,
  "nbformat_minor": 0,
  "metadata": {
    "colab": {
      "name": "EDA - Explaratory Data Analysis",
      "provenance": [],
      "authorship_tag": "ABX9TyMJKGEFf90gmGaX6D1y0nJO",
      "include_colab_link": true
    },
    "kernelspec": {
      "name": "python3",
      "display_name": "Python 3"
    }
  },
  "cells": [
    {
      "cell_type": "markdown",
      "metadata": {
        "id": "view-in-github",
        "colab_type": "text"
      },
      "source": [
        "<a href=\"https://colab.research.google.com/github/TomAmster/Data-Science/blob/master/EDA_Explaratory_Data_Analysis.ipynb\" target=\"_parent\"><img src=\"https://colab.research.google.com/assets/colab-badge.svg\" alt=\"Open In Colab\"/></a>"
      ]
    },
    {
      "cell_type": "code",
      "metadata": {
        "id": "L8Oi5L6aCHXS",
        "colab_type": "code",
        "outputId": "e855e12b-a633-4df4-9180-acd0c0d2c9eb",
        "colab": {
          "base_uri": "https://localhost:8080/",
          "height": 122
        }
      },
      "source": [
        "from google.colab import drive\n",
        "drive.mount('/content/drive', force_remount=True)"
      ],
      "execution_count": 0,
      "outputs": [
        {
          "output_type": "stream",
          "text": [
            "Go to this URL in a browser: https://accounts.google.com/o/oauth2/auth?client_id=947318989803-6bn6qk8qdgf4n4g3pfee6491hc0brc4i.apps.googleusercontent.com&redirect_uri=urn%3aietf%3awg%3aoauth%3a2.0%3aoob&response_type=code&scope=email%20https%3a%2f%2fwww.googleapis.com%2fauth%2fdocs.test%20https%3a%2f%2fwww.googleapis.com%2fauth%2fdrive%20https%3a%2f%2fwww.googleapis.com%2fauth%2fdrive.photos.readonly%20https%3a%2f%2fwww.googleapis.com%2fauth%2fpeopleapi.readonly\n",
            "\n",
            "Enter your authorization code:\n",
            "··········\n",
            "Mounted at /content/drive\n"
          ],
          "name": "stdout"
        }
      ]
    },
    {
      "cell_type": "code",
      "metadata": {
        "id": "HMl4cvKqCSmb",
        "colab_type": "code",
        "colab": {}
      },
      "source": [
        "import csv\n",
        "import pandas as pd\n",
        "import matplotlib.pyplot as plt\n",
        "import seaborn as sns \n",
        "import numpy as np"
      ],
      "execution_count": 0,
      "outputs": []
    },
    {
      "cell_type": "markdown",
      "metadata": {
        "id": "RHxywn3DCiSC",
        "colab_type": "text"
      },
      "source": [
        "# **Explaratory Data Analysis**"
      ]
    },
    {
      "cell_type": "markdown",
      "metadata": {
        "id": "ANa64k-DCrZC",
        "colab_type": "text"
      },
      "source": [
        "## Loading the datasets\n"
      ]
    },
    {
      "cell_type": "code",
      "metadata": {
        "id": "GBKOwbo_Cd7i",
        "colab_type": "code",
        "colab": {}
      },
      "source": [
        "drive_dir = '/content/drive/Shared drives/DS Workshop/data/'\n",
        "train_path = drive_dir + 'train.csv'\n",
        "train = pd.read_csv(train_path)\n",
        "bids_path = drive_dir + 'bids.csv/bids.csv'\n",
        "bids = pd.read_csv(bids_path)\n",
        "test_path = drive_dir + 'test.csv'\n",
        "test = pd.read_csv(test_path)"
      ],
      "execution_count": 0,
      "outputs": []
    },
    {
      "cell_type": "markdown",
      "metadata": {
        "id": "zx8fsSXUDRJa",
        "colab_type": "text"
      },
      "source": [
        "### Merging Datasets- Train & Test with the Bids"
      ]
    },
    {
      "cell_type": "code",
      "metadata": {
        "id": "wJa5W1ECDOQK",
        "colab_type": "code",
        "outputId": "f121057a-c0b9-40f2-ea84-f9d70005cc09",
        "colab": {
          "base_uri": "https://localhost:8080/",
          "height": 173
        }
      },
      "source": [
        "bidders_df = pd.concat([train, test])\n",
        "merged_bids = pd.merge(bidders_df, bids, on='bidder_id', how='left')\n",
        "train_bids = pd.merge(train, bids, on='bidder_id', how='left')"
      ],
      "execution_count": 0,
      "outputs": [
        {
          "output_type": "stream",
          "text": [
            "/usr/local/lib/python3.6/dist-packages/ipykernel_launcher.py:1: FutureWarning: Sorting because non-concatenation axis is not aligned. A future version\n",
            "of pandas will change to not sort by default.\n",
            "\n",
            "To accept the future behavior, pass 'sort=False'.\n",
            "\n",
            "To retain the current behavior and silence the warning, pass 'sort=True'.\n",
            "\n",
            "  \"\"\"Entry point for launching an IPython kernel.\n"
          ],
          "name": "stderr"
        }
      ]
    },
    {
      "cell_type": "markdown",
      "metadata": {
        "id": "Ze_sVLkvDAux",
        "colab_type": "text"
      },
      "source": [
        "## General Dataset Information"
      ]
    },
    {
      "cell_type": "code",
      "metadata": {
        "id": "Leu1OwPVC2hE",
        "colab_type": "code",
        "outputId": "f2a41c51-92de-4bc0-dbc5-8190c6d728f2",
        "colab": {
          "base_uri": "https://localhost:8080/",
          "height": 204
        }
      },
      "source": [
        "print(f\"total row in bid:          {len(merged_bids)}\")\n",
        "print(f\"total bids in bid:         {len(merged_bids['bid_id'].unique())}\")\n",
        "print(f\"total bidder in bids:      {len(merged_bids['bidder_id'].unique())}\")\n",
        "print(f\"total payment in bids:     {len(merged_bids['payment_account'].unique())}\")\n",
        "print(f\"total address in bids:     {len(merged_bids['address'].unique())}\")\n",
        "print(f\"total auction in bids:     {len(merged_bids['auction'].unique())}\")\n",
        "print(f\"total merchandise in bids: {len(merged_bids['merchandise'].unique())}\")\n",
        "print(f\"total device in bids:      {len(merged_bids['device'].unique())}\")\n",
        "print(f\"total country in bids:     {len(merged_bids['country'].unique())}\")\n",
        "print(f\"total ip in bids:          {len(merged_bids['ip'].unique())}\")\n",
        "print(f\"total url in bids:         {len(merged_bids['url'].unique())}\")"
      ],
      "execution_count": 0,
      "outputs": [
        {
          "output_type": "stream",
          "text": [
            "total row in bid:          7656433\n",
            "total bids in bid:         7656335\n",
            "total bidder in bids:      6713\n",
            "total payment in bids:     6713\n",
            "total address in bids:     6713\n",
            "total auction in bids:     15052\n",
            "total merchandise in bids: 11\n",
            "total device in bids:      7352\n",
            "total country in bids:     200\n",
            "total ip in bids:          2303992\n",
            "total url in bids:         1786352\n"
          ],
          "name": "stdout"
        }
      ]
    },
    {
      "cell_type": "code",
      "metadata": {
        "id": "nHKL4dy1DHuS",
        "colab_type": "code",
        "outputId": "ac7c7c3b-fd93-4fd0-e8ce-8d4acca124a3",
        "colab": {
          "base_uri": "https://localhost:8080/",
          "height": 68
        }
      },
      "source": [
        "print(\n",
        "    f\"total bids made by robots in data set: {len(bid[bid['outcome'] == 1])}\")\n",
        "print(\n",
        "    f\"total bids made by human in data set:  {len(bid[bid['outcome'] == 0])}\")\n",
        "print(\"the ratio of made by robot vs. bids made by human in data set: 3:20\")"
      ],
      "execution_count": 0,
      "outputs": [
        {
          "output_type": "stream",
          "text": [
            "total bids made by robots in data set: 412416\n",
            "total bids made by human in data set:  2658837\n",
            "the ratio of made by robot vs. bids made by human in data set: 3:20\n"
          ],
          "name": "stdout"
        }
      ]
    },
    {
      "cell_type": "markdown",
      "metadata": {
        "id": "KbpQ--raDlwP",
        "colab_type": "text"
      },
      "source": [
        "## Statistics Analysis - \n",
        "Checking Difference in pararmeters between robots and humans"
      ]
    },
    {
      "cell_type": "markdown",
      "metadata": {
        "id": "HUNrE6DFH_UP",
        "colab_type": "text"
      },
      "source": [
        "### Creating Count Statistics for the pararmeters"
      ]
    },
    {
      "cell_type": "code",
      "metadata": {
        "id": "Ya4D85oBD5U4",
        "colab_type": "code",
        "colab": {}
      },
      "source": [
        "bids_count = bids.groupby(\"bidder_id\")[\"bid_id\",\"device\",\"country\",\"ip\",\"merchandise\",\"auction\",\"url\"].nunique()\n",
        "bids_count.reset_index(inplace=True)\n",
        "bids_count = bids_count.add_prefix(\"count_\")\n",
        "bids_count.rename(columns={\"count_bidder_id\":\"bidder_id\"},inplace=True)\n",
        "train_counts = pd.merge(train,bids_count,on=\"bidder_id\",how=\"left\")"
      ],
      "execution_count": 0,
      "outputs": []
    },
    {
      "cell_type": "code",
      "metadata": {
        "id": "EX_7Zi5FIV0I",
        "colab_type": "code",
        "outputId": "73474807-4a6e-4cea-b86c-243ea5a8d5ea",
        "colab": {
          "base_uri": "https://localhost:8080/",
          "height": 224
        }
      },
      "source": [
        "train_counts.head()"
      ],
      "execution_count": 0,
      "outputs": [
        {
          "output_type": "execute_result",
          "data": {
            "text/html": [
              "<div>\n",
              "<style scoped>\n",
              "    .dataframe tbody tr th:only-of-type {\n",
              "        vertical-align: middle;\n",
              "    }\n",
              "\n",
              "    .dataframe tbody tr th {\n",
              "        vertical-align: top;\n",
              "    }\n",
              "\n",
              "    .dataframe thead th {\n",
              "        text-align: right;\n",
              "    }\n",
              "</style>\n",
              "<table border=\"1\" class=\"dataframe\">\n",
              "  <thead>\n",
              "    <tr style=\"text-align: right;\">\n",
              "      <th></th>\n",
              "      <th>bidder_id</th>\n",
              "      <th>payment_account</th>\n",
              "      <th>address</th>\n",
              "      <th>outcome</th>\n",
              "      <th>count_bid_id</th>\n",
              "      <th>count_device</th>\n",
              "      <th>count_country</th>\n",
              "      <th>count_ip</th>\n",
              "      <th>count_merchandise</th>\n",
              "      <th>count_auction</th>\n",
              "      <th>count_url</th>\n",
              "    </tr>\n",
              "  </thead>\n",
              "  <tbody>\n",
              "    <tr>\n",
              "      <th>0</th>\n",
              "      <td>91a3c57b13234af24875c56fb7e2b2f4rb56a</td>\n",
              "      <td>a3d2de7675556553a5f08e4c88d2c228754av</td>\n",
              "      <td>a3d2de7675556553a5f08e4c88d2c228vt0u4</td>\n",
              "      <td>0.0</td>\n",
              "      <td>24.0</td>\n",
              "      <td>14.0</td>\n",
              "      <td>6.0</td>\n",
              "      <td>20.0</td>\n",
              "      <td>1.0</td>\n",
              "      <td>18.0</td>\n",
              "      <td>1.0</td>\n",
              "    </tr>\n",
              "    <tr>\n",
              "      <th>1</th>\n",
              "      <td>624f258b49e77713fc34034560f93fb3hu3jo</td>\n",
              "      <td>a3d2de7675556553a5f08e4c88d2c228v1sga</td>\n",
              "      <td>ae87054e5a97a8f840a3991d12611fdcrfbq3</td>\n",
              "      <td>0.0</td>\n",
              "      <td>3.0</td>\n",
              "      <td>2.0</td>\n",
              "      <td>1.0</td>\n",
              "      <td>3.0</td>\n",
              "      <td>1.0</td>\n",
              "      <td>1.0</td>\n",
              "      <td>2.0</td>\n",
              "    </tr>\n",
              "    <tr>\n",
              "      <th>2</th>\n",
              "      <td>1c5f4fc669099bfbfac515cd26997bd12ruaj</td>\n",
              "      <td>a3d2de7675556553a5f08e4c88d2c2280cybl</td>\n",
              "      <td>92520288b50f03907041887884ba49c0cl0pd</td>\n",
              "      <td>0.0</td>\n",
              "      <td>4.0</td>\n",
              "      <td>2.0</td>\n",
              "      <td>1.0</td>\n",
              "      <td>4.0</td>\n",
              "      <td>1.0</td>\n",
              "      <td>4.0</td>\n",
              "      <td>2.0</td>\n",
              "    </tr>\n",
              "    <tr>\n",
              "      <th>3</th>\n",
              "      <td>4bee9aba2abda51bf43d639013d6efe12iycd</td>\n",
              "      <td>51d80e233f7b6a7dfdee484a3c120f3b2ita8</td>\n",
              "      <td>4cb9717c8ad7e88a9a284989dd79b98dbevyi</td>\n",
              "      <td>0.0</td>\n",
              "      <td>1.0</td>\n",
              "      <td>1.0</td>\n",
              "      <td>1.0</td>\n",
              "      <td>1.0</td>\n",
              "      <td>1.0</td>\n",
              "      <td>1.0</td>\n",
              "      <td>1.0</td>\n",
              "    </tr>\n",
              "    <tr>\n",
              "      <th>4</th>\n",
              "      <td>4ab12bc61c82ddd9c2d65e60555808acqgos1</td>\n",
              "      <td>a3d2de7675556553a5f08e4c88d2c22857ddh</td>\n",
              "      <td>2a96c3ce94b3be921e0296097b88b56a7x1ji</td>\n",
              "      <td>0.0</td>\n",
              "      <td>155.0</td>\n",
              "      <td>53.0</td>\n",
              "      <td>2.0</td>\n",
              "      <td>123.0</td>\n",
              "      <td>1.0</td>\n",
              "      <td>23.0</td>\n",
              "      <td>91.0</td>\n",
              "    </tr>\n",
              "  </tbody>\n",
              "</table>\n",
              "</div>"
            ],
            "text/plain": [
              "                               bidder_id  ... count_url\n",
              "0  91a3c57b13234af24875c56fb7e2b2f4rb56a  ...       1.0\n",
              "1  624f258b49e77713fc34034560f93fb3hu3jo  ...       2.0\n",
              "2  1c5f4fc669099bfbfac515cd26997bd12ruaj  ...       2.0\n",
              "3  4bee9aba2abda51bf43d639013d6efe12iycd  ...       1.0\n",
              "4  4ab12bc61c82ddd9c2d65e60555808acqgos1  ...      91.0\n",
              "\n",
              "[5 rows x 11 columns]"
            ]
          },
          "metadata": {
            "tags": []
          },
          "execution_count": 16
        }
      ]
    },
    {
      "cell_type": "markdown",
      "metadata": {
        "id": "sDohlGAhIKJp",
        "colab_type": "text"
      },
      "source": [
        "### Creating Count Statistics Per Parameter Per Auction"
      ]
    },
    {
      "cell_type": "code",
      "metadata": {
        "id": "1TKr4HY1HrmQ",
        "colab_type": "code",
        "colab": {}
      },
      "source": [
        "train_counts['average_bids_per_auction'] = train_counts.apply(lambda row:row['count_bid_id']/row['count_auction'] if row['count_auction']>0 else 0, axis=1) \n",
        "train_counts['average_bids_per_url'] = train_counts.apply(lambda row:row['count_bid_id']/row['count_url'] if row['count_url']>0 else 0, axis=1) \n",
        "train_counts['average_bids_per_device'] = train_counts.apply(lambda row:row['count_bid_id']/row['count_device'] if row['count_device']>0 else 0, axis=1) \n",
        "train_counts['average_bids_per_country'] = train_counts.apply(lambda row:row['count_bid_id']/row['count_country'] if row['count_country']>0 else 0, axis=1) "
      ],
      "execution_count": 0,
      "outputs": []
    },
    {
      "cell_type": "code",
      "metadata": {
        "id": "LkHjGGgNJwXv",
        "colab_type": "code",
        "outputId": "875d37a6-64f5-4364-d7a1-e35c20fd6606",
        "colab": {
          "base_uri": "https://localhost:8080/",
          "height": 224
        }
      },
      "source": [
        "train_counts.head()"
      ],
      "execution_count": 0,
      "outputs": [
        {
          "output_type": "execute_result",
          "data": {
            "text/html": [
              "<div>\n",
              "<style scoped>\n",
              "    .dataframe tbody tr th:only-of-type {\n",
              "        vertical-align: middle;\n",
              "    }\n",
              "\n",
              "    .dataframe tbody tr th {\n",
              "        vertical-align: top;\n",
              "    }\n",
              "\n",
              "    .dataframe thead th {\n",
              "        text-align: right;\n",
              "    }\n",
              "</style>\n",
              "<table border=\"1\" class=\"dataframe\">\n",
              "  <thead>\n",
              "    <tr style=\"text-align: right;\">\n",
              "      <th></th>\n",
              "      <th>bidder_id</th>\n",
              "      <th>payment_account</th>\n",
              "      <th>address</th>\n",
              "      <th>outcome</th>\n",
              "      <th>count_bid_id</th>\n",
              "      <th>count_device</th>\n",
              "      <th>count_country</th>\n",
              "      <th>count_ip</th>\n",
              "      <th>count_merchandise</th>\n",
              "      <th>count_auction</th>\n",
              "      <th>count_url</th>\n",
              "      <th>average_bids_per_auction</th>\n",
              "      <th>average_bids_per_url</th>\n",
              "      <th>average_bids_per_device</th>\n",
              "      <th>average_bids_per_country</th>\n",
              "    </tr>\n",
              "  </thead>\n",
              "  <tbody>\n",
              "    <tr>\n",
              "      <th>0</th>\n",
              "      <td>91a3c57b13234af24875c56fb7e2b2f4rb56a</td>\n",
              "      <td>a3d2de7675556553a5f08e4c88d2c228754av</td>\n",
              "      <td>a3d2de7675556553a5f08e4c88d2c228vt0u4</td>\n",
              "      <td>0.0</td>\n",
              "      <td>24.0</td>\n",
              "      <td>14.0</td>\n",
              "      <td>6.0</td>\n",
              "      <td>20.0</td>\n",
              "      <td>1.0</td>\n",
              "      <td>18.0</td>\n",
              "      <td>1.0</td>\n",
              "      <td>1.333333</td>\n",
              "      <td>24.000000</td>\n",
              "      <td>1.714286</td>\n",
              "      <td>4.0</td>\n",
              "    </tr>\n",
              "    <tr>\n",
              "      <th>1</th>\n",
              "      <td>624f258b49e77713fc34034560f93fb3hu3jo</td>\n",
              "      <td>a3d2de7675556553a5f08e4c88d2c228v1sga</td>\n",
              "      <td>ae87054e5a97a8f840a3991d12611fdcrfbq3</td>\n",
              "      <td>0.0</td>\n",
              "      <td>3.0</td>\n",
              "      <td>2.0</td>\n",
              "      <td>1.0</td>\n",
              "      <td>3.0</td>\n",
              "      <td>1.0</td>\n",
              "      <td>1.0</td>\n",
              "      <td>2.0</td>\n",
              "      <td>3.000000</td>\n",
              "      <td>1.500000</td>\n",
              "      <td>1.500000</td>\n",
              "      <td>3.0</td>\n",
              "    </tr>\n",
              "    <tr>\n",
              "      <th>2</th>\n",
              "      <td>1c5f4fc669099bfbfac515cd26997bd12ruaj</td>\n",
              "      <td>a3d2de7675556553a5f08e4c88d2c2280cybl</td>\n",
              "      <td>92520288b50f03907041887884ba49c0cl0pd</td>\n",
              "      <td>0.0</td>\n",
              "      <td>4.0</td>\n",
              "      <td>2.0</td>\n",
              "      <td>1.0</td>\n",
              "      <td>4.0</td>\n",
              "      <td>1.0</td>\n",
              "      <td>4.0</td>\n",
              "      <td>2.0</td>\n",
              "      <td>1.000000</td>\n",
              "      <td>2.000000</td>\n",
              "      <td>2.000000</td>\n",
              "      <td>4.0</td>\n",
              "    </tr>\n",
              "    <tr>\n",
              "      <th>3</th>\n",
              "      <td>4bee9aba2abda51bf43d639013d6efe12iycd</td>\n",
              "      <td>51d80e233f7b6a7dfdee484a3c120f3b2ita8</td>\n",
              "      <td>4cb9717c8ad7e88a9a284989dd79b98dbevyi</td>\n",
              "      <td>0.0</td>\n",
              "      <td>1.0</td>\n",
              "      <td>1.0</td>\n",
              "      <td>1.0</td>\n",
              "      <td>1.0</td>\n",
              "      <td>1.0</td>\n",
              "      <td>1.0</td>\n",
              "      <td>1.0</td>\n",
              "      <td>1.000000</td>\n",
              "      <td>1.000000</td>\n",
              "      <td>1.000000</td>\n",
              "      <td>1.0</td>\n",
              "    </tr>\n",
              "    <tr>\n",
              "      <th>4</th>\n",
              "      <td>4ab12bc61c82ddd9c2d65e60555808acqgos1</td>\n",
              "      <td>a3d2de7675556553a5f08e4c88d2c22857ddh</td>\n",
              "      <td>2a96c3ce94b3be921e0296097b88b56a7x1ji</td>\n",
              "      <td>0.0</td>\n",
              "      <td>155.0</td>\n",
              "      <td>53.0</td>\n",
              "      <td>2.0</td>\n",
              "      <td>123.0</td>\n",
              "      <td>1.0</td>\n",
              "      <td>23.0</td>\n",
              "      <td>91.0</td>\n",
              "      <td>6.739130</td>\n",
              "      <td>1.703297</td>\n",
              "      <td>2.924528</td>\n",
              "      <td>77.5</td>\n",
              "    </tr>\n",
              "  </tbody>\n",
              "</table>\n",
              "</div>"
            ],
            "text/plain": [
              "                               bidder_id  ... average_bids_per_country\n",
              "0  91a3c57b13234af24875c56fb7e2b2f4rb56a  ...                      4.0\n",
              "1  624f258b49e77713fc34034560f93fb3hu3jo  ...                      3.0\n",
              "2  1c5f4fc669099bfbfac515cd26997bd12ruaj  ...                      4.0\n",
              "3  4bee9aba2abda51bf43d639013d6efe12iycd  ...                      1.0\n",
              "4  4ab12bc61c82ddd9c2d65e60555808acqgos1  ...                     77.5\n",
              "\n",
              "[5 rows x 15 columns]"
            ]
          },
          "metadata": {
            "tags": []
          },
          "execution_count": 21
        }
      ]
    },
    {
      "cell_type": "code",
      "metadata": {
        "id": "el8QcU5dJHGI",
        "colab_type": "code",
        "colab": {}
      },
      "source": [
        "human_data = train_counts[train_counts['outcome'] == 0]\n",
        "robot_data = train_counts[train_counts['outcome'] == 1]"
      ],
      "execution_count": 0,
      "outputs": []
    },
    {
      "cell_type": "code",
      "metadata": {
        "id": "P-npifkvDhdY",
        "colab_type": "code",
        "outputId": "d86672a2-4e25-4381-9f2f-b1e7222b328a",
        "colab": {
          "base_uri": "https://localhost:8080/",
          "height": 187
        }
      },
      "source": [
        "print(f\"average bids per robot: %.0f\" % robot_data.count_bid_id.mean() )\n",
        "print(f\"average bids per human:  %.0f\" % human_data.count_bid_id.mean())\n",
        "print(f\"average bids per auction by robot: %.0f\" % robot_data.average_bids_per_auction.mean())\n",
        "print(f\"average bids per auction by human:  %.0f\" % human_data.average_bids_per_auction.mean())\n",
        "print(f\"average number of devices by robot: %.0f\" % robot_data.count_device.mean())\n",
        "print(f\"average number of devices by human:  %.0f\" % human_data.count_device.mean())\n",
        "print(f\"average number of IPs by robot: %.0f\" % robot_data.count_ip.mean())\n",
        "print(f\"average number of IPs by human:  %.0f\" % human_data.count_ip.mean())\n",
        "print(f\"average number of URLs by robot: %.0f\" % robot_data.count_url.mean())\n",
        "print(f\"average number of URLs by human:  %.0f\" % human_data.count_url.mean())"
      ],
      "execution_count": 0,
      "outputs": [
        {
          "output_type": "stream",
          "text": [
            "average bids per robot: 4004\n",
            "average bids per human:  1414\n",
            "average bids per auction by robot: 23\n",
            "average bids per auction by human:  6\n",
            "average number of devices by robot: 164\n",
            "average number of devices by human:  74\n",
            "average number of IPs by robot: 2388\n",
            "average number of IPs by human:  581\n",
            "average number of URLs by robot: 545\n",
            "average number of URLs by human:  335\n"
          ],
          "name": "stdout"
        }
      ]
    },
    {
      "cell_type": "code",
      "metadata": {
        "id": "NTLxn5crDspR",
        "colab_type": "code",
        "colab": {}
      },
      "source": [
        ""
      ],
      "execution_count": 0,
      "outputs": []
    }
  ]
}