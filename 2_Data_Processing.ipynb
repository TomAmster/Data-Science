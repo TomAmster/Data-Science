{
  "nbformat": 4,
  "nbformat_minor": 0,
  "metadata": {
    "colab": {
      "name": "2. Data Processing.ipynb",
      "provenance": [],
      "collapsed_sections": [],
      "toc_visible": true,
      "machine_shape": "hm",
      "include_colab_link": true
    },
    "kernelspec": {
      "name": "python3",
      "display_name": "Python 3"
    },
    "accelerator": "GPU"
  },
  "cells": [
    {
      "cell_type": "markdown",
      "metadata": {
        "id": "view-in-github",
        "colab_type": "text"
      },
      "source": [
        "<a href=\"https://colab.research.google.com/github/TomAmster/Data-Science/blob/master/2_Data_Processing.ipynb\" target=\"_parent\"><img src=\"https://colab.research.google.com/assets/colab-badge.svg\" alt=\"Open In Colab\"/></a>"
      ]
    },
    {
      "cell_type": "markdown",
      "metadata": {
        "id": "fPBAPxnAKYPJ",
        "colab_type": "text"
      },
      "source": [
        "# 0.Overview & Introduction\n",
        "\n",
        "1.   Loading and Downloading Datasets\n",
        "2.   Formatting ICD Codes\n",
        "3.   Merging Tokenized Note Summaries with ICD Code Labels Based on Admission IDs\n",
        "4.   Splitting The Merged Data Set to Train, Dev and Test Datasets.\n",
        "5. Building Word Vocabulary Base On Train Dataset\n",
        "6. Filtering Top 50 ICD Codes Notes\n",
        "\n"
      ]
    },
    {
      "cell_type": "code",
      "metadata": {
        "id": "nxyvmKOOK93e",
        "colab_type": "code",
        "outputId": "d75dd235-11f9-4d46-eada-7bde46e97f07",
        "colab": {
          "base_uri": "https://localhost:8080/",
          "height": 52
        }
      },
      "source": [
        "import pandas as pd\n",
        "import itertools\n",
        "from google.colab import drive\n",
        "import matplotlib.pyplot as plt\n",
        "import csv\n",
        "import seaborn as sns \n",
        "import numpy as np\n",
        "from  numpy import int32\n",
        "from collections import Counter, defaultdict\n",
        "from os import path"
      ],
      "execution_count": 0,
      "outputs": [
        {
          "output_type": "stream",
          "text": [
            "/usr/local/lib/python3.6/dist-packages/statsmodels/tools/_testing.py:19: FutureWarning: pandas.util.testing is deprecated. Use the functions in the public API at pandas.testing instead.\n",
            "  import pandas.util.testing as tm\n"
          ],
          "name": "stderr"
        }
      ]
    },
    {
      "cell_type": "code",
      "metadata": {
        "id": "QBEUV_fsAlSF",
        "colab_type": "code",
        "outputId": "2be8b5db-c958-4075-831b-638cb9a9ffdb",
        "colab": {
          "base_uri": "https://localhost:8080/",
          "height": 105
        }
      },
      "source": [
        "!pip install jsonlines\n",
        "import jsonlines"
      ],
      "execution_count": 0,
      "outputs": [
        {
          "output_type": "stream",
          "text": [
            "Collecting jsonlines\n",
            "  Downloading https://files.pythonhosted.org/packages/4f/9a/ab96291470e305504aa4b7a2e0ec132e930da89eb3ca7a82fbe03167c131/jsonlines-1.2.0-py2.py3-none-any.whl\n",
            "Requirement already satisfied: six in /usr/local/lib/python3.6/dist-packages (from jsonlines) (1.12.0)\n",
            "Installing collected packages: jsonlines\n",
            "Successfully installed jsonlines-1.2.0\n"
          ],
          "name": "stdout"
        }
      ]
    },
    {
      "cell_type": "code",
      "metadata": {
        "id": "hoqCV71qTbHc",
        "colab_type": "code",
        "outputId": "d4bfd957-2094-43a1-dc70-1bf32706b6fa",
        "colab": {
          "base_uri": "https://localhost:8080/",
          "height": 125
        }
      },
      "source": [
        "drive.mount('/content/drive', force_remount=True)\n"
      ],
      "execution_count": 0,
      "outputs": [
        {
          "output_type": "stream",
          "text": [
            "Go to this URL in a browser: https://accounts.google.com/o/oauth2/auth?client_id=947318989803-6bn6qk8qdgf4n4g3pfee6491hc0brc4i.apps.googleusercontent.com&redirect_uri=urn%3aietf%3awg%3aoauth%3a2.0%3aoob&response_type=code&scope=email%20https%3a%2f%2fwww.googleapis.com%2fauth%2fdocs.test%20https%3a%2f%2fwww.googleapis.com%2fauth%2fdrive%20https%3a%2f%2fwww.googleapis.com%2fauth%2fdrive.photos.readonly%20https%3a%2f%2fwww.googleapis.com%2fauth%2fpeopleapi.readonly\n",
            "\n",
            "Enter your authorization code:\n",
            "··········\n",
            "Mounted at /content/drive\n"
          ],
          "name": "stdout"
        }
      ]
    },
    {
      "cell_type": "markdown",
      "metadata": {
        "id": "UBL0eMY5Ds1c",
        "colab_type": "text"
      },
      "source": [
        "# 1.Preparing The Dataset\n"
      ]
    },
    {
      "cell_type": "markdown",
      "metadata": {
        "id": "wKKyTgEODxIt",
        "colab_type": "text"
      },
      "source": [
        "## 1.1 Donwload the Dataset\n",
        "*   Download the MIMIC Dataset from Physionet\n",
        "*   Unzipthe relevent schemas\n",
        "*   Move the Files to Google Drive"
      ]
    },
    {
      "cell_type": "code",
      "metadata": {
        "id": "1JrmSGRvUbkK",
        "colab_type": "code",
        "colab": {}
      },
      "source": [
        "# !wget -r -N -c -np --user tomamsterdam --ask-password https://physionet.org/files/mimiciii/1.4/\n",
        "# !gunzip  '/content/physionet.org/files/mimiciii/1.4/DIAGNOSES_ICD.csv.gz'\n",
        "#!mv '/content/physionet.org/files/mimiciii/1.4/DIAGNOSES_ICD.csv' '/content/drive/Shared drives/NLP Seminar/Data'"
      ],
      "execution_count": 0,
      "outputs": []
    },
    {
      "cell_type": "markdown",
      "metadata": {
        "id": "ZZmBlHzkELy3",
        "colab_type": "text"
      },
      "source": [
        "## 1.2 Load the Note Event Dataset\n",
        "This dataset includes the note summaries for the hospital hadmission.\n",
        "Columns are as follows:\n",
        "\n",
        "\n",
        "*   Subject ID - Unqiue ID for patient in the hospital\n",
        "*   HADM_ID   -  Unqiue ID for an hospital admission\n",
        "*   Chart Date - Time stamp\n",
        "*   Category - The type of the events summary\n",
        "*   Text - Long document of doctor notes\n",
        "\n"
      ]
    },
    {
      "cell_type": "code",
      "metadata": {
        "id": "f5g1VA0rWxUS",
        "colab_type": "code",
        "outputId": "534c798f-081f-470b-8f82-5d755ce66d07",
        "colab": {
          "base_uri": "https://localhost:8080/",
          "height": 51
        }
      },
      "source": [
        "dfproc = pd.read_csv('/content/drive/Shared drives/NLP Seminar/Data/NOTEEVENTS.csv')\n"
      ],
      "execution_count": 0,
      "outputs": [
        {
          "output_type": "stream",
          "text": [
            "/usr/local/lib/python3.6/dist-packages/IPython/core/interactiveshell.py:2718: DtypeWarning: Columns (4,5) have mixed types. Specify dtype option on import or set low_memory=False.\n",
            "  interactivity=interactivity, compiler=compiler, result=result)\n"
          ],
          "name": "stderr"
        }
      ]
    },
    {
      "cell_type": "code",
      "metadata": {
        "id": "cnKQo2_IXJVX",
        "colab_type": "code",
        "outputId": "dedb2fa7-f68a-46d8-965c-1b0c0be7f2b5",
        "colab": {
          "base_uri": "https://localhost:8080/",
          "height": 34
        }
      },
      "source": [
        "dfproc.shape"
      ],
      "execution_count": 0,
      "outputs": [
        {
          "output_type": "execute_result",
          "data": {
            "text/plain": [
              "(2083180, 11)"
            ]
          },
          "metadata": {
            "tags": []
          },
          "execution_count": 4
        }
      ]
    },
    {
      "cell_type": "markdown",
      "metadata": {
        "id": "0RvIpTSrE1uZ",
        "colab_type": "text"
      },
      "source": [
        "## 1.3 Split The Dataset To Smaller Chunks\n",
        "Due to the dataset size, we split the dataset to smaller chunks to be able to work with limited RAM resources\n"
      ]
    },
    {
      "cell_type": "code",
      "metadata": {
        "id": "HoSNthekXfD2",
        "colab_type": "code",
        "colab": {}
      },
      "source": [
        "df1 = dfproc.iloc[:500000, :]\n",
        "df2 = dfproc.iloc[500000:1000000, :]\n",
        "df3 = dfproc.iloc[1000000:1500000, :]\n",
        "df4 = dfproc.iloc[1500000:,:]"
      ],
      "execution_count": 0,
      "outputs": []
    },
    {
      "cell_type": "code",
      "metadata": {
        "id": "pNhFzLgDY4FB",
        "colab_type": "code",
        "outputId": "303d16a8-3e30-468d-ba36-17a1f24727bf",
        "colab": {
          "base_uri": "https://localhost:8080/",
          "height": 221
        }
      },
      "source": [
        "print(df1.shape)\n",
        "df1.head()"
      ],
      "execution_count": 0,
      "outputs": [
        {
          "output_type": "stream",
          "text": [
            "(500000, 11)\n"
          ],
          "name": "stdout"
        },
        {
          "output_type": "execute_result",
          "data": {
            "text/html": [
              "<div>\n",
              "<style scoped>\n",
              "    .dataframe tbody tr th:only-of-type {\n",
              "        vertical-align: middle;\n",
              "    }\n",
              "\n",
              "    .dataframe tbody tr th {\n",
              "        vertical-align: top;\n",
              "    }\n",
              "\n",
              "    .dataframe thead th {\n",
              "        text-align: right;\n",
              "    }\n",
              "</style>\n",
              "<table border=\"1\" class=\"dataframe\">\n",
              "  <thead>\n",
              "    <tr style=\"text-align: right;\">\n",
              "      <th></th>\n",
              "      <th>ROW_ID</th>\n",
              "      <th>SUBJECT_ID</th>\n",
              "      <th>HADM_ID</th>\n",
              "      <th>CHARTDATE</th>\n",
              "      <th>CHARTTIME</th>\n",
              "      <th>STORETIME</th>\n",
              "      <th>CATEGORY</th>\n",
              "      <th>DESCRIPTION</th>\n",
              "      <th>CGID</th>\n",
              "      <th>ISERROR</th>\n",
              "      <th>TEXT</th>\n",
              "    </tr>\n",
              "  </thead>\n",
              "  <tbody>\n",
              "    <tr>\n",
              "      <th>0</th>\n",
              "      <td>174</td>\n",
              "      <td>22532</td>\n",
              "      <td>167853.0</td>\n",
              "      <td>2151-08-04</td>\n",
              "      <td>NaN</td>\n",
              "      <td>NaN</td>\n",
              "      <td>Discharge summary</td>\n",
              "      <td>Report</td>\n",
              "      <td>NaN</td>\n",
              "      <td>NaN</td>\n",
              "      <td>Admission Date:  [**2151-7-16**]       Dischar...</td>\n",
              "    </tr>\n",
              "    <tr>\n",
              "      <th>1</th>\n",
              "      <td>175</td>\n",
              "      <td>13702</td>\n",
              "      <td>107527.0</td>\n",
              "      <td>2118-06-14</td>\n",
              "      <td>NaN</td>\n",
              "      <td>NaN</td>\n",
              "      <td>Discharge summary</td>\n",
              "      <td>Report</td>\n",
              "      <td>NaN</td>\n",
              "      <td>NaN</td>\n",
              "      <td>Admission Date:  [**2118-6-2**]       Discharg...</td>\n",
              "    </tr>\n",
              "    <tr>\n",
              "      <th>2</th>\n",
              "      <td>176</td>\n",
              "      <td>13702</td>\n",
              "      <td>167118.0</td>\n",
              "      <td>2119-05-25</td>\n",
              "      <td>NaN</td>\n",
              "      <td>NaN</td>\n",
              "      <td>Discharge summary</td>\n",
              "      <td>Report</td>\n",
              "      <td>NaN</td>\n",
              "      <td>NaN</td>\n",
              "      <td>Admission Date:  [**2119-5-4**]              D...</td>\n",
              "    </tr>\n",
              "    <tr>\n",
              "      <th>3</th>\n",
              "      <td>177</td>\n",
              "      <td>13702</td>\n",
              "      <td>196489.0</td>\n",
              "      <td>2124-08-18</td>\n",
              "      <td>NaN</td>\n",
              "      <td>NaN</td>\n",
              "      <td>Discharge summary</td>\n",
              "      <td>Report</td>\n",
              "      <td>NaN</td>\n",
              "      <td>NaN</td>\n",
              "      <td>Admission Date:  [**2124-7-21**]              ...</td>\n",
              "    </tr>\n",
              "    <tr>\n",
              "      <th>4</th>\n",
              "      <td>178</td>\n",
              "      <td>26880</td>\n",
              "      <td>135453.0</td>\n",
              "      <td>2162-03-25</td>\n",
              "      <td>NaN</td>\n",
              "      <td>NaN</td>\n",
              "      <td>Discharge summary</td>\n",
              "      <td>Report</td>\n",
              "      <td>NaN</td>\n",
              "      <td>NaN</td>\n",
              "      <td>Admission Date:  [**2162-3-3**]              D...</td>\n",
              "    </tr>\n",
              "  </tbody>\n",
              "</table>\n",
              "</div>"
            ],
            "text/plain": [
              "   ROW_ID  ...                                               TEXT\n",
              "0     174  ...  Admission Date:  [**2151-7-16**]       Dischar...\n",
              "1     175  ...  Admission Date:  [**2118-6-2**]       Discharg...\n",
              "2     176  ...  Admission Date:  [**2119-5-4**]              D...\n",
              "3     177  ...  Admission Date:  [**2124-7-21**]              ...\n",
              "4     178  ...  Admission Date:  [**2162-3-3**]              D...\n",
              "\n",
              "[5 rows x 11 columns]"
            ]
          },
          "metadata": {
            "tags": []
          },
          "execution_count": 13
        }
      ]
    },
    {
      "cell_type": "code",
      "metadata": {
        "id": "gHrEUBTqY9qi",
        "colab_type": "code",
        "outputId": "4c4dc6cb-aa36-4d75-c96c-b321823684d3",
        "colab": {
          "base_uri": "https://localhost:8080/",
          "height": 221
        }
      },
      "source": [
        "print(df2.shape)\n",
        "df2.head()"
      ],
      "execution_count": 0,
      "outputs": [
        {
          "output_type": "stream",
          "text": [
            "(500000, 11)\n"
          ],
          "name": "stdout"
        },
        {
          "output_type": "execute_result",
          "data": {
            "text/html": [
              "<div>\n",
              "<style scoped>\n",
              "    .dataframe tbody tr th:only-of-type {\n",
              "        vertical-align: middle;\n",
              "    }\n",
              "\n",
              "    .dataframe tbody tr th {\n",
              "        vertical-align: top;\n",
              "    }\n",
              "\n",
              "    .dataframe thead th {\n",
              "        text-align: right;\n",
              "    }\n",
              "</style>\n",
              "<table border=\"1\" class=\"dataframe\">\n",
              "  <thead>\n",
              "    <tr style=\"text-align: right;\">\n",
              "      <th></th>\n",
              "      <th>ROW_ID</th>\n",
              "      <th>SUBJECT_ID</th>\n",
              "      <th>HADM_ID</th>\n",
              "      <th>CHARTDATE</th>\n",
              "      <th>CHARTTIME</th>\n",
              "      <th>STORETIME</th>\n",
              "      <th>CATEGORY</th>\n",
              "      <th>DESCRIPTION</th>\n",
              "      <th>CGID</th>\n",
              "      <th>ISERROR</th>\n",
              "      <th>TEXT</th>\n",
              "    </tr>\n",
              "  </thead>\n",
              "  <tbody>\n",
              "    <tr>\n",
              "      <th>500000</th>\n",
              "      <td>505332</td>\n",
              "      <td>55514</td>\n",
              "      <td>170308.0</td>\n",
              "      <td>2193-01-04</td>\n",
              "      <td>2193-01-04 18:50:00</td>\n",
              "      <td>2193-01-04 18:50:29</td>\n",
              "      <td>Respiratory</td>\n",
              "      <td>Respiratory Care Shift Note</td>\n",
              "      <td>14913.0</td>\n",
              "      <td>NaN</td>\n",
              "      <td>TITLE:\\n   Demographics\\n   Day of intubation:...</td>\n",
              "    </tr>\n",
              "    <tr>\n",
              "      <th>500001</th>\n",
              "      <td>505399</td>\n",
              "      <td>67188</td>\n",
              "      <td>108429.0</td>\n",
              "      <td>2115-12-28</td>\n",
              "      <td>2115-12-28 06:17:00</td>\n",
              "      <td>2115-12-28 06:17:22</td>\n",
              "      <td>Nursing</td>\n",
              "      <td>Nursing Progress Note</td>\n",
              "      <td>21476.0</td>\n",
              "      <td>NaN</td>\n",
              "      <td>Pain control (acute pain, chronic pain)\\n   As...</td>\n",
              "    </tr>\n",
              "    <tr>\n",
              "      <th>500002</th>\n",
              "      <td>505400</td>\n",
              "      <td>54461</td>\n",
              "      <td>110002.0</td>\n",
              "      <td>2117-11-13</td>\n",
              "      <td>2117-11-13 01:30:00</td>\n",
              "      <td>2117-11-13 06:17:53</td>\n",
              "      <td>Nursing</td>\n",
              "      <td>Nursing Progress Note</td>\n",
              "      <td>16037.0</td>\n",
              "      <td>NaN</td>\n",
              "      <td>TITLE: The patient is a 37y/o male with a PMH ...</td>\n",
              "    </tr>\n",
              "    <tr>\n",
              "      <th>500003</th>\n",
              "      <td>505401</td>\n",
              "      <td>62143</td>\n",
              "      <td>167116.0</td>\n",
              "      <td>2102-12-16</td>\n",
              "      <td>2102-12-16 02:47:00</td>\n",
              "      <td>2102-12-16 06:23:08</td>\n",
              "      <td>Nursing</td>\n",
              "      <td>Nursing Progress Note</td>\n",
              "      <td>16302.0</td>\n",
              "      <td>NaN</td>\n",
              "      <td>67M with ARDS thought secondary to H1N1; cours...</td>\n",
              "    </tr>\n",
              "    <tr>\n",
              "      <th>500004</th>\n",
              "      <td>505497</td>\n",
              "      <td>82354</td>\n",
              "      <td>199749.0</td>\n",
              "      <td>2196-12-17</td>\n",
              "      <td>2196-12-17 11:45:00</td>\n",
              "      <td>2196-12-17 12:14:19</td>\n",
              "      <td>Nursing</td>\n",
              "      <td>Nursing Transfer Note</td>\n",
              "      <td>20818.0</td>\n",
              "      <td>NaN</td>\n",
              "      <td>73 yo gentleman with PMH significant for CVA, ...</td>\n",
              "    </tr>\n",
              "  </tbody>\n",
              "</table>\n",
              "</div>"
            ],
            "text/plain": [
              "        ROW_ID  ...                                               TEXT\n",
              "500000  505332  ...  TITLE:\\n   Demographics\\n   Day of intubation:...\n",
              "500001  505399  ...  Pain control (acute pain, chronic pain)\\n   As...\n",
              "500002  505400  ...  TITLE: The patient is a 37y/o male with a PMH ...\n",
              "500003  505401  ...  67M with ARDS thought secondary to H1N1; cours...\n",
              "500004  505497  ...  73 yo gentleman with PMH significant for CVA, ...\n",
              "\n",
              "[5 rows x 11 columns]"
            ]
          },
          "metadata": {
            "tags": []
          },
          "execution_count": 14
        }
      ]
    },
    {
      "cell_type": "code",
      "metadata": {
        "id": "7cIeQvl1ZX1y",
        "colab_type": "code",
        "outputId": "cd98f39d-5d22-489a-86ca-c2271bdd1491",
        "colab": {
          "base_uri": "https://localhost:8080/",
          "height": 306
        }
      },
      "source": [
        "print(df3.shape)\n",
        "df3.head()"
      ],
      "execution_count": 0,
      "outputs": [
        {
          "output_type": "stream",
          "text": [
            "(500000, 11)\n"
          ],
          "name": "stdout"
        },
        {
          "output_type": "execute_result",
          "data": {
            "text/html": [
              "<div>\n",
              "<style scoped>\n",
              "    .dataframe tbody tr th:only-of-type {\n",
              "        vertical-align: middle;\n",
              "    }\n",
              "\n",
              "    .dataframe tbody tr th {\n",
              "        vertical-align: top;\n",
              "    }\n",
              "\n",
              "    .dataframe thead th {\n",
              "        text-align: right;\n",
              "    }\n",
              "</style>\n",
              "<table border=\"1\" class=\"dataframe\">\n",
              "  <thead>\n",
              "    <tr style=\"text-align: right;\">\n",
              "      <th></th>\n",
              "      <th>ROW_ID</th>\n",
              "      <th>SUBJECT_ID</th>\n",
              "      <th>HADM_ID</th>\n",
              "      <th>CHARTDATE</th>\n",
              "      <th>CHARTTIME</th>\n",
              "      <th>STORETIME</th>\n",
              "      <th>CATEGORY</th>\n",
              "      <th>DESCRIPTION</th>\n",
              "      <th>CGID</th>\n",
              "      <th>ISERROR</th>\n",
              "      <th>TEXT</th>\n",
              "    </tr>\n",
              "  </thead>\n",
              "  <tbody>\n",
              "    <tr>\n",
              "      <th>1000000</th>\n",
              "      <td>1004752</td>\n",
              "      <td>27190</td>\n",
              "      <td>118590.0</td>\n",
              "      <td>2192-04-28</td>\n",
              "      <td>2192-04-28 11:26:00</td>\n",
              "      <td>NaN</td>\n",
              "      <td>Radiology</td>\n",
              "      <td>CHEST (PORTABLE AP)</td>\n",
              "      <td>NaN</td>\n",
              "      <td>NaN</td>\n",
              "      <td>[**2192-4-28**] 11:26 AM\\n CHEST (PORTABLE AP)...</td>\n",
              "    </tr>\n",
              "    <tr>\n",
              "      <th>1000001</th>\n",
              "      <td>1004753</td>\n",
              "      <td>28481</td>\n",
              "      <td>189424.0</td>\n",
              "      <td>2112-02-27</td>\n",
              "      <td>2112-02-27 11:27:00</td>\n",
              "      <td>NaN</td>\n",
              "      <td>Radiology</td>\n",
              "      <td>CHEST (PORTABLE AP)</td>\n",
              "      <td>NaN</td>\n",
              "      <td>NaN</td>\n",
              "      <td>[**2112-2-27**] 11:27 AM\\n CHEST (PORTABLE AP)...</td>\n",
              "    </tr>\n",
              "    <tr>\n",
              "      <th>1000002</th>\n",
              "      <td>1002969</td>\n",
              "      <td>31123</td>\n",
              "      <td>154148.0</td>\n",
              "      <td>2114-02-13</td>\n",
              "      <td>2114-02-13 20:32:00</td>\n",
              "      <td>NaN</td>\n",
              "      <td>Radiology</td>\n",
              "      <td>CHEST (PORTABLE AP)</td>\n",
              "      <td>NaN</td>\n",
              "      <td>NaN</td>\n",
              "      <td>[**2114-2-13**] 8:32 PM\\n CHEST (PORTABLE AP);...</td>\n",
              "    </tr>\n",
              "    <tr>\n",
              "      <th>1000003</th>\n",
              "      <td>1003006</td>\n",
              "      <td>711</td>\n",
              "      <td>158767.0</td>\n",
              "      <td>2185-04-06</td>\n",
              "      <td>2185-04-06 06:11:00</td>\n",
              "      <td>NaN</td>\n",
              "      <td>Radiology</td>\n",
              "      <td>CHEST (PORTABLE AP)</td>\n",
              "      <td>NaN</td>\n",
              "      <td>NaN</td>\n",
              "      <td>[**2185-4-6**] 6:11 AM\\n CHEST (PORTABLE AP)  ...</td>\n",
              "    </tr>\n",
              "    <tr>\n",
              "      <th>1000004</th>\n",
              "      <td>1003621</td>\n",
              "      <td>31301</td>\n",
              "      <td>169336.0</td>\n",
              "      <td>2138-02-15</td>\n",
              "      <td>2138-02-15 18:05:00</td>\n",
              "      <td>NaN</td>\n",
              "      <td>Radiology</td>\n",
              "      <td>CHEST (PORTABLE AP)</td>\n",
              "      <td>NaN</td>\n",
              "      <td>NaN</td>\n",
              "      <td>[**2138-2-15**] 6:05 PM\\n CHEST (PORTABLE AP) ...</td>\n",
              "    </tr>\n",
              "  </tbody>\n",
              "</table>\n",
              "</div>"
            ],
            "text/plain": [
              "          ROW_ID  ...                                               TEXT\n",
              "1000000  1004752  ...  [**2192-4-28**] 11:26 AM\\n CHEST (PORTABLE AP)...\n",
              "1000001  1004753  ...  [**2112-2-27**] 11:27 AM\\n CHEST (PORTABLE AP)...\n",
              "1000002  1002969  ...  [**2114-2-13**] 8:32 PM\\n CHEST (PORTABLE AP);...\n",
              "1000003  1003006  ...  [**2185-4-6**] 6:11 AM\\n CHEST (PORTABLE AP)  ...\n",
              "1000004  1003621  ...  [**2138-2-15**] 6:05 PM\\n CHEST (PORTABLE AP) ...\n",
              "\n",
              "[5 rows x 11 columns]"
            ]
          },
          "metadata": {
            "tags": []
          },
          "execution_count": 15
        }
      ]
    },
    {
      "cell_type": "code",
      "metadata": {
        "id": "JKMpFkzoZYV_",
        "colab_type": "code",
        "outputId": "af541478-c58a-48a5-fb33-c9f5aa65825d",
        "colab": {
          "base_uri": "https://localhost:8080/",
          "height": 306
        }
      },
      "source": [
        "print(df4.shape)\n",
        "df4.head()"
      ],
      "execution_count": 0,
      "outputs": [
        {
          "output_type": "stream",
          "text": [
            "(583180, 11)\n"
          ],
          "name": "stdout"
        },
        {
          "output_type": "execute_result",
          "data": {
            "text/html": [
              "<div>\n",
              "<style scoped>\n",
              "    .dataframe tbody tr th:only-of-type {\n",
              "        vertical-align: middle;\n",
              "    }\n",
              "\n",
              "    .dataframe tbody tr th {\n",
              "        vertical-align: top;\n",
              "    }\n",
              "\n",
              "    .dataframe thead th {\n",
              "        text-align: right;\n",
              "    }\n",
              "</style>\n",
              "<table border=\"1\" class=\"dataframe\">\n",
              "  <thead>\n",
              "    <tr style=\"text-align: right;\">\n",
              "      <th></th>\n",
              "      <th>ROW_ID</th>\n",
              "      <th>SUBJECT_ID</th>\n",
              "      <th>HADM_ID</th>\n",
              "      <th>CHARTDATE</th>\n",
              "      <th>CHARTTIME</th>\n",
              "      <th>STORETIME</th>\n",
              "      <th>CATEGORY</th>\n",
              "      <th>DESCRIPTION</th>\n",
              "      <th>CGID</th>\n",
              "      <th>ISERROR</th>\n",
              "      <th>TEXT</th>\n",
              "    </tr>\n",
              "  </thead>\n",
              "  <tbody>\n",
              "    <tr>\n",
              "      <th>1500000</th>\n",
              "      <td>1527953</td>\n",
              "      <td>20190</td>\n",
              "      <td>145260.0</td>\n",
              "      <td>2138-08-20</td>\n",
              "      <td>2138-08-20 17:31:00</td>\n",
              "      <td>2138-08-20 17:41:00</td>\n",
              "      <td>Nursing/other</td>\n",
              "      <td>Report</td>\n",
              "      <td>17582.0</td>\n",
              "      <td>NaN</td>\n",
              "      <td>7A-7P UPDATE\\nCV: HR ST, NO ECTOPY, SBP STABLE...</td>\n",
              "    </tr>\n",
              "    <tr>\n",
              "      <th>1500001</th>\n",
              "      <td>1522714</td>\n",
              "      <td>19815</td>\n",
              "      <td>154936.0</td>\n",
              "      <td>2137-10-24</td>\n",
              "      <td>2137-10-24 04:38:00</td>\n",
              "      <td>2137-10-24 04:52:00</td>\n",
              "      <td>Nursing/other</td>\n",
              "      <td>Report</td>\n",
              "      <td>15830.0</td>\n",
              "      <td>NaN</td>\n",
              "      <td>Nursing Process Note: 1900-0700\\nSignificant e...</td>\n",
              "    </tr>\n",
              "    <tr>\n",
              "      <th>1500002</th>\n",
              "      <td>1522715</td>\n",
              "      <td>19815</td>\n",
              "      <td>154936.0</td>\n",
              "      <td>2137-10-24</td>\n",
              "      <td>2137-10-24 06:14:00</td>\n",
              "      <td>2137-10-24 06:17:00</td>\n",
              "      <td>Nursing/other</td>\n",
              "      <td>Report</td>\n",
              "      <td>20955.0</td>\n",
              "      <td>NaN</td>\n",
              "      <td>RESPIRATORY CARE NOTE\\n\\nPT REMAINS [**Name (N...</td>\n",
              "    </tr>\n",
              "    <tr>\n",
              "      <th>1500003</th>\n",
              "      <td>1527611</td>\n",
              "      <td>20181</td>\n",
              "      <td>120654.0</td>\n",
              "      <td>2173-11-09</td>\n",
              "      <td>2173-11-09 06:43:00</td>\n",
              "      <td>2173-11-09 06:46:00</td>\n",
              "      <td>Nursing/other</td>\n",
              "      <td>Report</td>\n",
              "      <td>18725.0</td>\n",
              "      <td>NaN</td>\n",
              "      <td>RESP CARE: Pt remains trache [**Male First Nam...</td>\n",
              "    </tr>\n",
              "    <tr>\n",
              "      <th>1500004</th>\n",
              "      <td>1527612</td>\n",
              "      <td>20181</td>\n",
              "      <td>120654.0</td>\n",
              "      <td>2173-11-09</td>\n",
              "      <td>2173-11-09 17:39:00</td>\n",
              "      <td>2173-11-09 17:46:00</td>\n",
              "      <td>Nursing/other</td>\n",
              "      <td>Report</td>\n",
              "      <td>15627.0</td>\n",
              "      <td>NaN</td>\n",
              "      <td>nursing note: 7a-7p\\nneuro- pt awake and [** *...</td>\n",
              "    </tr>\n",
              "  </tbody>\n",
              "</table>\n",
              "</div>"
            ],
            "text/plain": [
              "          ROW_ID  ...                                               TEXT\n",
              "1500000  1527953  ...  7A-7P UPDATE\\nCV: HR ST, NO ECTOPY, SBP STABLE...\n",
              "1500001  1522714  ...  Nursing Process Note: 1900-0700\\nSignificant e...\n",
              "1500002  1522715  ...  RESPIRATORY CARE NOTE\\n\\nPT REMAINS [**Name (N...\n",
              "1500003  1527611  ...  RESP CARE: Pt remains trache [**Male First Nam...\n",
              "1500004  1527612  ...  nursing note: 7a-7p\\nneuro- pt awake and [** *...\n",
              "\n",
              "[5 rows x 11 columns]"
            ]
          },
          "metadata": {
            "tags": []
          },
          "execution_count": 16
        }
      ]
    },
    {
      "cell_type": "markdown",
      "metadata": {
        "id": "k2pepnbFFIpn",
        "colab_type": "text"
      },
      "source": [
        "## 1.4 Save Splitted Datasets"
      ]
    },
    {
      "cell_type": "code",
      "metadata": {
        "id": "Wod9b7oaX3jI",
        "colab_type": "code",
        "colab": {}
      },
      "source": [
        "df1.to_csv('/content/drive/Shared drives/NLP Seminar/Data/NOTEEVENTS_SPLIT_1.csv')\n",
        "df2.to_csv('/content/drive/Shared drives/NLP Seminar/Data/NOTEEVENTS_SPLIT_2.csv')\n",
        "df3.to_csv('/content/drive/Shared drives/NLP Seminar/Data/NOTEEVENTS_SPLIT_3.csv')\n",
        "df4.to_csv('/content/drive/Shared drives/NLP Seminar/Data/NOTEEVENTS_SPLIT_4.csv')"
      ],
      "execution_count": 0,
      "outputs": []
    },
    {
      "cell_type": "markdown",
      "metadata": {
        "id": "zAP-3A5i3jhz",
        "colab_type": "text"
      },
      "source": [
        "# 2.Correlate The Note Summaries With ICD Labels"
      ]
    },
    {
      "cell_type": "markdown",
      "metadata": {
        "id": "U-KtcPVk3lrT",
        "colab_type": "text"
      },
      "source": [
        "## 2.1 Load Diagnosis and Procedure ICD Codes\n",
        "\n",
        "The codes in MIMIC-III are given in separate files for procedures and diagnoses"
      ]
    },
    {
      "cell_type": "code",
      "metadata": {
        "id": "RmqhIRAk3aOY",
        "colab_type": "code",
        "colab": {}
      },
      "source": [
        "dfproc = pd.read_csv('/content/drive/Shared drives/NLP Seminar/Data/PROCEDURES_ICD.csv', dtype={'SUBJECT_ID':int32, 'HADM_ID':int32, 'ICD9_CODE':str}, keep_default_na=False, na_values='')\n",
        "dfproc_desc = pd.read_csv('/content/drive/Shared drives/NLP Seminar/Data/D_ICD_PROCEDURES.csv', dtype={'ICD9_CODE':str}, keep_default_na=False, na_values='')\n",
        "dfdiag = pd.read_csv('/content/drive/Shared drives/NLP Seminar/Data/DIAGNOSES_ICD.csv', dtype={'SUBJECT_ID':int32, 'HADM_ID':int32, 'ICD9_CODE':str}, keep_default_na=False, na_values='')\n",
        "dfdiag_desc = pd.read_csv('/content/drive/Shared drives/NLP Seminar/Data/D_ICD_DIAGNOSES.csv', dtype={'ICD9_CODE':str}, keep_default_na=False, na_values='')\n",
        "dfproc['ICD9_CODE'] = dfproc['ICD9_CODE'].fillna('')\n",
        "dfproc = dfproc.dropna(axis=0, subset=['SUBJECT_ID', 'HADM_ID'])\n",
        "dfdiag['ICD9_CODE'] = dfdiag['ICD9_CODE'].fillna('')\n",
        "dfdiag = dfdiag.dropna(axis=0, subset=['SUBJECT_ID', 'HADM_ID'])"
      ],
      "execution_count": 0,
      "outputs": []
    },
    {
      "cell_type": "markdown",
      "metadata": {
        "id": "3ZaApJv5F01G",
        "colab_type": "text"
      },
      "source": [
        "## 2.2 Reformat ICD Code Labels\n",
        "The codes are given without periods, which might lead to collisions if we naively combine them. So we have to add the periods back in the right place."
      ]
    },
    {
      "cell_type": "code",
      "metadata": {
        "id": "C0Uq31od4ANJ",
        "colab_type": "code",
        "colab": {}
      },
      "source": [
        "dfdiag['ICD9_CODE'] = dfdiag.apply(lambda row: str(reformat(str(row[4]), True)), axis=1)\n",
        "dfdiag_desc['ICD9_CODE'] = dfdiag.apply(lambda row: str(reformat(str(row[4]), True)), axis=1)\n",
        "dfproc['ICD9_CODE'] = dfproc.apply(lambda row: str(reformat(str(row[4]), False)), axis=1)\n",
        "dfproc_desc['ICD9_CODE'] = dfproc.apply(lambda row: str(reformat(str(row[4]), False)), axis=1)\n",
        "dfcodes = pd.concat([dfdiag, dfproc])"
      ],
      "execution_count": 0,
      "outputs": []
    },
    {
      "cell_type": "code",
      "metadata": {
        "id": "DrzGvRVv4VVM",
        "colab_type": "code",
        "colab": {}
      },
      "source": [
        "print(dfcodes.shape)\n",
        "dfcodes.head()"
      ],
      "execution_count": 0,
      "outputs": []
    },
    {
      "cell_type": "markdown",
      "metadata": {
        "id": "LWzF8oUb4dwo",
        "colab_type": "text"
      },
      "source": [
        "## 2.2 Load Pre Tokenized Note Summaries\n",
        "*   Select only discharge summaries and their addenda"
      ]
    },
    {
      "cell_type": "code",
      "metadata": {
        "id": "GVY_5QyE4i5T",
        "colab_type": "code",
        "colab": {}
      },
      "source": [
        "df = pd.read_json('/content/drive/Shared drives/NLP Seminar/Data/NOTEEVENTS_SPLIT_1.csvnotes_tokenized.ndjson', lines=True, dtype={0:int32, 1:int32, 5:bool, 6:int32})\n",
        "df.columns = ['SUBJECT_ID', 'HADM_ID', 'CHARTDATE', 'CATEGORY', 'DESCRIPTION', 'ISERROR', 'N_TOKENS', 'TEXT']\n",
        "df = df[(df['CATEGORY'] == 'Discharge summary') & (df['ISERROR'] == False)]"
      ],
      "execution_count": 0,
      "outputs": []
    },
    {
      "cell_type": "code",
      "metadata": {
        "id": "F-xDcMIX4pgs",
        "colab_type": "code",
        "outputId": "cf96d070-f3f3-48af-d6ca-18914253b111",
        "colab": {
          "base_uri": "https://localhost:8080/",
          "height": 215
        }
      },
      "source": [
        "print(df.shape)\n",
        "df.head()"
      ],
      "execution_count": 0,
      "outputs": [
        {
          "output_type": "stream",
          "text": [
            "(59652, 8)\n"
          ],
          "name": "stdout"
        },
        {
          "output_type": "execute_result",
          "data": {
            "text/html": [
              "<div>\n",
              "<style scoped>\n",
              "    .dataframe tbody tr th:only-of-type {\n",
              "        vertical-align: middle;\n",
              "    }\n",
              "\n",
              "    .dataframe tbody tr th {\n",
              "        vertical-align: top;\n",
              "    }\n",
              "\n",
              "    .dataframe thead th {\n",
              "        text-align: right;\n",
              "    }\n",
              "</style>\n",
              "<table border=\"1\" class=\"dataframe\">\n",
              "  <thead>\n",
              "    <tr style=\"text-align: right;\">\n",
              "      <th></th>\n",
              "      <th>SUBJECT_ID</th>\n",
              "      <th>HADM_ID</th>\n",
              "      <th>CHARTDATE</th>\n",
              "      <th>CATEGORY</th>\n",
              "      <th>DESCRIPTION</th>\n",
              "      <th>ISERROR</th>\n",
              "      <th>N_TOKENS</th>\n",
              "      <th>TEXT</th>\n",
              "    </tr>\n",
              "  </thead>\n",
              "  <tbody>\n",
              "    <tr>\n",
              "      <th>0</th>\n",
              "      <td>22532</td>\n",
              "      <td>167853</td>\n",
              "      <td>2151-08-04</td>\n",
              "      <td>Discharge summary</td>\n",
              "      <td>Report</td>\n",
              "      <td>False</td>\n",
              "      <td>97</td>\n",
              "      <td>[[admission, date], [july], [discharge, date],...</td>\n",
              "    </tr>\n",
              "    <tr>\n",
              "      <th>1</th>\n",
              "      <td>13702</td>\n",
              "      <td>107527</td>\n",
              "      <td>2118-06-14</td>\n",
              "      <td>Discharge summary</td>\n",
              "      <td>Report</td>\n",
              "      <td>False</td>\n",
              "      <td>1803</td>\n",
              "      <td>[[admission, date], [june], [discharge, date],...</td>\n",
              "    </tr>\n",
              "    <tr>\n",
              "      <th>2</th>\n",
              "      <td>13702</td>\n",
              "      <td>167118</td>\n",
              "      <td>2119-05-25</td>\n",
              "      <td>Discharge summary</td>\n",
              "      <td>Report</td>\n",
              "      <td>False</td>\n",
              "      <td>1345</td>\n",
              "      <td>[[admission, date], [may], [discharge, date], ...</td>\n",
              "    </tr>\n",
              "    <tr>\n",
              "      <th>3</th>\n",
              "      <td>13702</td>\n",
              "      <td>196489</td>\n",
              "      <td>2124-08-18</td>\n",
              "      <td>Discharge summary</td>\n",
              "      <td>Report</td>\n",
              "      <td>False</td>\n",
              "      <td>2375</td>\n",
              "      <td>[[admission, date], [july], [discharge, date],...</td>\n",
              "    </tr>\n",
              "    <tr>\n",
              "      <th>4</th>\n",
              "      <td>26880</td>\n",
              "      <td>135453</td>\n",
              "      <td>2162-03-25</td>\n",
              "      <td>Discharge summary</td>\n",
              "      <td>Report</td>\n",
              "      <td>False</td>\n",
              "      <td>2012</td>\n",
              "      <td>[[admission, date], [march], [discharge, date]...</td>\n",
              "    </tr>\n",
              "  </tbody>\n",
              "</table>\n",
              "</div>"
            ],
            "text/plain": [
              "   SUBJECT_ID  ...                                               TEXT\n",
              "0       22532  ...  [[admission, date], [july], [discharge, date],...\n",
              "1       13702  ...  [[admission, date], [june], [discharge, date],...\n",
              "2       13702  ...  [[admission, date], [may], [discharge, date], ...\n",
              "3       13702  ...  [[admission, date], [july], [discharge, date],...\n",
              "4       26880  ...  [[admission, date], [march], [discharge, date]...\n",
              "\n",
              "[5 rows x 8 columns]"
            ]
          },
          "metadata": {
            "tags": []
          },
          "execution_count": 26
        }
      ]
    },
    {
      "cell_type": "code",
      "metadata": {
        "id": "GJW0C5or-4FJ",
        "colab_type": "code",
        "colab": {}
      },
      "source": [
        "df = df.sort_values(['CHARTDATE']).groupby(['SUBJECT_ID', 'HADM_ID'], as_index=False).agg({'TEXT': lambda doclist : list(itertools.chain(sent for doc in doclist for sent in doc)),'N_TOKENS': sum})"
      ],
      "execution_count": 0,
      "outputs": []
    },
    {
      "cell_type": "code",
      "metadata": {
        "id": "8J1IMpzb_N9X",
        "colab_type": "code",
        "outputId": "f80ba0a2-581c-453a-e264-8842dba17464",
        "colab": {
          "base_uri": "https://localhost:8080/",
          "height": 197
        }
      },
      "source": [
        "df.head()"
      ],
      "execution_count": 0,
      "outputs": [
        {
          "output_type": "execute_result",
          "data": {
            "text/html": [
              "<div>\n",
              "<style scoped>\n",
              "    .dataframe tbody tr th:only-of-type {\n",
              "        vertical-align: middle;\n",
              "    }\n",
              "\n",
              "    .dataframe tbody tr th {\n",
              "        vertical-align: top;\n",
              "    }\n",
              "\n",
              "    .dataframe thead th {\n",
              "        text-align: right;\n",
              "    }\n",
              "</style>\n",
              "<table border=\"1\" class=\"dataframe\">\n",
              "  <thead>\n",
              "    <tr style=\"text-align: right;\">\n",
              "      <th></th>\n",
              "      <th>SUBJECT_ID</th>\n",
              "      <th>HADM_ID</th>\n",
              "      <th>TEXT</th>\n",
              "      <th>N_TOKENS</th>\n",
              "    </tr>\n",
              "  </thead>\n",
              "  <tbody>\n",
              "    <tr>\n",
              "      <th>0</th>\n",
              "      <td>3</td>\n",
              "      <td>145834</td>\n",
              "      <td>[[admission, date], [october], [discharge, dat...</td>\n",
              "      <td>2112</td>\n",
              "    </tr>\n",
              "    <tr>\n",
              "      <th>1</th>\n",
              "      <td>4</td>\n",
              "      <td>185777</td>\n",
              "      <td>[[admission, date], [march], [discharge, date]...</td>\n",
              "      <td>1429</td>\n",
              "    </tr>\n",
              "    <tr>\n",
              "      <th>2</th>\n",
              "      <td>6</td>\n",
              "      <td>107064</td>\n",
              "      <td>[[admission, date], [may], [discharge, date], ...</td>\n",
              "      <td>1026</td>\n",
              "    </tr>\n",
              "    <tr>\n",
              "      <th>3</th>\n",
              "      <td>9</td>\n",
              "      <td>150750</td>\n",
              "      <td>[[admission, date], [november], [discharge, da...</td>\n",
              "      <td>1369</td>\n",
              "    </tr>\n",
              "    <tr>\n",
              "      <th>4</th>\n",
              "      <td>10</td>\n",
              "      <td>184167</td>\n",
              "      <td>[[admission, date], [june], [discharge, date],...</td>\n",
              "      <td>507</td>\n",
              "    </tr>\n",
              "  </tbody>\n",
              "</table>\n",
              "</div>"
            ],
            "text/plain": [
              "   SUBJECT_ID  ...  N_TOKENS\n",
              "0           3  ...      2112\n",
              "1           4  ...      1429\n",
              "2           6  ...      1026\n",
              "3           9  ...      1369\n",
              "4          10  ...       507\n",
              "\n",
              "[5 rows x 4 columns]"
            ]
          },
          "metadata": {
            "tags": []
          },
          "execution_count": 28
        }
      ]
    },
    {
      "cell_type": "code",
      "metadata": {
        "id": "ZBltbCL1_Xxy",
        "colab_type": "code",
        "colab": {}
      },
      "source": [
        "distinct_tok = len(set(token for doc in df['TEXT'] for sentence in doc for token in sentence))\n",
        "num_tok = df['N_TOKENS'].sum()"
      ],
      "execution_count": 0,
      "outputs": []
    },
    {
      "cell_type": "code",
      "metadata": {
        "id": "GC-APMzg_YuF",
        "colab_type": "code",
        "outputId": "37e63121-cbc8-4cb1-8ea7-531caf0bf4f1",
        "colab": {
          "base_uri": "https://localhost:8080/",
          "height": 52
        }
      },
      "source": [
        "print(\"Num distinct tokens\", str(distinct_tok))\n",
        "print(\"Num tokens\", str(num_tok))"
      ],
      "execution_count": 0,
      "outputs": [
        {
          "output_type": "stream",
          "text": [
            "Num distinct tokens 154552\n",
            "Num tokens 79335746\n"
          ],
          "name": "stdout"
        }
      ]
    },
    {
      "cell_type": "code",
      "metadata": {
        "id": "1OqMkQZ-_eP5",
        "colab_type": "code",
        "outputId": "7a318f51-e22c-45f7-93a5-63d2b147be6d",
        "colab": {
          "base_uri": "https://localhost:8080/",
          "height": 34
        }
      },
      "source": [
        "len(df['HADM_ID'].unique()), len(dfcodes['HADM_ID'].unique())"
      ],
      "execution_count": 0,
      "outputs": [
        {
          "output_type": "execute_result",
          "data": {
            "text/plain": [
              "(52726, 58976)"
            ]
          },
          "metadata": {
            "tags": []
          },
          "execution_count": 40
        }
      ]
    },
    {
      "cell_type": "markdown",
      "metadata": {
        "id": "eO7Mv2hq_ipm",
        "colab_type": "text"
      },
      "source": [
        "## 2.3 Merge Tokenized Notes With Labels Set\n",
        "There were some HADM_ID's that didn't have discharge summaries, so they weren't included with our notes"
      ]
    },
    {
      "cell_type": "code",
      "metadata": {
        "id": "YpbpK9dd_oom",
        "colab_type": "code",
        "colab": {}
      },
      "source": [
        "hadm_ids = pd.DataFrame(df['HADM_ID'].unique(), columns=['HADM_ID'], dtype=int32)\n",
        "dfcodes = pd.merge(dfcodes, hadm_ids, how='inner', on=['HADM_ID'])"
      ],
      "execution_count": 0,
      "outputs": []
    },
    {
      "cell_type": "code",
      "metadata": {
        "id": "S19-NQIi_u6p",
        "colab_type": "code",
        "outputId": "65966c0e-5b24-4d7b-ac10-ee33a7165d45",
        "colab": {
          "base_uri": "https://localhost:8080/",
          "height": 34
        }
      },
      "source": [
        "len(dfcodes['HADM_ID'].unique()), len(dfcodes['ICD9_CODE'].unique())"
      ],
      "execution_count": 0,
      "outputs": [
        {
          "output_type": "execute_result",
          "data": {
            "text/plain": [
              "(52726, 8930)"
            ]
          },
          "metadata": {
            "tags": []
          },
          "execution_count": 42
        }
      ]
    },
    {
      "cell_type": "code",
      "metadata": {
        "id": "cEIod6r2AKu4",
        "colab_type": "code",
        "colab": {}
      },
      "source": [
        "dfcodes_grouped = dfcodes.groupby(['SUBJECT_ID', 'HADM_ID'], as_index=False).agg({'ICD9_CODE' : lambda codes: list([str(code) for code in codes if len(str(code)) > 0])}).rename(columns={'ICD9_CODE':'LABELS'})\n",
        "dflabeled = pd.merge(df, dfcodes_grouped, how='inner', on=['SUBJECT_ID', 'HADM_ID'])\n",
        "with jsonlines.open(\"/content/drive/Shared drives/NLP Seminar/Data/notes_1_labeled.ndjson\", 'w') as labeled:\n",
        "    for index, note in dflabeled.iterrows():\n",
        "        labeled.write(note.tolist())"
      ],
      "execution_count": 0,
      "outputs": []
    },
    {
      "cell_type": "code",
      "metadata": {
        "id": "t9hoBSjH-B0m",
        "colab_type": "code",
        "colab": {}
      },
      "source": [
        "dflabeled.to_csv(\"/content/drive/Shared drives/NLP Seminar/Data/NOTEEVENTS_SPLIT_1_TOKENIZED_LABELED.csv\")"
      ],
      "execution_count": 0,
      "outputs": []
    },
    {
      "cell_type": "code",
      "metadata": {
        "id": "zyqEqYI1BG9A",
        "colab_type": "code",
        "colab": {}
      },
      "source": [
        "cnt = Counter([token for doc in dflabeled['TEXT'] for sentence in doc for token in sentence])\n",
        "distinct_tok = len(cnt.keys())\n",
        "num_tok = sum(cnt.values())\n"
      ],
      "execution_count": 0,
      "outputs": []
    },
    {
      "cell_type": "code",
      "metadata": {
        "id": "q1NH5RydBW-f",
        "colab_type": "code",
        "colab": {}
      },
      "source": [
        "print(\"num distinct tokens\", len(cnt.keys()), \"num tokens\", sum(cnt.values()))"
      ],
      "execution_count": 0,
      "outputs": []
    },
    {
      "cell_type": "code",
      "metadata": {
        "id": "tSe8oOSGBfLt",
        "colab_type": "code",
        "colab": {}
      },
      "source": [
        "len(dflabeled['HADM_ID'].unique())"
      ],
      "execution_count": 0,
      "outputs": []
    },
    {
      "cell_type": "code",
      "metadata": {
        "id": "bM2A-SgGGxNk",
        "colab_type": "code",
        "colab": {}
      },
      "source": [
        "dflabeled.shape"
      ],
      "execution_count": 0,
      "outputs": []
    },
    {
      "cell_type": "code",
      "metadata": {
        "id": "u2sFudE0G3kH",
        "colab_type": "code",
        "colab": {}
      },
      "source": [
        "dflabeled.head(3)"
      ],
      "execution_count": 0,
      "outputs": []
    },
    {
      "cell_type": "markdown",
      "metadata": {
        "id": "nA3g1YajEBs3",
        "colab_type": "text"
      },
      "source": [
        "# 3.Create Train, Dev & Test Dataset"
      ]
    },
    {
      "cell_type": "code",
      "metadata": {
        "id": "4G33Xbf5IAA5",
        "colab_type": "code",
        "colab": {}
      },
      "source": [
        "dflabeled = pd.read_csv('/content/drive/Shared drives/NLP Seminar/Data/NOTEEVENTS_SPLIT_1_TOKENIZED_LABELED.csv')"
      ],
      "execution_count": 0,
      "outputs": []
    },
    {
      "cell_type": "markdown",
      "metadata": {
        "id": "HyGfyI79G_7s",
        "colab_type": "text"
      },
      "source": [
        "## 3.1 Split Admission-Ids to Train, Dev & Test With Ratio - 70%/20%/10%"
      ]
    },
    {
      "cell_type": "code",
      "metadata": {
        "id": "D0saRG0nGvad",
        "colab_type": "code",
        "outputId": "01e79782-fbf1-4890-f5c4-ed3f3dbf99f0",
        "colab": {
          "base_uri": "https://localhost:8080/",
          "height": 105
        }
      },
      "source": [
        "all_hadm_ids = dflabeled['HADM_ID']\n",
        "print(all_hadm_ids.shape)\n",
        "print(all_hadm_ids.head(3))"
      ],
      "execution_count": 0,
      "outputs": [
        {
          "output_type": "stream",
          "text": [
            "(52726,)\n",
            "0    145834\n",
            "1    185777\n",
            "2    107064\n",
            "Name: HADM_ID, dtype: int64\n"
          ],
          "name": "stdout"
        }
      ]
    },
    {
      "cell_type": "code",
      "metadata": {
        "id": "He1HifDDHSLx",
        "colab_type": "code",
        "colab": {}
      },
      "source": [
        "train_hadm_ids = all_hadm_ids[ : 36908]\n",
        "dev_hadm_ids = all_hadm_ids[36908 :47454 ]\n",
        "test_hadm_ids = all_hadm_ids[47454 : ]"
      ],
      "execution_count": 0,
      "outputs": []
    },
    {
      "cell_type": "code",
      "metadata": {
        "id": "BW6yDIeuIJju",
        "colab_type": "code",
        "outputId": "fddd80d2-55ed-4dc2-a067-f8a674953b25",
        "colab": {
          "base_uri": "https://localhost:8080/",
          "height": 283
        }
      },
      "source": [
        "print(train_hadm_ids.shape)\n",
        "print(train_hadm_ids.head(3))\n",
        "print(dev_hadm_ids.shape)\n",
        "print(dev_hadm_ids.head(3))\n",
        "print(test_hadm_ids.shape)\n",
        "print(test_hadm_ids.head(3))"
      ],
      "execution_count": 0,
      "outputs": [
        {
          "output_type": "stream",
          "text": [
            "(36908,)\n",
            "0    145834\n",
            "1    185777\n",
            "2    107064\n",
            "Name: HADM_ID, dtype: int64\n",
            "(10546,)\n",
            "36908    153312\n",
            "36909    185833\n",
            "36910    183006\n",
            "Name: HADM_ID, dtype: int64\n",
            "(5272,)\n",
            "47454    177315\n",
            "47455    192175\n",
            "47456    112121\n",
            "Name: HADM_ID, dtype: int64\n"
          ],
          "name": "stdout"
        }
      ]
    },
    {
      "cell_type": "code",
      "metadata": {
        "id": "EoR4rWUsIUjG",
        "colab_type": "code",
        "colab": {}
      },
      "source": [
        "train_hadm_ids=train_hadm_ids.reset_index()\n",
        "dev_hadm_ids=dev_hadm_ids.reset_index()\n",
        "test_hadm_ids=test_hadm_ids.reset_index()\n"
      ],
      "execution_count": 0,
      "outputs": []
    },
    {
      "cell_type": "code",
      "metadata": {
        "id": "rPGZRh3SInF3",
        "colab_type": "code",
        "colab": {}
      },
      "source": [
        "#dev_hadm_ids=dev_hadm_ids.drop('index',1)\n",
        "#test_hadm_ids=test_hadm_ids.drop('index',1)\n",
        "#train_hadm_ids=train_hadm_ids.drop('index',1)\n",
        "train_hadm_ids.set_index('HADM_ID', inplace=True)\n",
        "dev_hadm_ids.set_index('HADM_ID', inplace=True)\n",
        "test_hadm_ids.set_index('HADM_ID', inplace=True)"
      ],
      "execution_count": 0,
      "outputs": []
    },
    {
      "cell_type": "markdown",
      "metadata": {
        "id": "UCkbs6S8LTA_",
        "colab_type": "text"
      },
      "source": [
        "## 3.2 Save Admission Ids Keys For Future Dataset Split"
      ]
    },
    {
      "cell_type": "code",
      "metadata": {
        "id": "HH1q3in1JWgO",
        "colab_type": "code",
        "colab": {}
      },
      "source": [
        "dev_hadm_ids.to_csv('/content/drive/Shared drives/NLP Seminar/Data/dev_hadm_ids.csv')\n",
        "test_hadm_ids.to_csv('/content/drive/Shared drives/NLP Seminar/Data/test_hadm_ids.csv')\n",
        "train_hadm_ids.to_csv('/content/drive/Shared drives/NLP Seminar/Data/train_hadm_ids.csv')"
      ],
      "execution_count": 0,
      "outputs": []
    },
    {
      "cell_type": "code",
      "metadata": {
        "id": "8J3yH3k8H7xD",
        "colab_type": "code",
        "colab": {}
      },
      "source": [
        "dev_hadm_ids= pd.read_csv('/content/drive/Shared drives/NLP Seminar/Data/dev_hadm_ids.csv')\n",
        "test_hadm_ids  = pd.read_csv('/content/drive/Shared drives/NLP Seminar/Data/test_hadm_ids.csv')\n",
        "train_hadm_id = pd.read_csv('/content/drive/Shared drives/NLP Seminar/Data/train_hadm_ids.csv')"
      ],
      "execution_count": 0,
      "outputs": []
    },
    {
      "cell_type": "markdown",
      "metadata": {
        "id": "FNmePhFUHjVx",
        "colab_type": "text"
      },
      "source": [
        "## 3.3 Split Dataset to 3 Parts"
      ]
    },
    {
      "cell_type": "code",
      "metadata": {
        "id": "EjxeSMjVEFEj",
        "colab_type": "code",
        "colab": {}
      },
      "source": [
        "base_name = '/content/drive/Shared drives/NLP Seminar/Data/notes_labeled'\n",
        "SPLITS_DIR='/content/drive/Shared drives/NLP Seminar/Data/'\n",
        "splits = {}\n",
        "for split in ['train', 'dev', 'test']:\n",
        "    split_ids_df = pd.read_csv(path.join(SPLITS_DIR, '{}_hadm_ids.csv'.format(split)), names=['HADM_ID'], dtype=int32)\n",
        "    splits[split] = pd.merge(dflabeled, split_ids_df, how='inner', on=['HADM_ID'])\n",
        "    with jsonlines.open('{}_{}.ndjson'.format(base_name, split), 'w') as split_out:\n",
        "        for index, row in splits[split].iterrows():\n",
        "           split_out.write(row.tolist())"
      ],
      "execution_count": 0,
      "outputs": []
    },
    {
      "cell_type": "code",
      "metadata": {
        "id": "WFIuPFW0Ng4R",
        "colab_type": "code",
        "outputId": "c3b07059-a49b-4dcf-ebed-9e436fdb0250",
        "colab": {
          "base_uri": "https://localhost:8080/",
          "height": 727
        }
      },
      "source": [
        "print(splits)"
      ],
      "execution_count": 0,
      "outputs": [
        {
          "output_type": "stream",
          "text": [
            "{'train':        Unnamed: 0  ...                                             LABELS\n",
            "0               0  ...  ['038.9', '785.59', '584.9', '427.5', '410.71'...\n",
            "1               1  ...  ['042', '136.3', '799.4', '276.3', '790.7', '5...\n",
            "2               2  ...  ['403.91', '444.0', '997.2', '276.6', '276.7',...\n",
            "3               3  ...  ['431', '507.0', '428.0', '584.9', '276.5', '4...\n",
            "4               4  ...  ['V30.00', '774.2', '765.25', '765.15', 'V29.0...\n",
            "...           ...  ...                                                ...\n",
            "36903       36903  ...  ['038.9', '507.0', '584.9', '785.52', '995.92'...\n",
            "36904       36904  ...  ['414.01', '585.6', '411.1', '458.21', '427.31...\n",
            "36905       36905  ...  ['682.3', '428.23', '585.6', '584.9', '530.20'...\n",
            "36906       36906  ...  ['038.9', '569.83', '785.52', '486', '427.1', ...\n",
            "36907       36907  ...  ['153.6', '507.0', '584.9', '511.9', '427.32',...\n",
            "\n",
            "[36908 rows x 6 columns], 'dev':        Unnamed: 0  ...                                             LABELS\n",
            "0           36908  ...  ['852.05', '486', '277.39', '276.0', '431', '7...\n",
            "1           36909  ...  ['414.01', '427.31', '287.49', '560.1', '401.9...\n",
            "2           36910  ...  ['531.40', '518.5', '285.1', '933.1', 'E912', ...\n",
            "3           36911  ...  ['162.3', '253.5', '253.6', '241.1', '585.9', ...\n",
            "4           36912  ...  ['427.31', '428.31', '278.03', '276.1', '295.6...\n",
            "...           ...  ...                                                ...\n",
            "10541       47449  ...  ['511.89', '518.4', '349.82', '518.81', '584.9...\n",
            "10542       47450  ...  ['429.83', '428.21', '276.2', '428.0', '401.9'...\n",
            "10543       47451  ...  ['410.01', '428.21', '428.0', '414.01', '288.6...\n",
            "10544       47452  ...  ['424.0', '428.32', '511.9', '599.0', '008.45'...\n",
            "10545       47453  ...  ['578.9', '421.0', '711.06', '285.1', '790.7',...\n",
            "\n",
            "[10546 rows x 6 columns], 'test':       Unnamed: 0  ...                                             LABELS\n",
            "0          47454  ...  ['038.11', '349.82', '421.0', '584.9', '707.03...\n",
            "1          47455  ...  ['560.9', '584.9', '482.82', '568.0', '401.9',...\n",
            "2          47456  ...  ['424.1', '428.23', '997.1', '287.5', '428.0',...\n",
            "3          47457  ...  ['414.01', '411.1', '427.1', '401.9', '788.29'...\n",
            "4          47458  ...  ['864.04', '285.1', '868.03', '276.2', 'E816.0...\n",
            "...          ...  ...                                                ...\n",
            "5267       52721  ...  ['038.9', '518.81', '482.41', '487.0', '785.52...\n",
            "5268       52722  ...  ['562.11', '038.9', '557.0', '584.9', '995.92'...\n",
            "5269       52723  ...  ['999.9', '568.81', '577.2', '285.1', '584.9',...\n",
            "5270       52724  ...  ['441.4', '428.33', '998.12', '285.1', '424.1'...\n",
            "5271       52725  ...  ['756.12', '786.1', '401.9', '250.00', '413.9'...\n",
            "\n",
            "[5272 rows x 6 columns]}\n"
          ],
          "name": "stdout"
        }
      ]
    },
    {
      "cell_type": "markdown",
      "metadata": {
        "id": "udibaKgsHuGw",
        "colab_type": "text"
      },
      "source": [
        "## 3.4 Clean and Save Train/Dev/Test datasets as CSV and JSON"
      ]
    },
    {
      "cell_type": "code",
      "metadata": {
        "id": "UtLkR0jyvyyM",
        "colab_type": "code",
        "colab": {}
      },
      "source": [
        "notes_labeled_train = splits['train']\n",
        "notes_labeled_test = splits['dev']\n",
        "notes_labeled_dev = splits['test']"
      ],
      "execution_count": 0,
      "outputs": []
    },
    {
      "cell_type": "code",
      "metadata": {
        "id": "OW1WZxdBvnon",
        "colab_type": "code",
        "outputId": "9e351723-fa8e-4b3f-fa5f-44a6ad470e1c",
        "colab": {
          "base_uri": "https://localhost:8080/",
          "height": 197
        }
      },
      "source": [
        "notes_labeled_train.head()"
      ],
      "execution_count": 0,
      "outputs": [
        {
          "output_type": "execute_result",
          "data": {
            "text/html": [
              "<div>\n",
              "<style scoped>\n",
              "    .dataframe tbody tr th:only-of-type {\n",
              "        vertical-align: middle;\n",
              "    }\n",
              "\n",
              "    .dataframe tbody tr th {\n",
              "        vertical-align: top;\n",
              "    }\n",
              "\n",
              "    .dataframe thead th {\n",
              "        text-align: right;\n",
              "    }\n",
              "</style>\n",
              "<table border=\"1\" class=\"dataframe\">\n",
              "  <thead>\n",
              "    <tr style=\"text-align: right;\">\n",
              "      <th></th>\n",
              "      <th>Unnamed: 0</th>\n",
              "      <th>SUBJECT_ID</th>\n",
              "      <th>HADM_ID</th>\n",
              "      <th>TEXT</th>\n",
              "      <th>N_TOKENS</th>\n",
              "      <th>LABELS</th>\n",
              "    </tr>\n",
              "  </thead>\n",
              "  <tbody>\n",
              "    <tr>\n",
              "      <th>0</th>\n",
              "      <td>0</td>\n",
              "      <td>3</td>\n",
              "      <td>145834</td>\n",
              "      <td>[['admission', 'date'], ['october'], ['dischar...</td>\n",
              "      <td>2112</td>\n",
              "      <td>['038.9', '785.59', '584.9', '427.5', '410.71'...</td>\n",
              "    </tr>\n",
              "    <tr>\n",
              "      <th>1</th>\n",
              "      <td>1</td>\n",
              "      <td>4</td>\n",
              "      <td>185777</td>\n",
              "      <td>[['admission', 'date'], ['march'], ['discharge...</td>\n",
              "      <td>1429</td>\n",
              "      <td>['042', '136.3', '799.4', '276.3', '790.7', '5...</td>\n",
              "    </tr>\n",
              "    <tr>\n",
              "      <th>2</th>\n",
              "      <td>2</td>\n",
              "      <td>6</td>\n",
              "      <td>107064</td>\n",
              "      <td>[['admission', 'date'], ['may'], ['discharge',...</td>\n",
              "      <td>1026</td>\n",
              "      <td>['403.91', '444.0', '997.2', '276.6', '276.7',...</td>\n",
              "    </tr>\n",
              "    <tr>\n",
              "      <th>3</th>\n",
              "      <td>3</td>\n",
              "      <td>9</td>\n",
              "      <td>150750</td>\n",
              "      <td>[['admission', 'date'], ['november'], ['discha...</td>\n",
              "      <td>1369</td>\n",
              "      <td>['431', '507.0', '428.0', '584.9', '276.5', '4...</td>\n",
              "    </tr>\n",
              "    <tr>\n",
              "      <th>4</th>\n",
              "      <td>4</td>\n",
              "      <td>10</td>\n",
              "      <td>184167</td>\n",
              "      <td>[['admission', 'date'], ['june'], ['discharge'...</td>\n",
              "      <td>507</td>\n",
              "      <td>['V30.00', '774.2', '765.25', '765.15', 'V29.0...</td>\n",
              "    </tr>\n",
              "  </tbody>\n",
              "</table>\n",
              "</div>"
            ],
            "text/plain": [
              "   Unnamed: 0  ...                                             LABELS\n",
              "0           0  ...  ['038.9', '785.59', '584.9', '427.5', '410.71'...\n",
              "1           1  ...  ['042', '136.3', '799.4', '276.3', '790.7', '5...\n",
              "2           2  ...  ['403.91', '444.0', '997.2', '276.6', '276.7',...\n",
              "3           3  ...  ['431', '507.0', '428.0', '584.9', '276.5', '4...\n",
              "4           4  ...  ['V30.00', '774.2', '765.25', '765.15', 'V29.0...\n",
              "\n",
              "[5 rows x 6 columns]"
            ]
          },
          "metadata": {
            "tags": []
          },
          "execution_count": 17
        }
      ]
    },
    {
      "cell_type": "code",
      "metadata": {
        "id": "AVXnORTLQvXg",
        "colab_type": "code",
        "colab": {}
      },
      "source": [
        "notes_labeled_train=notes_labeled_train.drop('SUBJECT_ID',1)\n",
        "notes_labeled_train=notes_labeled_train.drop('Unnamed: 0',1)\n",
        "notes_labeled_dev=notes_labeled_dev.drop('SUBJECT_ID',1)\n",
        "notes_labeled_dev=notes_labeled_dev.drop('Unnamed: 0',1)\n",
        "notes_labeled_test=notes_labeled_test.drop('SUBJECT_ID',1)\n",
        "notes_labeled_test=notes_labeled_test.drop('Unnamed: 0',1)"
      ],
      "execution_count": 0,
      "outputs": []
    },
    {
      "cell_type": "code",
      "metadata": {
        "id": "6hM9RfqJv3BU",
        "colab_type": "code",
        "colab": {}
      },
      "source": [
        "splits['train'].head()\n",
        "splits['train']=splits['train'].drop('SUBJECT_ID',1)\n",
        "splits['train']=splits['train'].drop('Unnamed: 0',1)\n",
        "splits['dev']= splits['dev'].drop('SUBJECT_ID',1)\n",
        "splits['dev'] = splits['dev'].drop('Unnamed: 0',1)\n",
        "splits['test']=splits['test'].drop('SUBJECT_ID',1)\n",
        "splits['test']=splits['test'].drop('Unnamed: 0',1)"
      ],
      "execution_count": 0,
      "outputs": []
    },
    {
      "cell_type": "code",
      "metadata": {
        "id": "FuPzS8wEwjJh",
        "colab_type": "code",
        "colab": {}
      },
      "source": [
        "base_name = '/content/drive/Shared drives/NLP Seminar/Data/notes_labeled'\n",
        "for split in ['train', 'dev', 'test']:\n",
        "    with jsonlines.open('{}_{}.ndjson'.format(base_name, split), 'w') as split_out:\n",
        "        for index, row in splits[split].iterrows():\n",
        "           split_out.write(row.tolist())"
      ],
      "execution_count": 0,
      "outputs": []
    },
    {
      "cell_type": "code",
      "metadata": {
        "id": "9FxRLAleRbPg",
        "colab_type": "code",
        "colab": {}
      },
      "source": [
        "notes_labeled_train.to_csv('/content/drive/Shared drives/NLP Seminar/Data/notes_labeled_train', index=False)\n",
        "notes_labeled_test.to_csv('/content/drive/Shared drives/NLP Seminar/Data/notes_labeled_test', index=False)\n",
        "notes_labeled_dev.to_csv('/content/drive/Shared drives/NLP Seminar/Data/notes_labeled_dev', index=False)"
      ],
      "execution_count": 0,
      "outputs": []
    },
    {
      "cell_type": "markdown",
      "metadata": {
        "id": "S0vDLqSnH-zD",
        "colab_type": "text"
      },
      "source": [
        "# 4.Build Words Vocabulary"
      ]
    },
    {
      "cell_type": "markdown",
      "metadata": {
        "id": "xLXtAWJfIEjT",
        "colab_type": "text"
      },
      "source": [
        "## 4.1 Load Train Dataset"
      ]
    },
    {
      "cell_type": "code",
      "metadata": {
        "id": "xuggGIs8whn9",
        "colab_type": "code",
        "colab": {}
      },
      "source": [
        "notes_labeled_train = pd.read_csv('/content/drive/Shared drives/NLP Seminar/Data/notes_labeled_train')"
      ],
      "execution_count": 0,
      "outputs": []
    },
    {
      "cell_type": "code",
      "metadata": {
        "id": "jmznIUvHwwk4",
        "colab_type": "code",
        "outputId": "ff3b83e9-9672-44a8-d825-05396c13aa81",
        "colab": {
          "base_uri": "https://localhost:8080/",
          "height": 171
        }
      },
      "source": [
        "notes_labeled_train.head(3)"
      ],
      "execution_count": 0,
      "outputs": [
        {
          "output_type": "execute_result",
          "data": {
            "text/html": [
              "<div>\n",
              "<style scoped>\n",
              "    .dataframe tbody tr th:only-of-type {\n",
              "        vertical-align: middle;\n",
              "    }\n",
              "\n",
              "    .dataframe tbody tr th {\n",
              "        vertical-align: top;\n",
              "    }\n",
              "\n",
              "    .dataframe thead th {\n",
              "        text-align: right;\n",
              "    }\n",
              "</style>\n",
              "<table border=\"1\" class=\"dataframe\">\n",
              "  <thead>\n",
              "    <tr style=\"text-align: right;\">\n",
              "      <th></th>\n",
              "      <th>HADM_ID</th>\n",
              "      <th>TEXT</th>\n",
              "      <th>N_TOKENS</th>\n",
              "      <th>LABELS</th>\n",
              "    </tr>\n",
              "  </thead>\n",
              "  <tbody>\n",
              "    <tr>\n",
              "      <th>0</th>\n",
              "      <td>145834</td>\n",
              "      <td>[['admission', 'date'], ['october'], ['dischar...</td>\n",
              "      <td>2112</td>\n",
              "      <td>['038.9', '785.59', '584.9', '427.5', '410.71'...</td>\n",
              "    </tr>\n",
              "    <tr>\n",
              "      <th>1</th>\n",
              "      <td>185777</td>\n",
              "      <td>[['admission', 'date'], ['march'], ['discharge...</td>\n",
              "      <td>1429</td>\n",
              "      <td>['042', '136.3', '799.4', '276.3', '790.7', '5...</td>\n",
              "    </tr>\n",
              "    <tr>\n",
              "      <th>2</th>\n",
              "      <td>107064</td>\n",
              "      <td>[['admission', 'date'], ['may'], ['discharge',...</td>\n",
              "      <td>1026</td>\n",
              "      <td>['403.91', '444.0', '997.2', '276.6', '276.7',...</td>\n",
              "    </tr>\n",
              "  </tbody>\n",
              "</table>\n",
              "</div>"
            ],
            "text/plain": [
              "   HADM_ID  ...                                             LABELS\n",
              "0   145834  ...  ['038.9', '785.59', '584.9', '427.5', '410.71'...\n",
              "1   185777  ...  ['042', '136.3', '799.4', '276.3', '790.7', '5...\n",
              "2   107064  ...  ['403.91', '444.0', '997.2', '276.6', '276.7',...\n",
              "\n",
              "[3 rows x 4 columns]"
            ]
          },
          "metadata": {
            "tags": []
          },
          "execution_count": 6
        }
      ]
    },
    {
      "cell_type": "markdown",
      "metadata": {
        "id": "9DVqSpeWD2Xa",
        "colab_type": "text"
      },
      "source": [
        "## 4.2 Create Vocabulary Table\n",
        "*   Words In Note Summaries\n",
        "*   Number of time each word appeared\n",
        "*   Number of document each work appeared in\n",
        "\n",
        "\n",
        "\n"
      ]
    },
    {
      "cell_type": "code",
      "metadata": {
        "id": "jqMb9qM1BgcJ",
        "colab_type": "code",
        "colab": {}
      },
      "source": [
        "vocab_min = 3 #discard tokens appearing in fewer than this many documents\n",
        "word_cnt = Counter()\n",
        "doc_cnt = Counter()\n",
        "for doc in splits['train']['TEXT']:\n",
        "    tokens = [token for sentence in doc for token in sentence]\n",
        "    doc_cnt.update(set(tokens))\n",
        "    word_cnt.update(tokens)\n",
        "\n",
        "merged_cnt = {word:(count,doc_cnt[word]) for word, count in word_cnt.items()}\n",
        "words, counts = zip(*merged_cnt.items())\n",
        "word_count, doc_count = zip(*counts)\n",
        "\n",
        "words = pd.Series(words)\n",
        "word_count = pd.Series(word_count)\n",
        "doc_count = pd.Series(doc_count)\n",
        "\n",
        "vocab = pd.concat([words, doc_count, word_count], axis=1)\n",
        "vocab.columns=['word', 'doc_count', 'word_count']\n",
        "vocab = vocab.sort_values(by=['doc_count'], ascending=False)\n",
        "vocab.to_csv('/content/drive/Shared drives/NLP Seminar/Data/word_count.csv', header=False, index=False)\n",
        "vocab = vocab[vocab['doc_count'] >= vocab_min]"
      ],
      "execution_count": 0,
      "outputs": []
    },
    {
      "cell_type": "code",
      "metadata": {
        "id": "lKKo8LwNOg1z",
        "colab_type": "code",
        "outputId": "00c3183a-fc27-4f4e-cd25-2f593a98cbee",
        "colab": {
          "base_uri": "https://localhost:8080/",
          "height": 215
        }
      },
      "source": [
        "print(vocab.shape)\n",
        "vocab.head()"
      ],
      "execution_count": 0,
      "outputs": [
        {
          "output_type": "stream",
          "text": [
            "(44075, 3)\n"
          ],
          "name": "stdout"
        },
        {
          "output_type": "execute_result",
          "data": {
            "text/html": [
              "<div>\n",
              "<style scoped>\n",
              "    .dataframe tbody tr th:only-of-type {\n",
              "        vertical-align: middle;\n",
              "    }\n",
              "\n",
              "    .dataframe tbody tr th {\n",
              "        vertical-align: top;\n",
              "    }\n",
              "\n",
              "    .dataframe thead th {\n",
              "        text-align: right;\n",
              "    }\n",
              "</style>\n",
              "<table border=\"1\" class=\"dataframe\">\n",
              "  <thead>\n",
              "    <tr style=\"text-align: right;\">\n",
              "      <th></th>\n",
              "      <th>word</th>\n",
              "      <th>doc_count</th>\n",
              "      <th>word_count</th>\n",
              "    </tr>\n",
              "  </thead>\n",
              "  <tbody>\n",
              "    <tr>\n",
              "      <th>4</th>\n",
              "      <td>of</td>\n",
              "      <td>36908</td>\n",
              "      <td>1026447</td>\n",
              "    </tr>\n",
              "    <tr>\n",
              "      <th>1</th>\n",
              "      <td>date</td>\n",
              "      <td>36908</td>\n",
              "      <td>147729</td>\n",
              "    </tr>\n",
              "    <tr>\n",
              "      <th>21</th>\n",
              "      <td>to</td>\n",
              "      <td>36893</td>\n",
              "      <td>1005498</td>\n",
              "    </tr>\n",
              "    <tr>\n",
              "      <th>0</th>\n",
              "      <td>admission</td>\n",
              "      <td>36890</td>\n",
              "      <td>153208</td>\n",
              "    </tr>\n",
              "    <tr>\n",
              "      <th>24</th>\n",
              "      <td>and</td>\n",
              "      <td>36883</td>\n",
              "      <td>1196370</td>\n",
              "    </tr>\n",
              "  </tbody>\n",
              "</table>\n",
              "</div>"
            ],
            "text/plain": [
              "         word  doc_count  word_count\n",
              "4          of      36908     1026447\n",
              "1        date      36908      147729\n",
              "21         to      36893     1005498\n",
              "0   admission      36890      153208\n",
              "24        and      36883     1196370"
            ]
          },
          "metadata": {
            "tags": []
          },
          "execution_count": 87
        }
      ]
    },
    {
      "cell_type": "markdown",
      "metadata": {
        "id": "jXgUVCFiIlmM",
        "colab_type": "text"
      },
      "source": [
        "## 4.3 Save Vocabulary\n",
        "*   Words Only\n",
        "*   Words & Counts\n",
        "\n"
      ]
    },
    {
      "cell_type": "code",
      "metadata": {
        "id": "LPRUSjLUbE8C",
        "colab_type": "code",
        "colab": {}
      },
      "source": [
        "vocab.to_csv('/content/drive/Shared drives/NLP Seminar/Data/vocab.csv')"
      ],
      "execution_count": 0,
      "outputs": []
    },
    {
      "cell_type": "code",
      "metadata": {
        "id": "esAKQPiKrQcL",
        "colab_type": "code",
        "colab": {}
      },
      "source": [
        "vocab=pd.read_csv('/content/drive/Shared drives/NLP Seminar/Data/vocab.csv')"
      ],
      "execution_count": 0,
      "outputs": []
    },
    {
      "cell_type": "code",
      "metadata": {
        "id": "tlhPWbhurU37",
        "colab_type": "code",
        "colab": {}
      },
      "source": [
        "with open('/content/drive/Shared drives/NLP Seminar/Data/vocab_words.csv', 'w') as f:\n",
        "    f.write(pd.Series(vocab['word']).str.cat(sep='\\n'))"
      ],
      "execution_count": 0,
      "outputs": []
    },
    {
      "cell_type": "markdown",
      "metadata": {
        "id": "Hzva4T8XOuwM",
        "colab_type": "text"
      },
      "source": [
        "# 5.Create Top 50 ICD Codes Dataset\n"
      ]
    },
    {
      "cell_type": "markdown",
      "metadata": {
        "id": "0-E0x5JWI6gK",
        "colab_type": "text"
      },
      "source": [
        "## 5.1 Filter Top 50 ICD Codes By Frequency"
      ]
    },
    {
      "cell_type": "code",
      "metadata": {
        "id": "DXno3a--OzW7",
        "colab_type": "code",
        "colab": {}
      },
      "source": [
        "K = 50\n",
        "codes_top_K = dflabeled['LABELS'].apply(pd.Series).stack().reset_index(drop=True)\n",
        "codes_top_K = codes_top_K.groupby(codes_top_K).count().sort_values(ascending=False).head(K)"
      ],
      "execution_count": 0,
      "outputs": []
    },
    {
      "cell_type": "code",
      "metadata": {
        "id": "7JPVFRsFO4TZ",
        "colab_type": "code",
        "outputId": "f9537895-db1f-442c-9261-4010e5115f8d",
        "colab": {
          "base_uri": "https://localhost:8080/",
          "height": 212
        }
      },
      "source": [
        "codes_top_K.head(10)"
      ],
      "execution_count": 0,
      "outputs": [
        {
          "output_type": "execute_result",
          "data": {
            "text/plain": [
              "401.9     20053\n",
              "38.93     14444\n",
              "428.0     12842\n",
              "427.31    12594\n",
              "414.01    12179\n",
              "96.04      9932\n",
              "96.6       9161\n",
              "584.9      8907\n",
              "250.00     8784\n",
              "96.71      8619\n",
              "dtype: int64"
            ]
          },
          "metadata": {
            "tags": []
          },
          "execution_count": 90
        }
      ]
    },
    {
      "cell_type": "code",
      "metadata": {
        "id": "vOkCf2RjPFmc",
        "colab_type": "code",
        "colab": {}
      },
      "source": [
        "codes_top_K.to_csv('/content/drive/Shared drives/NLP Seminar/Data/top_{}_codes.csv'.format(K), header = False)\n"
      ],
      "execution_count": 0,
      "outputs": []
    },
    {
      "cell_type": "markdown",
      "metadata": {
        "id": "Cbf2FJdaJP--",
        "colab_type": "text"
      },
      "source": [
        "## 5.2 Find Admissions with Top 50 Label"
      ]
    },
    {
      "cell_type": "code",
      "metadata": {
        "id": "qxTxvhdRP4Iy",
        "colab_type": "code",
        "colab": {}
      },
      "source": [
        "train_df= splits['train']\n",
        "train_df['TOP_K_LABEL']=0\n",
        "test_df= splits['test']\n",
        "test_df['TOP_K_LABEL']=0\n",
        "dev_df= splits['dev']\n",
        "dev_df['TOP_K_LABEL']=0"
      ],
      "execution_count": 0,
      "outputs": []
    },
    {
      "cell_type": "code",
      "metadata": {
        "id": "1UWeXKO-Qq_S",
        "colab_type": "code",
        "colab": {}
      },
      "source": [
        "for index, row in train_df.iterrows():\n",
        "  intersect = [ i for i in row['LABELS'] if i in codes_top_K]\n",
        "  if len(intersect)>0:\n",
        "    train_df.at[index,'TOP_K_LABEL'] =1\n",
        "  \n",
        "for index, row in dev_df.iterrows():\n",
        "  intersect = [ i for i in row['LABELS'] if i in codes_top_K]\n",
        "  if len(intersect)>0:\n",
        "    dev_df.at[index,'TOP_K_LABEL'] =1\n",
        "    \n",
        "for index, row in test_df.iterrows():\n",
        "  intersect = [ i for i in row['LABELS'] if i in codes_top_K]\n",
        "  if len(intersect)>0:\n",
        "    test_df.at[index,'TOP_K_LABEL'] =1\n"
      ],
      "execution_count": 0,
      "outputs": []
    },
    {
      "cell_type": "code",
      "metadata": {
        "id": "XWHqdNzmUu93",
        "colab_type": "code",
        "outputId": "b90d6d41-1052-4896-8ae6-81648bf0c820",
        "colab": {
          "base_uri": "https://localhost:8080/",
          "height": 176
        }
      },
      "source": [
        "print(train_df.TOP_K_LABEL.value_counts())\n",
        "print(dev_df.TOP_K_LABEL.value_counts())\n",
        "print(test_df.TOP_K_LABEL.value_counts())"
      ],
      "execution_count": 0,
      "outputs": [
        {
          "output_type": "stream",
          "text": [
            "1    34461\n",
            "0     2447\n",
            "Name: TOP_K_LABEL, dtype: int64\n",
            "1    10079\n",
            "0      467\n",
            "Name: TOP_K_LABEL, dtype: int64\n",
            "1    5077\n",
            "0     195\n",
            "Name: TOP_K_LABEL, dtype: int64\n"
          ],
          "name": "stdout"
        }
      ]
    },
    {
      "cell_type": "code",
      "metadata": {
        "id": "u8BqLn-pWUmw",
        "colab_type": "code",
        "colab": {}
      },
      "source": [
        "train_hadm_ids_top_50 = train_df[train_df['TOP_K_LABEL']==1]\n",
        "dev_hadm_ids_top_50 = dev_df[dev_df['TOP_K_LABEL']==1]\n",
        "test_hadm_ids_top_50 = test_df[test_df['TOP_K_LABEL']==1]"
      ],
      "execution_count": 0,
      "outputs": []
    },
    {
      "cell_type": "code",
      "metadata": {
        "id": "aNlJ0aMXWn_-",
        "colab_type": "code",
        "colab": {}
      },
      "source": [
        "train_hadm_ids_top_50=train_hadm_ids_top_50['HADM_ID']\n",
        "dev_hadm_ids_top_50=dev_hadm_ids_top_50['HADM_ID']\n",
        "test_hadm_ids_top_50=test_hadm_ids_top_50['HADM_ID']\n"
      ],
      "execution_count": 0,
      "outputs": []
    },
    {
      "cell_type": "markdown",
      "metadata": {
        "id": "FSw_PRWZJZx2",
        "colab_type": "text"
      },
      "source": [
        "## 5.3 Save Admission IDs Of Note Related To Top 50 ICD Code"
      ]
    },
    {
      "cell_type": "code",
      "metadata": {
        "id": "ePVfTXeUW8-m",
        "colab_type": "code",
        "colab": {}
      },
      "source": [
        "train_hadm_ids_top_50.to_csv('/content/drive/Shared drives/NLP Seminar/Data/train_hadm_ids_top_50.csv',header=False, index=False)\n",
        "dev_hadm_ids_top_50.to_csv('/content/drive/Shared drives/NLP Seminar/Data/dev_hadm_ids_top_50.csv',header=False, index=False)\n",
        "test_hadm_ids_top_50.to_csv('/content/drive/Shared drives/NLP Seminar/Data/test_hadm_ids_top_50.csv',header=False, index=False)"
      ],
      "execution_count": 0,
      "outputs": []
    },
    {
      "cell_type": "markdown",
      "metadata": {
        "id": "E6jcQXaXJliq",
        "colab_type": "text"
      },
      "source": [
        "## 5.4 Filter Train/Dev/Test Datasets To Top 50 ICD Codes"
      ]
    },
    {
      "cell_type": "code",
      "metadata": {
        "id": "ufOsvAp6YZUk",
        "colab_type": "code",
        "colab": {}
      },
      "source": [
        "splits_top_K = {}\n",
        "codes_top_K_set = set(codes_top_K.index)\n",
        "for split in ['train', 'dev', 'test']:\n",
        "    split_ids_top_K_df = pd.read_csv(path.join(SPLITS_DIR, '{}_hadm_ids_top_50.csv'.format(split)), names=['HADM_ID'], dtype=int32)\n",
        "    splits_top_K[split] = pd.merge(dflabeled, split_ids_top_K_df, how='inner', on=['HADM_ID'])\n",
        "    splits_top_K[split]['LABELS'] = splits_top_K[split]['LABELS'].apply(lambda labels: list(codes_top_K_set.intersection(set(labels))))"
      ],
      "execution_count": 0,
      "outputs": []
    },
    {
      "cell_type": "code",
      "metadata": {
        "id": "vtnjekgWY1bz",
        "colab_type": "code",
        "outputId": "c176c55c-2960-49ad-9ae4-e70125f6c0a9",
        "colab": {
          "base_uri": "https://localhost:8080/",
          "height": 747
        }
      },
      "source": [
        "print(splits_top_K)"
      ],
      "execution_count": 0,
      "outputs": [
        {
          "output_type": "stream",
          "text": [
            "{'train':        SUBJECT_ID  ...                                             LABELS\n",
            "0               3  ...  [38.93, 96.6, 584.9, 96.72, 038.9, 428.0, 410....\n",
            "1               4  ...                                     [88.72, 38.93]\n",
            "2               6  ...                             [99.04, 285.9, V15.82]\n",
            "3               9  ...         [401.9, 584.9, 96.72, 507.0, 428.0, 96.04]\n",
            "4              10  ...                                      [96.6, 99.15]\n",
            "...           ...  ...                                                ...\n",
            "34456       48812  ...  [995.92, 38.91, 38.93, 584.9, 038.9, 507.0, 31...\n",
            "34457       48821  ...  [39.95, 272.4, 250.00, 414.01, 36.15, 39.61, 4...\n",
            "34458       48821  ...  [272.4, 250.00, 584.9, 414.01, 428.0, V45.81, ...\n",
            "34459       48826  ...  [995.92, 486, 276.2, 96.6, 038.9, 96.72, 276.1...\n",
            "34460       48826  ...               [401.9, 511.9, 584.9, 507.0, V45.81]\n",
            "\n",
            "[34461 rows x 5 columns], 'dev':        SUBJECT_ID  ...                                             LABELS\n",
            "0           48827  ...                        [96.71, 427.31, 486, 401.9]\n",
            "1           48830  ...  [401.9, 272.4, 414.01, 36.15, 39.61, 285.9, 42...\n",
            "2           48833  ...                [96.71, 38.91, 401.9, 285.1, 96.04]\n",
            "3           48835  ...                [272.4, 585.9, 496, V15.82, 403.90]\n",
            "4           48837  ...       [401.9, 272.4, 250.00, 276.1, 428.0, 427.31]\n",
            "...           ...  ...                                                ...\n",
            "10074       82599  ...  [401.9, 518.81, 530.81, 96.6, 45.13, 584.9, 96...\n",
            "10075       82602  ...  [401.9, 38.93, 272.4, 88.56, 276.2, 530.81, 88...\n",
            "10076       82604  ...                             [428.0, 88.56, 414.01]\n",
            "10077       82605  ...  [88.56, 530.81, 511.9, 93.90, 39.61, 428.0, 59...\n",
            "10078       82609  ...       [401.9, 285.1, 45.13, V45.81, 599.0, V58.61]\n",
            "\n",
            "[10079 rows x 5 columns], 'test':       SUBJECT_ID  ...                                             LABELS\n",
            "0          82609  ...  [38.91, 401.9, 88.56, 37.22, 584.9, 414.01, 36...\n",
            "1          82618  ...          [401.9, 250.00, 45.13, 584.9, 33.24, 311]\n",
            "2          82619  ...  [272.4, 88.72, 414.01, 287.5, 39.61, 428.0, 42...\n",
            "3          82621  ...        [401.9, 414.01, 36.15, 287.5, 39.61, 285.9]\n",
            "4          82625  ...                                     [276.2, 285.1]\n",
            "...          ...  ...                                                ...\n",
            "5072       99985  ...  [995.92, 38.93, 272.4, 518.81, 530.81, 96.6, 0...\n",
            "5073       99991  ...              [995.92, 250.00, 038.9, 584.9, 428.0]\n",
            "5074       99992  ...                      [584.9, 530.81, 401.9, 285.1]\n",
            "5075       99995  ...  [272.4, 285.1, 250.00, 414.01, 428.0, V45.81, ...\n",
            "5076       99999  ...                                    [250.00, 401.9]\n",
            "\n",
            "[5077 rows x 5 columns]}\n"
          ],
          "name": "stdout"
        }
      ]
    },
    {
      "cell_type": "code",
      "metadata": {
        "id": "gC1M8bBYY4eA",
        "colab_type": "code",
        "colab": {}
      },
      "source": [
        "train_df= splits_top_K['train']\n",
        "test_df= splits_top_K['test']\n",
        "dev_df= splits_top_K['dev']\n"
      ],
      "execution_count": 0,
      "outputs": []
    },
    {
      "cell_type": "code",
      "metadata": {
        "id": "7cP2pMEAZFG2",
        "colab_type": "code",
        "colab": {}
      },
      "source": [
        "train_df.to_csv('/content/drive/Shared drives/NLP Seminar/Data/Train_Tokenized_Labled_Top_K_Labels')\n",
        "test_df.to_csv('/content/drive/Shared drives/NLP Seminar/Data/Test_Tokenized_Labled_Top_K_Labels')\n",
        "dev_df.to_csv('/content/drive/Shared drives/NLP Seminar/Data/Dev_Tokenized_Labled_Top_K_Labels')"
      ],
      "execution_count": 0,
      "outputs": []
    },
    {
      "cell_type": "markdown",
      "metadata": {
        "id": "8biwwp5u4F4a",
        "colab_type": "text"
      },
      "source": [
        "# 6.Auxillary Function\n",
        "Used to Format ICD Codes"
      ]
    },
    {
      "cell_type": "code",
      "metadata": {
        "id": "h-hUiKQ44I8j",
        "colab_type": "code",
        "colab": {}
      },
      "source": [
        "def reformat(code, is_diag):\n",
        "    \"\"\"\n",
        "        Put a period in the right place because the MIMIC-3 data files exclude them.\n",
        "        Generally, procedure codes have dots after the first two digits, \n",
        "        while diagnosis codes have dots after the first three digits.\n",
        "    \"\"\"\n",
        "    if code == '':\n",
        "        return code\n",
        "        \n",
        "    code = ''.join(code.split('.'))\n",
        "    if is_diag:\n",
        "        if code.startswith('E'):\n",
        "            if len(code) > 4:\n",
        "                code = code[:4] + '.' + code[4:] if len(code) > 4 else code\n",
        "        else:\n",
        "            code = code[:3] + '.' + code[3:] if len(code) > 3 else code\n",
        "    else:\n",
        "        code = code[:2] + '.' + code[2:] if len(code) > 2 else code\n",
        "    return code"
      ],
      "execution_count": 0,
      "outputs": []
    },
    {
      "cell_type": "markdown",
      "metadata": {
        "id": "Rdlig66pd9CK",
        "colab_type": "text"
      },
      "source": [
        "# !-------------------------------------------!\n"
      ]
    }
  ]
}