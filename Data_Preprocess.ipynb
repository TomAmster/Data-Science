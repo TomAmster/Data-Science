{
  "nbformat": 4,
  "nbformat_minor": 0,
  "metadata": {
    "colab": {
      "name": "Data Preprocess",
      "provenance": [],
      "authorship_tag": "ABX9TyPYp5G5hI1UQ7dnXU0UvayX",
      "include_colab_link": true
    },
    "kernelspec": {
      "name": "python3",
      "display_name": "Python 3"
    }
  },
  "cells": [
    {
      "cell_type": "markdown",
      "metadata": {
        "id": "view-in-github",
        "colab_type": "text"
      },
      "source": [
        "<a href=\"https://colab.research.google.com/github/TomAmster/Data-Science/blob/master/Data_Preprocess.ipynb\" target=\"_parent\"><img src=\"https://colab.research.google.com/assets/colab-badge.svg\" alt=\"Open In Colab\"/></a>"
      ]
    },
    {
      "cell_type": "code",
      "metadata": {
        "id": "Hw1loO-BWSJg",
        "colab_type": "code",
        "outputId": "53270062-5819-4756-9306-ff2083523e3d",
        "colab": {
          "base_uri": "https://localhost:8080/",
          "height": 122
        }
      },
      "source": [
        "from google.colab import drive\n",
        "drive.mount('/content/drive', force_remount=True)"
      ],
      "execution_count": 0,
      "outputs": [
        {
          "output_type": "stream",
          "text": [
            "Go to this URL in a browser: https://accounts.google.com/o/oauth2/auth?client_id=947318989803-6bn6qk8qdgf4n4g3pfee6491hc0brc4i.apps.googleusercontent.com&redirect_uri=urn%3aietf%3awg%3aoauth%3a2.0%3aoob&response_type=code&scope=email%20https%3a%2f%2fwww.googleapis.com%2fauth%2fdocs.test%20https%3a%2f%2fwww.googleapis.com%2fauth%2fdrive%20https%3a%2f%2fwww.googleapis.com%2fauth%2fdrive.photos.readonly%20https%3a%2f%2fwww.googleapis.com%2fauth%2fpeopleapi.readonly\n",
            "\n",
            "Enter your authorization code:\n",
            "··········\n",
            "Mounted at /content/drive\n"
          ],
          "name": "stdout"
        }
      ]
    },
    {
      "cell_type": "code",
      "metadata": {
        "id": "8dx4duByWWRH",
        "colab_type": "code",
        "colab": {}
      },
      "source": [
        "import csv\n",
        "import pandas as pd\n",
        "import matplotlib.pyplot as plt\n",
        "import seaborn as sns \n",
        "import numpy as np"
      ],
      "execution_count": 0,
      "outputs": []
    },
    {
      "cell_type": "code",
      "metadata": {
        "id": "_Fk0Q-z-WW4s",
        "colab_type": "code",
        "colab": {}
      },
      "source": [
        "drive_dir = '/content/drive/Shared drives/DS Workshop/data/'\n",
        "train_path = drive_dir + 'train.csv'\n",
        "train = pd.read_csv(train_path)\n",
        "bids_path = drive_dir + 'bids.csv/bids.csv'\n",
        "bids = pd.read_csv(bids_path)\n",
        "test_path = drive_dir + 'test.csv'\n",
        "test = pd.read_csv(test_path)"
      ],
      "execution_count": 0,
      "outputs": []
    },
    {
      "cell_type": "code",
      "metadata": {
        "id": "ptYyI2C2XS6v",
        "colab_type": "code",
        "colab": {}
      },
      "source": [
        "bid = pd.merge(train, bids, on='bidder_id', how='left')"
      ],
      "execution_count": 0,
      "outputs": []
    },
    {
      "cell_type": "markdown",
      "metadata": {
        "id": "j44VQRL0Xe-r",
        "colab_type": "text"
      },
      "source": [
        "# **Data Preprocessing**"
      ]
    },
    {
      "cell_type": "markdown",
      "metadata": {
        "id": "9eJvUwRRXc6j",
        "colab_type": "text"
      },
      "source": [
        "## Data Cleaning"
      ]
    },
    {
      "cell_type": "markdown",
      "metadata": {
        "id": "wGKXqBfUXo_k",
        "colab_type": "text"
      },
      "source": [
        "### Checking Missing Values"
      ]
    },
    {
      "cell_type": "code",
      "metadata": {
        "id": "ANFEGDqnXaFc",
        "colab_type": "code",
        "outputId": "e5065c25-acb8-4c58-c355-a013b50768a4",
        "colab": {
          "base_uri": "https://localhost:8080/",
          "height": 238
        }
      },
      "source": [
        "pd.isnull(bid).sum()"
      ],
      "execution_count": 0,
      "outputs": [
        {
          "output_type": "execute_result",
          "data": {
            "text/plain": [
              "bidder_id             0\n",
              "payment_account       0\n",
              "address               0\n",
              "outcome               0\n",
              "bid_id               29\n",
              "auction              29\n",
              "merchandise          29\n",
              "device               29\n",
              "time                 29\n",
              "country            2730\n",
              "ip                   29\n",
              "url                  29\n",
              "dtype: int64"
            ]
          },
          "metadata": {
            "tags": []
          },
          "execution_count": 5
        }
      ]
    },
    {
      "cell_type": "markdown",
      "metadata": {
        "id": "AAS_dheTX9Ay",
        "colab_type": "text"
      },
      "source": [
        "### Check for bidder without bids"
      ]
    },
    {
      "cell_type": "code",
      "metadata": {
        "id": "9oSuGG1xXukd",
        "colab_type": "code",
        "outputId": "ebd5b031-ccda-4c38-d608-d47a7ac7493c",
        "colab": {
          "base_uri": "https://localhost:8080/",
          "height": 34
        }
      },
      "source": [
        "nobids_train = bid[pd.isnull(bid['bid_id'])]['bidder_id'].unique()\n",
        "print(\"amout of bidders without bids\",len(nobids_train))\n"
      ],
      "execution_count": 0,
      "outputs": [
        {
          "output_type": "stream",
          "text": [
            "amout of bidders without bids 29\n"
          ],
          "name": "stdout"
        }
      ]
    },
    {
      "cell_type": "markdown",
      "metadata": {
        "id": "DN2xp-D6YUXK",
        "colab_type": "text"
      },
      "source": [
        "### Drop Bidders without bids"
      ]
    },
    {
      "cell_type": "code",
      "metadata": {
        "id": "mgsGwQvcYFrt",
        "colab_type": "code",
        "colab": {}
      },
      "source": [
        "bid = bid[~bid['bidder_id'].isin(nobids_train)]"
      ],
      "execution_count": 0,
      "outputs": []
    },
    {
      "cell_type": "code",
      "metadata": {
        "id": "HgeScjdCYb37",
        "colab_type": "code",
        "outputId": "39954b47-1179-4739-b709-8904522e337e",
        "colab": {
          "base_uri": "https://localhost:8080/",
          "height": 238
        }
      },
      "source": [
        "pd.isnull(bid).sum()"
      ],
      "execution_count": 0,
      "outputs": [
        {
          "output_type": "execute_result",
          "data": {
            "text/plain": [
              "bidder_id             0\n",
              "payment_account       0\n",
              "address               0\n",
              "outcome               0\n",
              "bid_id                0\n",
              "auction               0\n",
              "merchandise           0\n",
              "device                0\n",
              "time                  0\n",
              "country            2701\n",
              "ip                    0\n",
              "url                   0\n",
              "dtype: int64"
            ]
          },
          "metadata": {
            "tags": []
          },
          "execution_count": 9
        }
      ]
    },
    {
      "cell_type": "code",
      "metadata": {
        "id": "don_lRwNYgLi",
        "colab_type": "code",
        "outputId": "fcc8ba3c-e080-420d-9d43-e1e504f07671",
        "colab": {
          "base_uri": "https://localhost:8080/",
          "height": 34
        }
      },
      "source": [
        "count_miss_ratio = pd.isnull(bid['country']).sum()/len(bid)*100\n",
        "print(f\" %0.2f %% observations missing country entry.\" %\n",
        "      float(count_miss_ratio))\n",
        "print()"
      ],
      "execution_count": 0,
      "outputs": [
        {
          "output_type": "stream",
          "text": [
            " 0.09 % observations missing country entry.\n"
          ],
          "name": "stdout"
        }
      ]
    },
    {
      "cell_type": "code",
      "metadata": {
        "id": "ehw7pnqcYmFa",
        "colab_type": "code",
        "outputId": "c8fe4841-a311-4fc5-dadd-5643cc056ac2",
        "colab": {
          "base_uri": "https://localhost:8080/",
          "height": 238
        }
      },
      "source": [
        "bid = bid.dropna()\n",
        "pd.isnull(bid).any()\n"
      ],
      "execution_count": 0,
      "outputs": [
        {
          "output_type": "execute_result",
          "data": {
            "text/plain": [
              "bidder_id          False\n",
              "payment_account    False\n",
              "address            False\n",
              "outcome            False\n",
              "bid_id             False\n",
              "auction            False\n",
              "merchandise        False\n",
              "device             False\n",
              "time               False\n",
              "country            False\n",
              "ip                 False\n",
              "url                False\n",
              "dtype: bool"
            ]
          },
          "metadata": {
            "tags": []
          },
          "execution_count": 11
        }
      ]
    },
    {
      "cell_type": "markdown",
      "metadata": {
        "id": "2Rd26Ecpen_w",
        "colab_type": "text"
      },
      "source": [
        "## Outliers"
      ]
    },
    {
      "cell_type": "markdown",
      "metadata": {
        "id": "aAQTVuEHfcKq",
        "colab_type": "text"
      },
      "source": [
        "###TO BE FILLED\n",
        "https://towardsdatascience.com/ways-to-detect-and-remove-the-outliers-404d16608dba"
      ]
    },
    {
      "cell_type": "code",
      "metadata": {
        "id": "TNEllNwOYooy",
        "colab_type": "code",
        "colab": {}
      },
      "source": [
        ""
      ],
      "execution_count": 0,
      "outputs": []
    },
    {
      "cell_type": "markdown",
      "metadata": {
        "id": "PB4A7tOkfqiK",
        "colab_type": "text"
      },
      "source": [
        "## Data Embedding & Representation"
      ]
    },
    {
      "cell_type": "markdown",
      "metadata": {
        "id": "n4lfRu2OjFKp",
        "colab_type": "text"
      },
      "source": [
        "### Representing Address and Payment Accounts with Bins"
      ]
    },
    {
      "cell_type": "code",
      "metadata": {
        "id": "bQjjXYbwjmdx",
        "colab_type": "code",
        "outputId": "0f3b27ee-385b-4daf-b81b-5ad92c3bce04",
        "colab": {
          "base_uri": "https://localhost:8080/",
          "height": 136
        }
      },
      "source": [
        "### Strip last 5 digits from payment__account and address\n",
        "temp_train = train\n",
        "temp_train.address = temp_train.address.apply(lambda x: x[:-5])\n",
        "temp_train.payment_account = temp_train.payment_account.apply(lambda x: x[:-5])\n",
        "\n",
        "## DO THE SAME FOR TEST\n",
        "temp_test = test\n",
        "temp_test.address = temp_test.address.apply(lambda x: x[:-5])\n",
        "temp_test.payment_account = temp_test.payment_account.apply(lambda x: x[:-5])\n",
        "\n",
        "## Create Feature - is payment account and address are equal\n",
        "temp_train['payment_account_prefix_same_as_address_prefix'] = temp_train['address']==temp_train['payment_account']\n",
        "temp_test['payment_account_prefix_same_as_address_prefix'] = temp_test['address']==temp_test['payment_account']\n",
        "\n",
        "## Create Feature from Address - \n",
        "## Convert Rare and infrequent addresses to bins \n",
        "## Create One-Hot Encoding of the Rest of the Addresses\n",
        "temp = temp_train[['bidder_id', 'address']].groupby('address').size().reset_index().sort_values(0, ascending=False)\n",
        "temp = \ttemp.rename(columns = {0:'address_count'})\n",
        "infrequent_addresses = temp[temp.address_count >= 2][temp.address_count < 6].address.values\n",
        "rare_addresses = temp[temp.address_count < 2].address.values\n",
        "temp_train['address'].loc[temp_train.address.isin(rare_addresses)] = 'rare_address'\n",
        "temp_train['address'].loc[temp_train.address.isin(infrequent_addresses)] = 'infrequent_address'\n",
        "temp = pd.get_dummies(temp_train[['address']])\n",
        "temp_train = pd.concat([temp_train, temp], axis=1)\n",
        "###-------------\n",
        "temp2 = temp_test[['bidder_id', 'address']].groupby('address').size().reset_index().sort_values(0, ascending=False)\n",
        "temp2 = temp2.rename(columns = {0:'address_count'})\n",
        "infrequent_addresses2 = temp2[temp2.address_count >= 2][temp2.address_count < 6].address.values\n",
        "rare_addresses2= temp2[temp2.address_count < 2].address.values\n",
        "temp_test['address'].loc[temp_test.address.isin(rare_addresses2)] = 'rare_address'\n",
        "temp_test['address'].loc[temp_test.address.isin(infrequent_addresses2)] = 'infrequent_address'\n",
        "temp2 = pd.get_dummies(temp_test[['address']])\n",
        "temp_test = pd.concat([temp_test, temp2], axis=1)"
      ],
      "execution_count": 0,
      "outputs": [
        {
          "output_type": "stream",
          "text": [
            "/usr/local/lib/python3.6/dist-packages/ipykernel_launcher.py:19: UserWarning: Boolean Series key will be reindexed to match DataFrame index.\n",
            "/usr/local/lib/python3.6/dist-packages/pandas/core/indexing.py:205: SettingWithCopyWarning: \n",
            "A value is trying to be set on a copy of a slice from a DataFrame\n",
            "\n",
            "See the caveats in the documentation: http://pandas.pydata.org/pandas-docs/stable/user_guide/indexing.html#returning-a-view-versus-a-copy\n",
            "  self._setitem_with_indexer(indexer, value)\n",
            "/usr/local/lib/python3.6/dist-packages/ipykernel_launcher.py:28: UserWarning: Boolean Series key will be reindexed to match DataFrame index.\n"
          ],
          "name": "stderr"
        }
      ]
    },
    {
      "cell_type": "code",
      "metadata": {
        "id": "zLd64zvljr_3",
        "colab_type": "code",
        "outputId": "849d5ab3-463f-4759-e625-74663c34e1a2",
        "colab": {
          "base_uri": "https://localhost:8080/",
          "height": 170
        }
      },
      "source": [
        "## Create Feature from Payment Accounts - \n",
        "## Convert Rare and infrequent Payment Accounts to bins \n",
        "## Create One-Hot Encoding of the Rest of the Payment Accounts\n",
        "temp = temp_train[['bidder_id', 'payment_account']].groupby('payment_account').size().reset_index().sort_values(0, ascending=False)\n",
        "temp = temp.rename(columns = {0:'payment_account_count'})\n",
        "temp2 = temp_test[['bidder_id', 'payment_account']].groupby('payment_account').size().reset_index().sort_values(0, ascending=False)\n",
        "temp2 = temp2.rename(columns = {0:'payment_account_count'})\n",
        "\n",
        "infrequent_payment_account = temp[temp.payment_account_count >= 2][temp.payment_account_count < 6].payment_account.values\n",
        "rare_payment_account = temp[temp.payment_account_count < 2].payment_account.values\n",
        "temp_train['payment_account'].loc[temp_train.payment_account.isin(rare_payment_account)] = 'rare_account'\n",
        "temp_train['payment_account'].loc[temp_train.payment_account.isin(infrequent_payment_account)] = 'infrequent_account'\t\n",
        "temp =\tpd.get_dummies(temp_train[['payment_account']])\n",
        "temp_train = pd.concat([temp_train, temp], axis=1)\n",
        "\n",
        "infrequent_payment_account2 = temp2[temp2.payment_account_count >= 2][temp2.payment_account_count < 6].payment_account.values\n",
        "rare_payment_account2 = temp2[temp2.payment_account_count < 2].payment_account.values\n",
        "temp_test['payment_account'].loc[temp_test.payment_account.isin(rare_payment_account2)] = 'rare_account'\n",
        "temp_test['payment_account'].loc[temp_test.payment_account.isin(infrequent_payment_account2)] = 'infrequent_account'\t\n",
        "temp2 =\tpd.get_dummies(temp_test[['payment_account']])\n",
        "temp_test = pd.concat([temp_test, temp2], axis=1)\n",
        "\n"
      ],
      "execution_count": 0,
      "outputs": [
        {
          "output_type": "stream",
          "text": [
            "/usr/local/lib/python3.6/dist-packages/ipykernel_launcher.py:6: UserWarning: Boolean Series key will be reindexed to match DataFrame index.\n",
            "  \n",
            "/usr/local/lib/python3.6/dist-packages/pandas/core/indexing.py:205: SettingWithCopyWarning: \n",
            "A value is trying to be set on a copy of a slice from a DataFrame\n",
            "\n",
            "See the caveats in the documentation: http://pandas.pydata.org/pandas-docs/stable/user_guide/indexing.html#returning-a-view-versus-a-copy\n",
            "  self._setitem_with_indexer(indexer, value)\n",
            "/usr/local/lib/python3.6/dist-packages/ipykernel_launcher.py:13: UserWarning: Boolean Series key will be reindexed to match DataFrame index.\n",
            "  del sys.path[0]\n"
          ],
          "name": "stderr"
        }
      ]
    },
    {
      "cell_type": "markdown",
      "metadata": {
        "id": "PB21J2SQgsMn",
        "colab_type": "text"
      },
      "source": [
        "## One-Hot Encoding Merchandise Features - Categorical Information"
      ]
    },
    {
      "cell_type": "code",
      "metadata": {
        "id": "G1CoJ74rg9LH",
        "colab_type": "code",
        "colab": {}
      },
      "source": [
        "data_train =pd.merge(temp_train,bids,on='bidder_id', how='left') \n",
        "data_test = pd.merge(temp_test,bids,on='bidder_id', how='left')"
      ],
      "execution_count": 0,
      "outputs": []
    },
    {
      "cell_type": "code",
      "metadata": {
        "id": "kWyD0gLyiG_g",
        "colab_type": "code",
        "outputId": "92021406-f3e8-420f-f131-b2fb4d07f770",
        "colab": {
          "base_uri": "https://localhost:8080/",
          "height": 374
        }
      },
      "source": [
        "print(data_train.merchandise.value_counts())\n",
        "print(data_test.merchandise.value_counts())"
      ],
      "execution_count": 0,
      "outputs": [
        {
          "output_type": "stream",
          "text": [
            "sporting goods      1169724\n",
            "mobile               597488\n",
            "jewelry              592735\n",
            "home goods           407957\n",
            "office equipment     168638\n",
            "furniture             87807\n",
            "computers             21400\n",
            "books and music       15242\n",
            "auto parts             9757\n",
            "clothing                476\n",
            "Name: merchandise, dtype: int64\n",
            "mobile              1529099\n",
            "jewelry             1309323\n",
            "home goods           816277\n",
            "sporting goods       685483\n",
            "office equipment     121200\n",
            "computers             59684\n",
            "books and music       36699\n",
            "clothing              15971\n",
            "furniture             11374\n",
            "Name: merchandise, dtype: int64\n"
          ],
          "name": "stdout"
        }
      ]
    },
    {
      "cell_type": "code",
      "metadata": {
        "id": "aklp5rsif9Hz",
        "colab_type": "code",
        "colab": {}
      },
      "source": [
        "a = data_train.groupby('bidder_id').first().reset_index()\n",
        "b = pd.get_dummies(a['merchandise'], columns='merchandise')\n",
        "data_train = pd.concat([bid, b], axis=1)\n",
        "\n",
        "\n",
        "a = data_test.groupby('bidder_id').first().reset_index()\n",
        "b = pd.get_dummies(a['merchandise'], columns='merchandise')\n",
        "data_test= pd.concat([data_test, b], axis=1)\n"
      ],
      "execution_count": 0,
      "outputs": []
    },
    {
      "cell_type": "code",
      "metadata": {
        "id": "VhQSss-9hQwQ",
        "colab_type": "code",
        "colab": {}
      },
      "source": [
        ""
      ],
      "execution_count": 0,
      "outputs": []
    }
  ]
}